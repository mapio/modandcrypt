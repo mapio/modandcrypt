{
 "cells": [
  {
   "cell_type": "markdown",
   "metadata": {},
   "source": [
    "# Aritmetica moldulare\n",
    "\n",
    "# https://it.wikipedia.org/wiki/Aritmetica_modulare\n",
    "\n",
    "* modulo\n",
    "* congruenza\n",
    "* gruppo additivo (e inversi)\n",
    "* guppo moltiplicativo (e inversi)\n",
    "  * gcd, bezut\n",
    "  * il toziente di Eulero\n"
   ]
  },
  {
   "cell_type": "markdown",
   "metadata": {},
   "source": []
  }
 ],
 "metadata": {
  "kernelspec": {
   "display_name": "dir-jupyter-fun-b812212f80584f228cf2fbd10554d7ac",
   "language": "python",
   "name": "python3"
  },
  "language_info": {
   "codemirror_mode": {
    "name": "ipython",
    "version": 3
   },
   "file_extension": ".py",
   "mimetype": "text/x-python",
   "name": "python",
   "nbconvert_exporter": "python",
   "pygments_lexer": "ipython3",
   "version": "3.10.12"
  }
 },
 "nbformat": 4,
 "nbformat_minor": 2
}
