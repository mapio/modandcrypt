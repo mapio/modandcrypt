{
 "cells": [
  {
   "cell_type": "markdown",
   "metadata": {},
   "source": [
    "# https://youtu.be/YEBfamv-_do\n",
    "# https://youtu.be/wXB-V_Keiu8\n",
    "\n",
    "# https://www.wikiwand.com/en/RSA_(cryptosystem)\n",
    "# https://bigideascryptok12.bitbucket.io/\n",
    "# https://math.stackexchange.com/questions/20157/rsa-in-plain-english\n",
    "# http://web.math.unifi.it/users/piochi/MATERIALI_OL/aritfinite-crittograf/crittologia.htm\n"
   ]
  },
  {
   "cell_type": "markdown",
   "metadata": {},
   "source": [
    "* sorgente, messaggio, canale\n",
    "* testo in chiaro, crittogramma, chiave\n",
    "* legge di Kerckhoffs\n",
    "\n",
    "* monoalfabetico\n",
    "\t- 500/600 AC\n",
    "\t\tEbrei (Atbash)\n",
    "\t \tGreci (scytale)\n",
    "\t- 100 AC Cifrario di Cesare (Erodoto, Svetonio)\n",
    "\t- 800 Al-Kindi (arabia, analisi frequenziale)\n",
    "\t- 2006 Bernardo Provenzano\n",
    "\n",
    "* polialfabetico\n",
    "\t- 1467 Leone Battista Alberti\n",
    "\t- 1553 Giovan Battista Bellaso\n",
    "\t- 1586 Blaise de Vigenère (diplomatico)\n",
    "\t- 1854 Charles Babbage (inglese, computer)\n",
    "\t- 1863 Friedrich Kasiski (fanteria, archeologo)\n",
    "\t- 1918 Gilbert Vernam (AT&T one time pad)\n",
    "\t- 1945 Claude Shannon (matematico)\n",
    "\n",
    "* chiave pubblica\n",
    " \t- 1974 Ralph Merkle\n",
    "\t- 1976 Whitfield Diffie, Martin Hellman\n",
    "\t\t- colori [https://youtu.be/YEBfamv-_do]\n",
    "\t\t- lucchetti (Bob manda il suo lucchetto ad Alice)\n",
    "\t- 1977 Ron Rivest, Adi Shamir, Leonard Adleman (RSA)\n",
    "\n",
    "\n",
    "\n",
    "\n",
    "- David Kahn, The Codebreakers: The Story of Secret Writing, Macmillan, 1967\n",
    "- Simon Singh, The code Book: The Science of Secrecy from Ancient Egypt to Quantum Cryptography, 2000\n",
    "\n",
    "\n"
   ]
  },
  {
   "cell_type": "markdown",
   "metadata": {
    "slideshow": {
     "slide_type": "slide"
    }
   },
   "source": [
    "[]: # Title: Slides\n",
    "\n",
    "\"La Cryptographie Militaire\", Auguste Kerckhoffs (1883)"
   ]
  },
  {
   "cell_type": "markdown",
   "metadata": {
    "slideshow": {
     "slide_type": "slide"
    }
   },
   "source": [
    "# Aritmetica moldulare\n",
    "\n",
    "# https://it.wikipedia.org/wiki/Aritmetica_modulare\n",
    "\n",
    "* modulo\n",
    "* congruenza\n",
    "* gruppo additivo (e inversi)\n",
    "* guppo moltiplicativo (e inversi)\n",
    "  * MCD, bezut\n",
    "  * il toziente di Eulero\n"
   ]
  },
  {
   "cell_type": "code",
   "execution_count": 2,
   "metadata": {
    "slideshow": {
     "slide_type": "slide"
    },
    "tags": [
     "hide"
    ]
   },
   "outputs": [
    {
     "data": {
      "text/plain": [
       "3"
      ]
     },
     "execution_count": 2,
     "metadata": {},
     "output_type": "execute_result"
    }
   ],
   "source": [
    "def f(x):\n",
    "  return x\n",
    "\n",
    "f(3)"
   ]
  },
  {
   "cell_type": "code",
   "execution_count": null,
   "metadata": {
    "slideshow": {
     "slide_type": "slide"
    }
   },
   "outputs": [],
   "source": [
    "def _sgr(what, code = 1, target = None):\n",
    "  if target is not None and what != target: return what\n",
    "  if isinstance(what, (list, range)):\n",
    "    return [f'\\033[{code}m{e}\\033[0m' for e in what]\n",
    "  else:\n",
    "    return f'\\033[{code}m{what}\\033[0m'\n"
   ]
  }
 ],
 "metadata": {
  "kernelspec": {
   "display_name": "dir-jupyter-fun-b812212f80584f228cf2fbd10554d7ac",
   "language": "python",
   "name": "python3"
  },
  "language_info": {
   "codemirror_mode": {
    "name": "ipython",
    "version": 3
   },
   "file_extension": ".py",
   "mimetype": "text/x-python",
   "name": "python",
   "nbconvert_exporter": "python",
   "pygments_lexer": "ipython3",
   "version": "3.10.12"
  }
 },
 "nbformat": 4,
 "nbformat_minor": 2
}
