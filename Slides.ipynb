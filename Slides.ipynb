{
 "cells": [
  {
   "cell_type": "code",
   "execution_count": 1,
   "metadata": {
    "execution": {
     "iopub.execute_input": "2024-02-22T17:16:06.042570Z",
     "iopub.status.busy": "2024-02-22T17:16:06.042250Z",
     "iopub.status.idle": "2024-02-22T17:16:06.273999Z",
     "shell.execute_reply": "2024-02-22T17:16:06.273566Z"
    },
    "slideshow": {
     "slide_type": "skip"
    }
   },
   "outputs": [],
   "source": [
    "from itertools import cycle, islice\n",
    "\n",
    "from modandcrypt import *"
   ]
  },
  {
   "cell_type": "markdown",
   "metadata": {
    "slideshow": {
     "slide_type": "slide"
    }
   },
   "source": [
    "<center>\n",
    "\n",
    "# Crittografia \n",
    "\n",
    "## &amp;\n",
    "\n",
    "# Aritmetica modulare\n",
    "\n",
    "&nbsp;\n",
    "\n",
    "&nbsp;\n",
    "\n",
    "&nbsp;\n",
    "\n",
    "### Massimo Santini\n",
    "\n",
    "</center>"
   ]
  },
  {
   "cell_type": "markdown",
   "metadata": {
    "slideshow": {
     "slide_type": "slide"
    }
   },
   "source": [
    "<center>\n",
    "\n",
    "# Cosa\n",
    "\n",
    "</center>\n",
    "\n",
    "<img src=\"./img/scitala.png\" style=\"width: 40%; margin: auto; display: block;\" />"
   ]
  },
  {
   "cell_type": "markdown",
   "metadata": {
    "slideshow": {
     "slide_type": "slide"
    }
   },
   "source": [
    "<center>\n",
    "\n",
    "# Come\n",
    "\n",
    "</center>\n",
    "\n",
    "<img src=\"./img/cow.png\" style=\"width: 40%; margin: auto; display: block;\" />"
   ]
  },
  {
   "cell_type": "markdown",
   "metadata": {
    "slideshow": {
     "slide_type": "slide"
    }
   },
   "source": [
    "<center>\n",
    "\n",
    "# Perché\n",
    "\n",
    "</center>\n",
    "\n",
    "<img src=\"./img/Gauss.png\" style=\"width: 40%; margin: auto; display: block;\" />"
   ]
  },
  {
   "cell_type": "markdown",
   "metadata": {
    "slideshow": {
     "slide_type": "slide"
    }
   },
   "source": [
    "> Queste note sono generate a partire da un notebook [Jupyter](https://jupyter.org/)\n",
    "> disponibile su [GitHub](https://github.com/mapio/modandcrypt).\n",
    "> In particolare, molto del materiale qui visualizzato è prodotto da del codice in \n",
    "> [Python](https://www.python.org/) sviluppato appositamente e distribuito in modalità\n",
    "> *open source* e che quindi potete liberamente studiare, modificare e distribuire.\n",
    "> Se vi piace programmare, date una occhiata!\n",
    "\n",
    "<img src=\"./img/qr.png\" style=\"width: 40%; margin: auto; display: block;\" />"
   ]
  },
  {
   "cell_type": "markdown",
   "metadata": {
    "slideshow": {
     "slide_type": "slide"
    }
   },
   "source": [
    "<center>\n",
    "\n",
    "# Crittografia\n",
    "\n",
    "## A chiave simmetrica\n",
    "\n",
    "</center>"
   ]
  },
  {
   "cell_type": "markdown",
   "metadata": {
    "slideshow": {
     "slide_type": "slide"
    }
   },
   "source": [
    "<img src=\"./img/parties.png\" style=\"width: 90%; margin: auto; display: block;\" />"
   ]
  },
  {
   "cell_type": "markdown",
   "metadata": {
    "slideshow": {
     "slide_type": "subslide"
    }
   },
   "source": [
    "$$\\Huge C(p, k) = c \\qquad\\text{e}\\qquad D(c, k) = p$$"
   ]
  },
  {
   "cell_type": "markdown",
   "metadata": {
    "slideshow": {
     "slide_type": "fragment"
    }
   },
   "source": [
    "$$\\Huge D(C(p, k), k) = p$$"
   ]
  },
  {
   "cell_type": "markdown",
   "metadata": {
    "slideshow": {
     "slide_type": "fragment"
    }
   },
   "source": [
    "$$\\Huge D(c) = p$$"
   ]
  },
  {
   "cell_type": "markdown",
   "metadata": {
    "slideshow": {
     "slide_type": "slide"
    }
   },
   "source": [
    "<center>\n",
    "\n",
    "# Monoalfabetica\n",
    "\n",
    "</center>"
   ]
  },
  {
   "cell_type": "markdown",
   "metadata": {
    "slideshow": {
     "slide_type": "slide"
    }
   },
   "source": [
    "<img src=\"./img/ruota.png\" style=\"width: 50%; margin: auto; display: block;\" />"
   ]
  },
  {
   "cell_type": "code",
   "execution_count": 2,
   "metadata": {
    "execution": {
     "iopub.execute_input": "2024-02-22T17:16:06.276648Z",
     "iopub.status.busy": "2024-02-22T17:16:06.276436Z",
     "iopub.status.idle": "2024-02-22T17:16:06.279681Z",
     "shell.execute_reply": "2024-02-22T17:16:06.279278Z"
    },
    "slideshow": {
     "slide_type": "slide"
    },
    "tags": [
     "hide"
    ]
   },
   "outputs": [
    {
     "name": "stdout",
     "output_type": "stream",
     "text": [
      "┌───────────┬───┬───┬───┬───┬───┬───┬───┬────┬────┬────┬────┬────┬────┐\n",
      "│ \u001b[1mlettera\u001b[0m   │ A │ B │ C │ D │ E │ F │ … │ W  │ X  │ Y  │ Z  │ ␢  │ ↩  │\n",
      "├───────────┼───┼───┼───┼───┼───┼───┼───┼────┼────┼────┼────┼────┼────┤\n",
      "│ \u001b[1mposizione\u001b[0m │ 0 │ 1 │ 2 │ 3 │ 4 │ 5 │ … │ 22 │ 23 │ 24 │ 25 │ 26 │ 27 │\n",
      "└───────────┴───┴───┴───┴───┴───┴───┴───┴────┴────┴────┴────┴────┴────┘\n"
     ]
    }
   ],
   "source": [
    "pos = list(range(NUM_SEMPLICI))\n",
    "n = 6\n",
    "tabella([\n",
    "  SEMPLICI_VISUALIZZABILI[:n] + ['…'] + SEMPLICI_VISUALIZZABILI[-n:], \n",
    "  pos[:n] + ['…'] + pos[-n:]\n",
    "], index = sgr(['lettera', 'posizione']))"
   ]
  },
  {
   "cell_type": "code",
   "execution_count": 3,
   "metadata": {
    "execution": {
     "iopub.execute_input": "2024-02-22T17:16:06.296857Z",
     "iopub.status.busy": "2024-02-22T17:16:06.296713Z",
     "iopub.status.idle": "2024-02-22T17:16:06.299601Z",
     "shell.execute_reply": "2024-02-22T17:16:06.299069Z"
    },
    "slideshow": {
     "slide_type": "slide"
    },
    "tags": [
     "hide"
    ]
   },
   "outputs": [
    {
     "name": "stdout",
     "output_type": "stream",
     "text": [
      "┌───────────┬───┬───┬────┬────┬───┬────┬────┬───┬────┐\n",
      "│ \u001b[1mtesto\u001b[0m     │ B │ E │ L  │ L  │ A │    │ Z  │ I │ O  │\n",
      "├───────────┼───┼───┼────┼────┼───┼────┼────┼───┼────┤\n",
      "│ \u001b[1mposizioni\u001b[0m │ 1 │ 4 │ 11 │ 11 │ 0 │ 26 │ 25 │ 8 │ 14 │\n",
      "└───────────┴───┴───┴────┴────┴───┴────┴────┴───┴────┘\n"
     ]
    }
   ],
   "source": [
    "testo = 'BELLA ZIO'\n",
    "tabella([testo, a_posizioni(testo)], index = sgr(['testo','posizioni']))"
   ]
  },
  {
   "cell_type": "code",
   "execution_count": 4,
   "metadata": {
    "execution": {
     "iopub.execute_input": "2024-02-22T17:16:06.301767Z",
     "iopub.status.busy": "2024-02-22T17:16:06.301545Z",
     "iopub.status.idle": "2024-02-22T17:16:06.304713Z",
     "shell.execute_reply": "2024-02-22T17:16:06.304059Z"
    },
    "slideshow": {
     "slide_type": "slide"
    },
    "tags": [
     "hide"
    ]
   },
   "outputs": [
    {
     "name": "stdout",
     "output_type": "stream",
     "text": [
      "┌───────┬───┬───┬────┬────┬───┬────┬────┬────┬────┐\n",
      "│ \u001b[1ma\u001b[0m     │ 1 │ 4 │ 11 │ 11 │ 0 │ 26 │ 25 │  8 │ 14 │\n",
      "├───────┼───┼───┼────┼────┼───┼────┼────┼────┼────┤\n",
      "│ \u001b[1mb\u001b[0m     │ 3 │ 3 │  3 │  3 │ 3 │  3 │  3 │  3 │  3 │\n",
      "├───────┼───┼───┼────┼────┼───┼────┼────┼────┼────┤\n",
      "│ \u001b[1ma + b\u001b[0m │ 4 │ 7 │ 14 │ 14 │ 3 │  1 │  0 │ 11 │ 17 │\n",
      "└───────┴───┴───┴────┴────┴───┴────┴────┴────┴────┘\n"
     ]
    }
   ],
   "source": [
    "tabella([\n",
    "  a_posizioni(testo), \n",
    "  [3] * len(testo), \n",
    "  orologio_somma(a_posizioni(testo), [3] * len(testo))\n",
    "], index = sgr(['a', 'b', 'a + b']))"
   ]
  },
  {
   "cell_type": "markdown",
   "metadata": {
    "slideshow": {
     "slide_type": "slide"
    }
   },
   "source": [
    "<img src=\"./img/clock_sum.png\" style=\"width: 100%; margin: auto; display: block;\" />"
   ]
  },
  {
   "cell_type": "code",
   "execution_count": 5,
   "metadata": {
    "execution": {
     "iopub.execute_input": "2024-02-22T17:16:06.306583Z",
     "iopub.status.busy": "2024-02-22T17:16:06.306476Z",
     "iopub.status.idle": "2024-02-22T17:16:06.309139Z",
     "shell.execute_reply": "2024-02-22T17:16:06.308741Z"
    },
    "slideshow": {
     "slide_type": "slide"
    },
    "tags": [
     "hide"
    ]
   },
   "outputs": [
    {
     "name": "stdout",
     "output_type": "stream",
     "text": [
      "┌───┬─────┬─────┬──────┬──────┬─────┬─────┬──────┬──────┬──────┐\n",
      "│ \u001b[1mp\u001b[0m │ B:1 │ E:4 │ L:11 │ L:11 │ A:0 │ :26 │ Z:25 │ I:8  │ O:14 │\n",
      "├───┼─────┼─────┼──────┼──────┼─────┼─────┼──────┼──────┼──────┤\n",
      "│ \u001b[1mk\u001b[0m │ D:3 │ D:3 │ D:3  │ D:3  │ D:3 │ D:3 │ D:3  │ D:3  │ D:3  │\n",
      "├───┼─────┼─────┼──────┼──────┼─────┼─────┼──────┼──────┼──────┤\n",
      "│ \u001b[1mc\u001b[0m │ E:4 │ H:7 │ O:14 │ O:14 │ D:3 │ B:1 │ A:0  │ L:11 │ R:17 │\n",
      "└───┴─────┴─────┴──────┴──────┴─────┴─────┴──────┴──────┴──────┘\n"
     ]
    }
   ],
   "source": [
    "c = cifra(testo, 'D')"
   ]
  },
  {
   "cell_type": "code",
   "execution_count": 6,
   "metadata": {
    "execution": {
     "iopub.execute_input": "2024-02-22T17:16:06.310848Z",
     "iopub.status.busy": "2024-02-22T17:16:06.310753Z",
     "iopub.status.idle": "2024-02-22T17:16:06.312766Z",
     "shell.execute_reply": "2024-02-22T17:16:06.312481Z"
    },
    "slideshow": {
     "slide_type": "fragment"
    },
    "tags": [
     "hide"
    ]
   },
   "outputs": [
    {
     "name": "stdout",
     "output_type": "stream",
     "text": [
      "EHOODBALR\n"
     ]
    }
   ],
   "source": [
    "print(c) "
   ]
  },
  {
   "cell_type": "code",
   "execution_count": 7,
   "metadata": {
    "execution": {
     "iopub.execute_input": "2024-02-22T17:16:06.314622Z",
     "iopub.status.busy": "2024-02-22T17:16:06.314392Z",
     "iopub.status.idle": "2024-02-22T17:16:06.316710Z",
     "shell.execute_reply": "2024-02-22T17:16:06.316399Z"
    },
    "slideshow": {
     "slide_type": "slide"
    },
    "tags": [
     "hide"
    ]
   },
   "outputs": [
    {
     "name": "stdout",
     "output_type": "stream",
     "text": [
      "┌───┬──────┬──────┬──────┬──────┬──────┬──────┬──────┬──────┬──────┐\n",
      "│ \u001b[1mc\u001b[0m │ E:4  │ H:7  │ O:14 │ O:14 │ D:3  │ B:1  │ A:0  │ L:11 │ R:17 │\n",
      "├───┼──────┼──────┼──────┼──────┼──────┼──────┼──────┼──────┼──────┤\n",
      "│ \u001b[1mk\u001b[0m │ Z:25 │ Z:25 │ Z:25 │ Z:25 │ Z:25 │ Z:25 │ Z:25 │ Z:25 │ Z:25 │\n",
      "├───┼──────┼──────┼──────┼──────┼──────┼──────┼──────┼──────┼──────┤\n",
      "│ \u001b[1mp\u001b[0m │ B:1  │ E:4  │ L:11 │ L:11 │ A:0  │ :26  │ Z:25 │ I:8  │ O:14 │\n",
      "└───┴──────┴──────┴──────┴──────┴──────┴──────┴──────┴──────┴──────┘\n"
     ]
    }
   ],
   "source": [
    "d = decifra(c, 'D')"
   ]
  },
  {
   "cell_type": "code",
   "execution_count": 8,
   "metadata": {
    "execution": {
     "iopub.execute_input": "2024-02-22T17:16:06.318560Z",
     "iopub.status.busy": "2024-02-22T17:16:06.318341Z",
     "iopub.status.idle": "2024-02-22T17:16:06.320200Z",
     "shell.execute_reply": "2024-02-22T17:16:06.319895Z"
    },
    "slideshow": {
     "slide_type": "fragment"
    },
    "tags": [
     "hide"
    ]
   },
   "outputs": [
    {
     "name": "stdout",
     "output_type": "stream",
     "text": [
      "BELLA ZIO\n"
     ]
    }
   ],
   "source": [
    "print(d)"
   ]
  },
  {
   "cell_type": "code",
   "execution_count": 9,
   "metadata": {
    "execution": {
     "iopub.execute_input": "2024-02-22T17:16:06.321981Z",
     "iopub.status.busy": "2024-02-22T17:16:06.321769Z",
     "iopub.status.idle": "2024-02-22T17:16:06.323682Z",
     "shell.execute_reply": "2024-02-22T17:16:06.323387Z"
    },
    "slideshow": {
     "slide_type": "slide"
    }
   },
   "outputs": [],
   "source": [
    "def C(p, k):\n",
    "  return da_posizioni(\n",
    "    orologio_somma(\n",
    "      a_posizioni(p), \n",
    "      a_posizioni(k)\n",
    "    )\n",
    "  )"
   ]
  },
  {
   "cell_type": "code",
   "execution_count": 10,
   "metadata": {
    "execution": {
     "iopub.execute_input": "2024-02-22T17:16:06.325379Z",
     "iopub.status.busy": "2024-02-22T17:16:06.325186Z",
     "iopub.status.idle": "2024-02-22T17:16:06.327020Z",
     "shell.execute_reply": "2024-02-22T17:16:06.326731Z"
    },
    "slideshow": {
     "slide_type": "fragment"
    }
   },
   "outputs": [],
   "source": [
    "def D(c, k):\n",
    "  return da_posizioni(\n",
    "    orologio_somma(\n",
    "      a_posizioni(c), \n",
    "      a_posizioni(\n",
    "        inverti(k)\n",
    "      )\n",
    "    )\n",
    "  )"
   ]
  },
  {
   "cell_type": "code",
   "execution_count": 11,
   "metadata": {
    "execution": {
     "iopub.execute_input": "2024-02-22T17:16:06.328670Z",
     "iopub.status.busy": "2024-02-22T17:16:06.328569Z",
     "iopub.status.idle": "2024-02-22T17:16:06.330303Z",
     "shell.execute_reply": "2024-02-22T17:16:06.330021Z"
    },
    "slideshow": {
     "slide_type": "slide"
    }
   },
   "outputs": [],
   "source": [
    "p = 'BELLA ZIO'\n",
    "k = 'D'"
   ]
  },
  {
   "cell_type": "code",
   "execution_count": 12,
   "metadata": {
    "execution": {
     "iopub.execute_input": "2024-02-22T17:16:06.332081Z",
     "iopub.status.busy": "2024-02-22T17:16:06.331859Z",
     "iopub.status.idle": "2024-02-22T17:16:06.333793Z",
     "shell.execute_reply": "2024-02-22T17:16:06.333491Z"
    },
    "slideshow": {
     "slide_type": "fragment"
    }
   },
   "outputs": [
    {
     "name": "stdout",
     "output_type": "stream",
     "text": [
      "EHOODBALR\n"
     ]
    }
   ],
   "source": [
    "c = C(p, k)\n",
    "print(c)"
   ]
  },
  {
   "cell_type": "code",
   "execution_count": 13,
   "metadata": {
    "execution": {
     "iopub.execute_input": "2024-02-22T17:16:06.335487Z",
     "iopub.status.busy": "2024-02-22T17:16:06.335313Z",
     "iopub.status.idle": "2024-02-22T17:16:06.337206Z",
     "shell.execute_reply": "2024-02-22T17:16:06.336916Z"
    },
    "slideshow": {
     "slide_type": "fragment"
    }
   },
   "outputs": [
    {
     "name": "stdout",
     "output_type": "stream",
     "text": [
      "BELLA ZIO\n"
     ]
    }
   ],
   "source": [
    "d = D(c, k)\n",
    "print(d)"
   ]
  },
  {
   "cell_type": "markdown",
   "metadata": {
    "slideshow": {
     "slide_type": "slide"
    }
   },
   "source": [
    "<center>\n",
    "\n",
    "# Crittoanalisi\n",
    "\n",
    "</center>"
   ]
  },
  {
   "cell_type": "markdown",
   "metadata": {
    "slideshow": {
     "slide_type": "slide"
    }
   },
   "source": [
    "<center>\n",
    "\n",
    "## Forza bruta\n",
    "\n",
    "</center>"
   ]
  },
  {
   "cell_type": "code",
   "execution_count": 14,
   "metadata": {
    "execution": {
     "iopub.execute_input": "2024-02-22T17:16:06.339057Z",
     "iopub.status.busy": "2024-02-22T17:16:06.338863Z",
     "iopub.status.idle": "2024-02-22T17:16:06.341596Z",
     "shell.execute_reply": "2024-02-22T17:16:06.341284Z"
    },
    "slideshow": {
     "slide_type": "slide"
    },
    "tags": [
     "hide"
    ]
   },
   "outputs": [
    {
     "name": "stdout",
     "output_type": "stream",
     "text": [
      "┌─────┬───────────┐\n",
      "│ \u001b[1mk\u001b[0m   │ \u001b[1mD(c, k)\u001b[0m   │\n",
      "├─────┼───────────┤\n",
      "│ A   │ EHOODBALR │\n",
      "├─────┼───────────┤\n",
      "│ B   │ DGNNCA↩KQ │\n",
      "├─────┼───────────┤\n",
      "│ C   │ CFMMB↩␢JP │\n",
      "├─────┼───────────┤\n",
      "│ D   │ BELLA␢ZIO │\n",
      "├─────┼───────────┤\n",
      "│ E   │ ADKK↩ZYHN │\n",
      "├─────┼───────────┤\n",
      "│ …   │ …         │\n",
      "├─────┼───────────┤\n",
      "│ ␢   │ GJQQFDCNT │\n",
      "├─────┼───────────┤\n",
      "│ ↩   │ FIPPECBMS │\n",
      "└─────┴───────────┘\n"
     ]
    }
   ],
   "source": [
    "vals = [[a_visualizzazione(k), a_visualizzazione(D(c, k))] for k in SEMPLICI]\n",
    "tabella(vals[:5] + [['…', '…']] + vals[-2:], header = sgr(['k', 'D(c, k)']))"
   ]
  },
  {
   "cell_type": "code",
   "execution_count": 15,
   "metadata": {
    "execution": {
     "iopub.execute_input": "2024-02-22T17:16:06.343333Z",
     "iopub.status.busy": "2024-02-22T17:16:06.343138Z",
     "iopub.status.idle": "2024-02-22T17:16:06.345113Z",
     "shell.execute_reply": "2024-02-22T17:16:06.344810Z"
    },
    "slideshow": {
     "slide_type": "subslide"
    }
   },
   "outputs": [
    {
     "name": "stdout",
     "output_type": "stream",
     "text": [
      "EHOODBALR\n",
      "DGNNCA↩KQ\n",
      "CFMMB↩␢JP\n",
      "BELLA␢ZIO\n",
      "ADKK↩ZYHN\n",
      "↩CJJ␢YXGM\n",
      "␢BIIZXWFL\n",
      "ZAHHYWVEK\n",
      "Y↩GGXVUDJ\n",
      "X␢FFWUTCI\n"
     ]
    }
   ],
   "source": [
    "for k in SEMPLICI[:10]:\n",
    "  print(a_visualizzazione((D(c, k))))"
   ]
  },
  {
   "cell_type": "markdown",
   "metadata": {
    "slideshow": {
     "slide_type": "slide"
    }
   },
   "source": [
    "<center>\n",
    "\n",
    "## Analisi frequenziale\n",
    "\n",
    "### Da \"I promessi sposi\"\n",
    "\n",
    "</center>"
   ]
  },
  {
   "cell_type": "code",
   "execution_count": 16,
   "metadata": {
    "execution": {
     "iopub.execute_input": "2024-02-22T17:16:06.346839Z",
     "iopub.status.busy": "2024-02-22T17:16:06.346693Z",
     "iopub.status.idle": "2024-02-22T17:16:08.372772Z",
     "shell.execute_reply": "2024-02-22T17:16:08.372208Z"
    },
    "slideshow": {
     "slide_type": "slide"
    },
    "tags": [
     "hide"
    ]
   },
   "outputs": [
    {
     "data": {
      "image/png": "[encoded data removed]",
      "text/plain": [
       "<Figure size 640x480 with 1 Axes>"
      ]
     },
     "metadata": {},
     "output_type": "display_data"
    }
   ],
   "source": [
    "PROMESSI_SPOSI = da_gutenberg('https://dev.gutenberg.org/cache/epub/45334/pg45334.txt')\n",
    "istogramma_lettere(PROMESSI_SPOSI);"
   ]
  },
  {
   "cell_type": "code",
   "execution_count": 17,
   "metadata": {
    "execution": {
     "iopub.execute_input": "2024-02-22T17:16:08.374967Z",
     "iopub.status.busy": "2024-02-22T17:16:08.374781Z",
     "iopub.status.idle": "2024-02-22T17:16:08.377599Z",
     "shell.execute_reply": "2024-02-22T17:16:08.377226Z"
    },
    "slideshow": {
     "slide_type": "slide"
    },
    "tags": [
     "hide"
    ]
   },
   "outputs": [
    {
     "name": "stdout",
     "output_type": "stream",
     "text": [
      "\n",
      "TUTTE DUE SI VOLSERO A CHI NE SAPEVA PIU DI LORO E DA CUI \n",
      "ASPETTAVANO UNO SCHIARIMENTO IL QUALE NON POTEVA ESSERE CHE \n",
      "DOLOROSO TUTTE DUE LASCIANDO TRAVEDERE IN MEZZO AL DOLORE \n",
      "E CON LAMORE DIVERSO CHE OGNUN DESSI PORTAVA A LUCIA\n",
      "\n"
     ]
    }
   ],
   "source": [
    "pps = semplifica(\"\"\"\n",
    "Tutt'e due si volsero a chi ne sapeva piu' di loro, e da cui \n",
    "aspettavano uno schiarimento, il quale non poteva essere che \n",
    "doloroso: tutt'e due, lasciando travedere, in mezzo al dolore, \n",
    "e con l'amore diverso che ognun d'essi portava a Lucia.\n",
    "\"\"\")\n",
    "print(pps)\n"
   ]
  },
  {
   "cell_type": "code",
   "execution_count": 18,
   "metadata": {
    "execution": {
     "iopub.execute_input": "2024-02-22T17:16:08.379486Z",
     "iopub.status.busy": "2024-02-22T17:16:08.379269Z",
     "iopub.status.idle": "2024-02-22T17:16:08.381619Z",
     "shell.execute_reply": "2024-02-22T17:16:08.381255Z"
    },
    "slideshow": {
     "slide_type": "slide"
    },
    "tags": [
     "hide"
    ]
   },
   "outputs": [
    {
     "name": "stdout",
     "output_type": "stream",
     "text": [
      "FZ ZZKEJ KEYOE\n",
      "URYKXUEGEINOETKEYGVK\n",
      "GEVO EJOERUXUEKEJGEI OEFGYVKZZG\n",
      "GTUE TUEYINOGXOSKTZUEOREW GRKETUTEVUZK\n",
      "GEKYYKXKEINKEFJURUXUYUEZ ZZKEJ KERGYIOGTJUEZXG\n",
      "KJKXKEOTESKDDUEGREJURUXKEFKEIUTERGSUXKEJO\n",
      "KXYUEINKEUMT TEJKYYOEVUXZG\n",
      "GEGER IOGF\n"
     ]
    }
   ],
   "source": [
    "c = C(pps, 'G')\n",
    "print(c)"
   ]
  },
  {
   "cell_type": "code",
   "execution_count": 19,
   "metadata": {
    "execution": {
     "iopub.execute_input": "2024-02-22T17:16:08.383410Z",
     "iopub.status.busy": "2024-02-22T17:16:08.383219Z",
     "iopub.status.idle": "2024-02-22T17:16:08.465001Z",
     "shell.execute_reply": "2024-02-22T17:16:08.464412Z"
    },
    "slideshow": {
     "slide_type": "slide"
    },
    "tags": [
     "hide"
    ]
   },
   "outputs": [
    {
     "data": {
      "image/png": "[encoded data removed]",
      "text/plain": [
       "<Figure size 640x480 with 1 Axes>"
      ]
     },
     "metadata": {},
     "output_type": "display_data"
    }
   ],
   "source": [
    "istogramma_lettere(c);"
   ]
  },
  {
   "cell_type": "code",
   "execution_count": 20,
   "metadata": {
    "execution": {
     "iopub.execute_input": "2024-02-22T17:16:08.467278Z",
     "iopub.status.busy": "2024-02-22T17:16:08.467150Z",
     "iopub.status.idle": "2024-02-22T17:16:08.469907Z",
     "shell.execute_reply": "2024-02-22T17:16:08.469404Z"
    },
    "slideshow": {
     "slide_type": "slide"
    }
   },
   "outputs": [
    {
     "name": "stdout",
     "output_type": "stream",
     "text": [
      "\n",
      "TUTTE DUE SI VOLSERO A CHI NE SAPEVA PIU DI LORO E DA CUI \n",
      "ASPETTAVANO UNO SCHIARIMENTO IL QUALE NON POTEVA ESSERE CHE \n",
      "DOLOROSO TUTTE DUE LASCIANDO TRAVEDERE IN MEZZO AL DOLORE \n",
      "E CON LAMORE DIVERSO CHE OGNUN DESSI PORTAVA A LUCIA\n",
      "\n"
     ]
    }
   ],
   "source": [
    "print(D(c, 'G'))"
   ]
  },
  {
   "cell_type": "markdown",
   "metadata": {
    "slideshow": {
     "slide_type": "slide"
    }
   },
   "source": [
    "<center>\n",
    "\n",
    "# Polialfabetica\n",
    "\n",
    "</center>"
   ]
  },
  {
   "cell_type": "markdown",
   "metadata": {
    "slideshow": {
     "slide_type": "slide"
    }
   },
   "source": [
    "<img src=\"./img/Vigenere.png\" style=\"width: 50%; margin: auto; display: block;\" />"
   ]
  },
  {
   "cell_type": "code",
   "execution_count": 21,
   "metadata": {
    "execution": {
     "iopub.execute_input": "2024-02-22T17:16:08.471786Z",
     "iopub.status.busy": "2024-02-22T17:16:08.471551Z",
     "iopub.status.idle": "2024-02-22T17:16:08.474736Z",
     "shell.execute_reply": "2024-02-22T17:16:08.474284Z"
    },
    "slideshow": {
     "slide_type": "slide"
    },
    "tags": [
     "hide"
    ]
   },
   "outputs": [
    {
     "name": "stdout",
     "output_type": "stream",
     "text": [
      "┌───────┬───┬────┬────┬────┬───┬────┬────┬────┬────┐\n",
      "│ \u001b[1ma\u001b[0m     │ 1 │  4 │ 11 │ 11 │ 0 │ 26 │ 25 │  8 │ 14 │\n",
      "├───────┼───┼────┼────┼────┼───┼────┼────┼────┼────┤\n",
      "│ \u001b[1mb\u001b[0m     │ 2 │  8 │  0 │ 14 │ 2 │  8 │  0 │ 14 │  2 │\n",
      "├───────┼───┼────┼────┼────┼───┼────┼────┼────┼────┤\n",
      "│ \u001b[1ma + b\u001b[0m │ 3 │ 12 │ 11 │ 25 │ 2 │  6 │ 25 │ 22 │ 16 │\n",
      "└───────┴───┴────┴────┴────┴───┴────┴────┴────┴────┘\n"
     ]
    }
   ],
   "source": [
    "testo = 'BELLA ZIO'\n",
    "chiave = 'CIAO'\n",
    "tabella([\n",
    "  a_posizioni(testo), \n",
    "  islice(cycle(a_posizioni(chiave)), len(testo)), \n",
    "  orologio_somma(a_posizioni(testo), a_posizioni(chiave))\n",
    "], index = sgr(['a', 'b', 'a + b']))"
   ]
  },
  {
   "cell_type": "code",
   "execution_count": 22,
   "metadata": {
    "execution": {
     "iopub.execute_input": "2024-02-22T17:16:08.476340Z",
     "iopub.status.busy": "2024-02-22T17:16:08.476185Z",
     "iopub.status.idle": "2024-02-22T17:16:08.478954Z",
     "shell.execute_reply": "2024-02-22T17:16:08.478524Z"
    },
    "slideshow": {
     "slide_type": "slide"
    },
    "tags": [
     "hide"
    ]
   },
   "outputs": [
    {
     "name": "stdout",
     "output_type": "stream",
     "text": [
      "┌───┬─────┬──────┬──────┬──────┬─────┬─────┬──────┬──────┬──────┐\n",
      "│ \u001b[1mp\u001b[0m │ B:1 │ E:4  │ L:11 │ L:11 │ A:0 │ :26 │ Z:25 │ I:8  │ O:14 │\n",
      "├───┼─────┼──────┼──────┼──────┼─────┼─────┼──────┼──────┼──────┤\n",
      "│ \u001b[1mk\u001b[0m │ C:2 │ I:8  │ A:0  │ O:14 │ C:2 │ I:8 │ A:0  │ O:14 │ C:2  │\n",
      "├───┼─────┼──────┼──────┼──────┼─────┼─────┼──────┼──────┼──────┤\n",
      "│ \u001b[1mc\u001b[0m │ D:3 │ M:12 │ L:11 │ Z:25 │ C:2 │ G:6 │ Z:25 │ W:22 │ Q:16 │\n",
      "└───┴─────┴──────┴──────┴──────┴─────┴─────┴──────┴──────┴──────┘\n",
      "DMLZCGZWQ\n"
     ]
    }
   ],
   "source": [
    "c = cifra(testo, chiave)\n",
    "print(c)"
   ]
  },
  {
   "cell_type": "code",
   "execution_count": 23,
   "metadata": {
    "execution": {
     "iopub.execute_input": "2024-02-22T17:16:08.480632Z",
     "iopub.status.busy": "2024-02-22T17:16:08.480470Z",
     "iopub.status.idle": "2024-02-22T17:16:08.482849Z",
     "shell.execute_reply": "2024-02-22T17:16:08.482395Z"
    },
    "slideshow": {
     "slide_type": "slide"
    },
    "tags": [
     "hide"
    ]
   },
   "outputs": [
    {
     "name": "stdout",
     "output_type": "stream",
     "text": [
      "B\n",
      "UFVM RWM EKGVAN EDQGAMEPIMPM ECXEHCGPWWGDWATODQGEMFI QWQ NC PSV\n",
      "AHCVOMWVOMUKHWCZI GVTAAQLMSAAZGGNAPGPAVMVOAMSEGZEMEPEMBLOZQZOEQGTGV\n",
      "EMFAEMNISQKINRQGTDCBERGZEMKV  GFZAAILMFWLATM NGGCAPGLOOWRSALIHGZSAAKHSAWG\n",
      "WV RG SWAXODVIVOAI ZWKIOB\n"
     ]
    }
   ],
   "source": [
    "print(C(pps, 'CIAO'))"
   ]
  },
  {
   "cell_type": "code",
   "execution_count": 24,
   "metadata": {
    "execution": {
     "iopub.execute_input": "2024-02-22T17:16:08.484520Z",
     "iopub.status.busy": "2024-02-22T17:16:08.484367Z",
     "iopub.status.idle": "2024-02-22T17:16:08.561804Z",
     "shell.execute_reply": "2024-02-22T17:16:08.561156Z"
    },
    "slideshow": {
     "slide_type": "slide"
    },
    "tags": [
     "hide"
    ]
   },
   "outputs": [
    {
     "data": {
      "image/png": "[encoded data removed]",
      "text/plain": [
       "<Figure size 640x480 with 1 Axes>"
      ]
     },
     "metadata": {},
     "output_type": "display_data"
    }
   ],
   "source": [
    "istogramma_lettere(C(pps, chiave));"
   ]
  },
  {
   "cell_type": "markdown",
   "metadata": {
    "slideshow": {
     "slide_type": "slide"
    }
   },
   "source": [
    "<center>\n",
    "\n",
    "## Perfetta!\n",
    "\n",
    "</center>"
   ]
  },
  {
   "cell_type": "markdown",
   "metadata": {
    "slideshow": {
     "slide_type": "slide"
    }
   },
   "source": [
    "<img src=\"./img/otp.png\" style=\"width: 80%; margin: auto; display: block;\" />"
   ]
  },
  {
   "cell_type": "markdown",
   "metadata": {
    "slideshow": {
     "slide_type": "slide"
    }
   },
   "source": [
    "<center>\n",
    "\n",
    "# E ora… magia!\n",
    "\n",
    "### Scambiare le chiavi senza canale sicuro\n",
    "\n",
    "</center>"
   ]
  },
  {
   "cell_type": "markdown",
   "metadata": {
    "slideshow": {
     "slide_type": "slide"
    }
   },
   "source": [
    "<img src=\"./img/parties-ns.png\" style=\"width: 90%; margin: auto; display: block;\" />"
   ]
  },
  {
   "cell_type": "markdown",
   "metadata": {
    "slideshow": {
     "slide_type": "slide"
    }
   },
   "source": [
    "<img src=\"./img/dh-ke.png\" style=\"width: 40%; margin: auto; display: block;\" />"
   ]
  },
  {
   "cell_type": "markdown",
   "metadata": {
    "slideshow": {
     "slide_type": "slide"
    }
   },
   "source": [
    "<img src=\"./img/mdh.jpeg\" style=\"width: 80%; margin: auto; display: block;\" />"
   ]
  },
  {
   "cell_type": "markdown",
   "metadata": {
    "slideshow": {
     "slide_type": "slide"
    }
   },
   "source": [
    "<center>\n",
    "\n",
    "# Aritmetica modulare\n",
    "\n",
    "</center>"
   ]
  },
  {
   "cell_type": "markdown",
   "metadata": {
    "slideshow": {
     "slide_type": "slide"
    }
   },
   "source": [
    "<img src=\"./img/disqvisitiones.jpeg\" style=\"width: 40%; margin: auto; display: block;\" />"
   ]
  },
  {
   "cell_type": "markdown",
   "metadata": {
    "slideshow": {
     "slide_type": "slide"
    }
   },
   "source": [
    "$$\\Huge \\left(\\mathbb{Z}, +, \\cdot\\right)$$\n",
    "\n",
    "&nbsp;"
   ]
  },
  {
   "cell_type": "markdown",
   "metadata": {
    "slideshow": {
     "slide_type": "fragment"
    }
   },
   "source": [
    "$$\\Huge \\mod n$$\n",
    "\n",
    "&nbsp;"
   ]
  },
  {
   "cell_type": "markdown",
   "metadata": {
    "slideshow": {
     "slide_type": "fragment"
    }
   },
   "source": [
    "$$\\Huge\n",
    "\\begin{split}\n",
    "[r]_n  & \\triangleq \\{z \\mid z = k\\cdot n + r, \\quad k \\in\\mathbb{Z}\\} \\\\\n",
    "       & = \\{z \\mid z \\equiv r \\pmod n\\} \\\\\n",
    "       & = \\{z \\mid z \\mathbin{\\%} n = r\\}\n",
    "\\end{split}\n",
    "$$"
   ]
  },
  {
   "cell_type": "markdown",
   "metadata": {
    "slideshow": {
     "slide_type": "slide"
    }
   },
   "source": [
    "$$\\Huge [3]_7 = \\{\\ldots, -11, -4, 3, 10, 17,\\ldots\\}$$\n",
    "\n",
    "&nbsp;"
   ]
  },
  {
   "cell_type": "markdown",
   "metadata": {
    "slideshow": {
     "slide_type": "fragment"
    }
   },
   "source": [
    "$$\\Huge [-4]_7 = \\{\\ldots, -18, -11, -4, 3, 10,\\ldots\\}$$\n",
    "\n",
    "&nbsp;"
   ]
  },
  {
   "cell_type": "markdown",
   "metadata": {
    "slideshow": {
     "slide_type": "fragment"
    }
   },
   "source": [
    "$$\\Huge\n",
    "[r]_n = [r + k \\cdot n]_n\n",
    "$$"
   ]
  },
  {
   "cell_type": "markdown",
   "metadata": {
    "slideshow": {
     "slide_type": "slide"
    }
   },
   "source": [
    "<img src=\"./img/clock_6.png\" style=\"width: 80%; margin: auto; display: block;\" />"
   ]
  },
  {
   "cell_type": "markdown",
   "metadata": {
    "slideshow": {
     "slide_type": "slide"
    }
   },
   "source": [
    "$$\\Huge \\mathbb{Z}_n \\triangleq \\{[0]_n, [1]_n, [2]_n, \\ldots, [n-1]_n\\}$$\n",
    "\n",
    "&nbsp;"
   ]
  },
  {
   "cell_type": "markdown",
   "metadata": {
    "slideshow": {
     "slide_type": "fragment"
    }
   },
   "source": [
    "$$\\Huge (\\mathbb{Z}_n, +, \\cdot)$$"
   ]
  },
  {
   "cell_type": "markdown",
   "metadata": {
    "slideshow": {
     "slide_type": "slide"
    }
   },
   "source": [
    "$$\\Huge [r] + [s] \\triangleq [r + s]$$"
   ]
  },
  {
   "cell_type": "code",
   "execution_count": 25,
   "metadata": {
    "execution": {
     "iopub.execute_input": "2024-02-22T17:16:08.564473Z",
     "iopub.status.busy": "2024-02-22T17:16:08.564289Z",
     "iopub.status.idle": "2024-02-22T17:16:08.567565Z",
     "shell.execute_reply": "2024-02-22T17:16:08.566972Z"
    },
    "slideshow": {
     "slide_type": "slide"
    },
    "tags": [
     "hide"
    ]
   },
   "outputs": [
    {
     "name": "stdout",
     "output_type": "stream",
     "text": [
      "┌─────┬───────┬───────┬───────┬───────┬───────┬───────┬───────┐\n",
      "│ \u001b[1m+\u001b[0m   │ \u001b[1m[0]\u001b[0m   │ \u001b[1m[1]\u001b[0m   │ \u001b[1m[2]\u001b[0m   │ \u001b[1m[3]\u001b[0m   │ \u001b[1m[4]\u001b[0m   │ \u001b[1m[5]\u001b[0m   │ \u001b[1m[6]\u001b[0m   │\n",
      "├─────┼───────┼───────┼───────┼───────┼───────┼───────┼───────┤\n",
      "│ \u001b[1m[0]\u001b[0m │ \u001b[92m[0]\u001b[0m   │ [1]   │ [2]   │ [3]   │ [4]   │ [5]   │ [6]   │\n",
      "├─────┼───────┼───────┼───────┼───────┼───────┼───────┼───────┤\n",
      "│ \u001b[1m[1]\u001b[0m │ [1]   │ [2]   │ [3]   │ [4]   │ [5]   │ [6]   │ \u001b[92m[0]\u001b[0m   │\n",
      "├─────┼───────┼───────┼───────┼───────┼───────┼───────┼───────┤\n",
      "│ \u001b[1m[2]\u001b[0m │ [2]   │ [3]   │ [4]   │ [5]   │ [6]   │ \u001b[92m[0]\u001b[0m   │ [1]   │\n",
      "├─────┼───────┼───────┼───────┼───────┼───────┼───────┼───────┤\n",
      "│ \u001b[1m[3]\u001b[0m │ [3]   │ [4]   │ [5]   │ [6]   │ \u001b[92m[0]\u001b[0m   │ [1]   │ [2]   │\n",
      "├─────┼───────┼───────┼───────┼───────┼───────┼───────┼───────┤\n",
      "│ \u001b[1m[4]\u001b[0m │ [4]   │ [5]   │ [6]   │ \u001b[92m[0]\u001b[0m   │ [1]   │ [2]   │ [3]   │\n",
      "├─────┼───────┼───────┼───────┼───────┼───────┼───────┼───────┤\n",
      "│ \u001b[1m[5]\u001b[0m │ [5]   │ [6]   │ \u001b[92m[0]\u001b[0m   │ [1]   │ [2]   │ [3]   │ [4]   │\n",
      "├─────┼───────┼───────┼───────┼───────┼───────┼───────┼───────┤\n",
      "│ \u001b[1m[6]\u001b[0m │ [6]   │ \u001b[92m[0]\u001b[0m   │ [1]   │ [2]   │ [3]   │ [4]   │ [5]   │\n",
      "└─────┴───────┴───────┴───────┴───────┴───────┴───────┴───────┘\n"
     ]
    }
   ],
   "source": [
    "Mod(7).somma()"
   ]
  },
  {
   "cell_type": "markdown",
   "metadata": {
    "slideshow": {
     "slide_type": "slide"
    }
   },
   "source": [
    "$$\\Huge [r] \\cdot [s] \\triangleq [r \\cdot s]$$"
   ]
  },
  {
   "cell_type": "code",
   "execution_count": 26,
   "metadata": {
    "execution": {
     "iopub.execute_input": "2024-02-22T17:16:08.569535Z",
     "iopub.status.busy": "2024-02-22T17:16:08.569375Z",
     "iopub.status.idle": "2024-02-22T17:16:08.572535Z",
     "shell.execute_reply": "2024-02-22T17:16:08.572044Z"
    },
    "slideshow": {
     "slide_type": "slide"
    },
    "tags": [
     "hide"
    ]
   },
   "outputs": [
    {
     "name": "stdout",
     "output_type": "stream",
     "text": [
      "┌─────┬───────┬───────┬───────┬───────┬───────┬───────┬───────┐\n",
      "│ \u001b[1m*\u001b[0m   │ \u001b[1m[0]\u001b[0m   │ \u001b[1m[1]\u001b[0m   │ \u001b[1m[2]\u001b[0m   │ \u001b[1m[3]\u001b[0m   │ \u001b[1m[4]\u001b[0m   │ \u001b[1m[5]\u001b[0m   │ \u001b[1m[6]\u001b[0m   │\n",
      "├─────┼───────┼───────┼───────┼───────┼───────┼───────┼───────┤\n",
      "│ \u001b[1m[0]\u001b[0m │ \u001b[91m[0]\u001b[0m   │ \u001b[91m[0]\u001b[0m   │ \u001b[91m[0]\u001b[0m   │ \u001b[91m[0]\u001b[0m   │ \u001b[91m[0]\u001b[0m   │ \u001b[91m[0]\u001b[0m   │ \u001b[91m[0]\u001b[0m   │\n",
      "├─────┼───────┼───────┼───────┼───────┼───────┼───────┼───────┤\n",
      "│ \u001b[1m[1]\u001b[0m │ \u001b[91m[0]\u001b[0m   │ \u001b[92m[1]\u001b[0m   │ [2]   │ [3]   │ [4]   │ [5]   │ [6]   │\n",
      "├─────┼───────┼───────┼───────┼───────┼───────┼───────┼───────┤\n",
      "│ \u001b[1m[2]\u001b[0m │ \u001b[91m[0]\u001b[0m   │ [2]   │ [4]   │ [6]   │ \u001b[92m[1]\u001b[0m   │ [3]   │ [5]   │\n",
      "├─────┼───────┼───────┼───────┼───────┼───────┼───────┼───────┤\n",
      "│ \u001b[1m[3]\u001b[0m │ \u001b[91m[0]\u001b[0m   │ [3]   │ [6]   │ [2]   │ [5]   │ \u001b[92m[1]\u001b[0m   │ [4]   │\n",
      "├─────┼───────┼───────┼───────┼───────┼───────┼───────┼───────┤\n",
      "│ \u001b[1m[4]\u001b[0m │ \u001b[91m[0]\u001b[0m   │ [4]   │ \u001b[92m[1]\u001b[0m   │ [5]   │ [2]   │ [6]   │ [3]   │\n",
      "├─────┼───────┼───────┼───────┼───────┼───────┼───────┼───────┤\n",
      "│ \u001b[1m[5]\u001b[0m │ \u001b[91m[0]\u001b[0m   │ [5]   │ [3]   │ \u001b[92m[1]\u001b[0m   │ [6]   │ [4]   │ [2]   │\n",
      "├─────┼───────┼───────┼───────┼───────┼───────┼───────┼───────┤\n",
      "│ \u001b[1m[6]\u001b[0m │ \u001b[91m[0]\u001b[0m   │ [6]   │ [5]   │ [4]   │ [3]   │ [2]   │ \u001b[92m[1]\u001b[0m   │\n",
      "└─────┴───────┴───────┴───────┴───────┴───────┴───────┴───────┘\n"
     ]
    }
   ],
   "source": [
    "Mod(7).prodotto()"
   ]
  },
  {
   "cell_type": "code",
   "execution_count": 27,
   "metadata": {
    "execution": {
     "iopub.execute_input": "2024-02-22T17:16:08.574286Z",
     "iopub.status.busy": "2024-02-22T17:16:08.574129Z",
     "iopub.status.idle": "2024-02-22T17:16:08.577158Z",
     "shell.execute_reply": "2024-02-22T17:16:08.576769Z"
    },
    "slideshow": {
     "slide_type": "slide"
    },
    "tags": [
     "hide"
    ]
   },
   "outputs": [
    {
     "name": "stdout",
     "output_type": "stream",
     "text": [
      "┌─────┬───────┬───────┬───────┬───────┬───────┬───────┬───────┬───────┐\n",
      "│ \u001b[1m*\u001b[0m   │ \u001b[1m[0]\u001b[0m   │ \u001b[1m[1]\u001b[0m   │ \u001b[1m[2]\u001b[0m   │ \u001b[1m[3]\u001b[0m   │ \u001b[1m[4]\u001b[0m   │ \u001b[1m[5]\u001b[0m   │ \u001b[1m[6]\u001b[0m   │ \u001b[1m[7]\u001b[0m   │\n",
      "├─────┼───────┼───────┼───────┼───────┼───────┼───────┼───────┼───────┤\n",
      "│ \u001b[1m[0]\u001b[0m │ \u001b[91m[0]\u001b[0m   │ \u001b[91m[0]\u001b[0m   │ \u001b[91m[0]\u001b[0m   │ \u001b[91m[0]\u001b[0m   │ \u001b[91m[0]\u001b[0m   │ \u001b[91m[0]\u001b[0m   │ \u001b[91m[0]\u001b[0m   │ \u001b[91m[0]\u001b[0m   │\n",
      "├─────┼───────┼───────┼───────┼───────┼───────┼───────┼───────┼───────┤\n",
      "│ \u001b[1m[1]\u001b[0m │ \u001b[91m[0]\u001b[0m   │ \u001b[92m[1]\u001b[0m   │ [2]   │ [3]   │ [4]   │ [5]   │ [6]   │ [7]   │\n",
      "├─────┼───────┼───────┼───────┼───────┼───────┼───────┼───────┼───────┤\n",
      "│ \u001b[1m[2]\u001b[0m │ \u001b[91m[0]\u001b[0m   │ [2]   │ [4]   │ [6]   │ \u001b[91m[0]\u001b[0m   │ [2]   │ [4]   │ [6]   │\n",
      "├─────┼───────┼───────┼───────┼───────┼───────┼───────┼───────┼───────┤\n",
      "│ \u001b[1m[3]\u001b[0m │ \u001b[91m[0]\u001b[0m   │ [3]   │ [6]   │ \u001b[92m[1]\u001b[0m   │ [4]   │ [7]   │ [2]   │ [5]   │\n",
      "├─────┼───────┼───────┼───────┼───────┼───────┼───────┼───────┼───────┤\n",
      "│ \u001b[1m[4]\u001b[0m │ \u001b[91m[0]\u001b[0m   │ [4]   │ \u001b[91m[0]\u001b[0m   │ [4]   │ \u001b[91m[0]\u001b[0m   │ [4]   │ \u001b[91m[0]\u001b[0m   │ [4]   │\n",
      "├─────┼───────┼───────┼───────┼───────┼───────┼───────┼───────┼───────┤\n",
      "│ \u001b[1m[5]\u001b[0m │ \u001b[91m[0]\u001b[0m   │ [5]   │ [2]   │ [7]   │ [4]   │ \u001b[92m[1]\u001b[0m   │ [6]   │ [3]   │\n",
      "├─────┼───────┼───────┼───────┼───────┼───────┼───────┼───────┼───────┤\n",
      "│ \u001b[1m[6]\u001b[0m │ \u001b[91m[0]\u001b[0m   │ [6]   │ [4]   │ [2]   │ \u001b[91m[0]\u001b[0m   │ [6]   │ [4]   │ [2]   │\n",
      "├─────┼───────┼───────┼───────┼───────┼───────┼───────┼───────┼───────┤\n",
      "│ \u001b[1m[7]\u001b[0m │ \u001b[91m[0]\u001b[0m   │ [7]   │ [6]   │ [5]   │ [4]   │ [3]   │ [2]   │ \u001b[92m[1]\u001b[0m   │\n",
      "└─────┴───────┴───────┴───────┴───────┴───────┴───────┴───────┴───────┘\n"
     ]
    }
   ],
   "source": [
    "Mod(8).prodotto()"
   ]
  },
  {
   "cell_type": "code",
   "execution_count": 28,
   "metadata": {
    "execution": {
     "iopub.execute_input": "2024-02-22T17:16:08.579016Z",
     "iopub.status.busy": "2024-02-22T17:16:08.578862Z",
     "iopub.status.idle": "2024-02-22T17:16:08.581425Z",
     "shell.execute_reply": "2024-02-22T17:16:08.580884Z"
    },
    "slideshow": {
     "slide_type": "subslide"
    },
    "tags": [
     "hide"
    ]
   },
   "outputs": [
    {
     "name": "stdout",
     "output_type": "stream",
     "text": [
      "┌─────┬───────┬───────┬───────┬───────┐\n",
      "│ \u001b[1m*\u001b[0m   │ \u001b[1m[1]\u001b[0m   │ \u001b[1m[3]\u001b[0m   │ \u001b[1m[5]\u001b[0m   │ \u001b[1m[7]\u001b[0m   │\n",
      "├─────┼───────┼───────┼───────┼───────┤\n",
      "│ \u001b[1m[1]\u001b[0m │ \u001b[92m[1]\u001b[0m   │ [3]   │ [5]   │ [7]   │\n",
      "├─────┼───────┼───────┼───────┼───────┤\n",
      "│ \u001b[1m[3]\u001b[0m │ [3]   │ \u001b[92m[1]\u001b[0m   │ [7]   │ [5]   │\n",
      "├─────┼───────┼───────┼───────┼───────┤\n",
      "│ \u001b[1m[5]\u001b[0m │ [5]   │ [7]   │ \u001b[92m[1]\u001b[0m   │ [3]   │\n",
      "├─────┼───────┼───────┼───────┼───────┤\n",
      "│ \u001b[1m[7]\u001b[0m │ [7]   │ [5]   │ [3]   │ \u001b[92m[1]\u001b[0m   │\n",
      "└─────┴───────┴───────┴───────┴───────┘\n"
     ]
    }
   ],
   "source": [
    "Mod(8).prodotto_coprimi()"
   ]
  },
  {
   "cell_type": "markdown",
   "metadata": {
    "slideshow": {
     "slide_type": "slide"
    }
   },
   "source": [
    "$$\\Huge [r] \\cdot [s] = [1]$$\n",
    "\n",
    "&nbsp;"
   ]
  },
  {
   "cell_type": "markdown",
   "metadata": {
    "slideshow": {
     "slide_type": "fragment"
    }
   },
   "source": [
    "$$\\Huge [s] = [r]^{-1}$$"
   ]
  },
  {
   "cell_type": "markdown",
   "metadata": {
    "slideshow": {
     "slide_type": "subslide"
    }
   },
   "source": [
    "<img src=\"./img/Bezout.jpeg\" style=\"width: 40%; margin: auto; display: block;\" />"
   ]
  },
  {
   "cell_type": "markdown",
   "metadata": {
    "slideshow": {
     "slide_type": "subslide"
    }
   },
   "source": [
    "$$\\Huge r \\cdot s + k\\cdot n = \\operatorname{MCD}(r, n)$$\n",
    "\n",
    "&nbsp;\n",
    "\n",
    "$$\\Huge \\operatorname{EG}(r, n) \\to s, k$$"
   ]
  },
  {
   "cell_type": "code",
   "execution_count": 29,
   "metadata": {
    "execution": {
     "iopub.execute_input": "2024-02-22T17:16:08.583753Z",
     "iopub.status.busy": "2024-02-22T17:16:08.583606Z",
     "iopub.status.idle": "2024-02-22T17:16:08.586404Z",
     "shell.execute_reply": "2024-02-22T17:16:08.585951Z"
    },
    "slideshow": {
     "slide_type": "subslide"
    }
   },
   "outputs": [],
   "source": [
    "def EG(r, n):\n",
    "  s0, s1, k0, k1 = 1, 0, 0, 1\n",
    "  while n != 0:\n",
    "    q, r, n = r // n, n, r % b\n",
    "    s0, s1 = s1, s0 - q * s1\n",
    "    k0, k1 = k1, k0 - q * k1\n",
    "  return r, s0, k0"
   ]
  },
  {
   "cell_type": "markdown",
   "metadata": {
    "slideshow": {
     "slide_type": "subslide"
    }
   },
   "source": [
    "$$\\Huge \\operatorname{MCD}(r, n) = 1 \\quad\\Rightarrow\\quad r \\cdot s + k\\cdot n = 1$$\n",
    "\n",
    "&nbsp;\n",
    "\n",
    "$$\\Huge r\\cdot s = 1 - k\\cdot n$$\n",
    "\n",
    "&nbsp;\n",
    "\n",
    "$$\\Huge [r\\cdot s]_n = [1]_n$$\n",
    "\n",
    "&nbsp;\n",
    "\n",
    "$$\\Huge [s]_n = [r]^{-1}_n$$"
   ]
  },
  {
   "cell_type": "markdown",
   "metadata": {
    "slideshow": {
     "slide_type": "slide"
    }
   },
   "source": [
    "$$\\Huge [r]^e \\triangleq [r^e]$$"
   ]
  },
  {
   "cell_type": "code",
   "execution_count": 30,
   "metadata": {
    "execution": {
     "iopub.execute_input": "2024-02-22T17:16:08.588606Z",
     "iopub.status.busy": "2024-02-22T17:16:08.588467Z",
     "iopub.status.idle": "2024-02-22T17:16:08.591749Z",
     "shell.execute_reply": "2024-02-22T17:16:08.591208Z"
    },
    "slideshow": {
     "slide_type": "slide"
    },
    "tags": [
     "hide"
    ]
   },
   "outputs": [
    {
     "name": "stdout",
     "output_type": "stream",
     "text": [
      "┌──────┬─────┬─────┬─────┬─────┬─────┬─────┐\n",
      "│ \u001b[1m**\u001b[0m   │ \u001b[1m1\u001b[0m   │ \u001b[1m2\u001b[0m   │ \u001b[1m3\u001b[0m   │ \u001b[1m4\u001b[0m   │ \u001b[1m5\u001b[0m   │ \u001b[1m6\u001b[0m   │\n",
      "├──────┼─────┼─────┼─────┼─────┼─────┼─────┤\n",
      "│ \u001b[1m[1]\u001b[0m  │ [1] │     │     │     │     │     │\n",
      "├──────┼─────┼─────┼─────┼─────┼─────┼─────┤\n",
      "│ \u001b[1m[2]\u001b[0m  │ [2] │ [4] │ [1] │     │     │     │\n",
      "├──────┼─────┼─────┼─────┼─────┼─────┼─────┤\n",
      "│ \u001b[96m\u001b[1m[3]\u001b[0m\u001b[0m  │ [3] │ [2] │ [6] │ [4] │ [5] │ [1] │\n",
      "├──────┼─────┼─────┼─────┼─────┼─────┼─────┤\n",
      "│ \u001b[1m[4]\u001b[0m  │ [4] │ [2] │ [1] │     │     │     │\n",
      "├──────┼─────┼─────┼─────┼─────┼─────┼─────┤\n",
      "│ \u001b[96m\u001b[1m[5]\u001b[0m\u001b[0m  │ [5] │ [4] │ [6] │ [2] │ [3] │ [1] │\n",
      "├──────┼─────┼─────┼─────┼─────┼─────┼─────┤\n",
      "│ \u001b[1m[6]\u001b[0m  │ [6] │ [1] │     │     │     │     │\n",
      "└──────┴─────┴─────┴─────┴─────┴─────┴─────┘\n"
     ]
    }
   ],
   "source": [
    "Mod(7).generatori()"
   ]
  },
  {
   "cell_type": "markdown",
   "metadata": {
    "slideshow": {
     "slide_type": "slide"
    }
   },
   "source": [
    "$$\\Huge [y]_p = [g]_p^x$$\n",
    "\n",
    "&nbsp;"
   ]
  },
  {
   "cell_type": "markdown",
   "metadata": {
    "slideshow": {
     "slide_type": "fragment"
    }
   },
   "source": [
    "$$\\Huge \\widehat\\exp: x \\to [y]_p$$ \n",
    "\n",
    "&nbsp;"
   ]
  },
  {
   "cell_type": "markdown",
   "metadata": {
    "slideshow": {
     "slide_type": "fragment"
    }
   },
   "source": [
    "$$\\Huge \\widehat\\log: [y]_p \\to x$$"
   ]
  },
  {
   "cell_type": "code",
   "execution_count": 31,
   "metadata": {
    "execution": {
     "iopub.execute_input": "2024-02-22T17:16:08.593625Z",
     "iopub.status.busy": "2024-02-22T17:16:08.593473Z",
     "iopub.status.idle": "2024-02-22T17:16:08.596199Z",
     "shell.execute_reply": "2024-02-22T17:16:08.595653Z"
    },
    "slideshow": {
     "slide_type": "subslide"
    }
   },
   "outputs": [],
   "source": [
    "def expm(b, e, m):\n",
    "  r = 1\n",
    "  while e > 0:\n",
    "    if e % 2 == 1: r = (r * b) % m\n",
    "    b = (b * b) % m\n",
    "    e = e // 2\n",
    "  return r"
   ]
  },
  {
   "cell_type": "markdown",
   "metadata": {
    "slideshow": {
     "slide_type": "slide"
    }
   },
   "source": [
    "<img src=\"./img/dh-ke.png\" style=\"width: 40%; margin: auto; display: block;\" />"
   ]
  },
  {
   "cell_type": "markdown",
   "metadata": {
    "slideshow": {
     "slide_type": "slide"
    }
   },
   "source": [
    "$$\\Huge\n",
    "\\begin{split}\n",
    "a \\quad \\Rightarrow \\quad A = [g^a]_p \\\\\n",
    "b \\quad \\Rightarrow \\quad B = [g^b]_p\n",
    "\\end{split}\n",
    "$$\n",
    "\n",
    "&nbsp;"
   ]
  },
  {
   "cell_type": "markdown",
   "metadata": {
    "slideshow": {
     "slide_type": "fragment"
    }
   },
   "source": [
    "$$\\Huge\n",
    "\\begin{split} \n",
    "B^a &= [g^b]^a = \\left([g]^b\\right)^a = [g]^{ba} \\\\\n",
    "A^b &= [g^a]^b = \\left([g]^a\\right)^b = [g]^{ab}\n",
    "\\end{split}\n",
    "$$\n",
    "\n",
    "&nbsp;"
   ]
  },
  {
   "cell_type": "markdown",
   "metadata": {
    "slideshow": {
     "slide_type": "fragment"
    }
   },
   "source": [
    "$$\\Huge [g]^{ba} = [g]^{ab}$$\n"
   ]
  },
  {
   "cell_type": "code",
   "execution_count": 32,
   "metadata": {
    "execution": {
     "iopub.execute_input": "2024-02-22T17:16:08.597876Z",
     "iopub.status.busy": "2024-02-22T17:16:08.597738Z",
     "iopub.status.idle": "2024-02-22T17:16:09.027361Z",
     "shell.execute_reply": "2024-02-22T17:16:09.026766Z"
    },
    "slideshow": {
     "slide_type": "slide"
    }
   },
   "outputs": [
    {
     "data": {
      "text/plain": [
       "True"
      ]
     },
     "execution_count": 32,
     "metadata": {},
     "output_type": "execute_result"
    }
   ],
   "source": [
    "p = 2963\n",
    "g = 51\n",
    "\n",
    "M = Mod(p)\n",
    "\n",
    "len(M[g].potenze()) == p - 1"
   ]
  },
  {
   "cell_type": "code",
   "execution_count": 33,
   "metadata": {
    "execution": {
     "iopub.execute_input": "2024-02-22T17:16:09.029105Z",
     "iopub.status.busy": "2024-02-22T17:16:09.028974Z",
     "iopub.status.idle": "2024-02-22T17:16:09.032231Z",
     "shell.execute_reply": "2024-02-22T17:16:09.031671Z"
    },
    "slideshow": {
     "slide_type": "fragment"
    }
   },
   "outputs": [
    {
     "data": {
      "text/plain": [
       "[2149]"
      ]
     },
     "execution_count": 33,
     "metadata": {},
     "output_type": "execute_result"
    }
   ],
   "source": [
    "a = 123\n",
    "A = M[g] ** a\n",
    "A"
   ]
  },
  {
   "cell_type": "code",
   "execution_count": 34,
   "metadata": {
    "execution": {
     "iopub.execute_input": "2024-02-22T17:16:09.033802Z",
     "iopub.status.busy": "2024-02-22T17:16:09.033687Z",
     "iopub.status.idle": "2024-02-22T17:16:09.036368Z",
     "shell.execute_reply": "2024-02-22T17:16:09.035995Z"
    },
    "slideshow": {
     "slide_type": "fragment"
    }
   },
   "outputs": [
    {
     "data": {
      "text/plain": [
       "[2940]"
      ]
     },
     "execution_count": 34,
     "metadata": {},
     "output_type": "execute_result"
    }
   ],
   "source": [
    "b = 345\n",
    "B = M[g] ** b\n",
    "B"
   ]
  },
  {
   "cell_type": "code",
   "execution_count": 35,
   "metadata": {
    "execution": {
     "iopub.execute_input": "2024-02-22T17:16:09.037755Z",
     "iopub.status.busy": "2024-02-22T17:16:09.037646Z",
     "iopub.status.idle": "2024-02-22T17:16:09.040279Z",
     "shell.execute_reply": "2024-02-22T17:16:09.039876Z"
    },
    "slideshow": {
     "slide_type": "fragment"
    }
   },
   "outputs": [
    {
     "data": {
      "text/plain": [
       "([2413], [2413])"
      ]
     },
     "execution_count": 35,
     "metadata": {},
     "output_type": "execute_result"
    }
   ],
   "source": [
    "B ** a, B ** a "
   ]
  },
  {
   "cell_type": "markdown",
   "metadata": {
    "slideshow": {
     "slide_type": "slide"
    }
   },
   "source": [
    "<img src=\"./img/k7.png\" style=\"width: 40%; margin: auto; display: block;\" />"
   ]
  },
  {
   "cell_type": "markdown",
   "metadata": {
    "slideshow": {
     "slide_type": "slide"
    }
   },
   "source": [
    "<img src=\"./img/sra.jpeg\" style=\"width: 80%; margin: auto; display: block;\" />"
   ]
  },
  {
   "cell_type": "markdown",
   "metadata": {
    "slideshow": {
     "slide_type": "slide"
    }
   },
   "source": [
    "<center>\n",
    "\n",
    "# Ancora più magia!\n",
    "\n",
    "## Crittografia asimmetrica\n",
    "\n",
    "</center>"
   ]
  },
  {
   "cell_type": "markdown",
   "metadata": {
    "slideshow": {
     "slide_type": "slide"
    }
   },
   "source": [
    "$$\\Huge F_n(m, x) \\triangleq [m]_n^x$$\n",
    "\n",
    "&nbsp;"
   ]
  },
  {
   "cell_type": "markdown",
   "metadata": {
    "slideshow": {
     "slide_type": "fragment"
    }
   },
   "source": [
    "$$\\Huge p, q, e \\mapsto n, d$$\n",
    "\n",
    "&nbsp;"
   ]
  },
  {
   "cell_type": "markdown",
   "metadata": {
    "slideshow": {
     "slide_type": "fragment"
    }
   },
   "source": [
    "$$\\Large (i) \\Huge \\qquad F_n(F_n(m, e), d) = [m]_n$$\n"
   ]
  },
  {
   "cell_type": "markdown",
   "metadata": {
    "slideshow": {
     "slide_type": "fragment"
    }
   },
   "source": [
    "&nbsp;\n",
    "\n",
    "$$\\Large (ii) \\Huge  \\qquad n, d \\not\\mapsto p, q, e$$"
   ]
  },
  {
   "cell_type": "markdown",
   "metadata": {
    "slideshow": {
     "slide_type": "slide"
    }
   },
   "source": [
    "$$\\Huge F(F(m, e), d) = [m]$$"
   ]
  },
  {
   "cell_type": "markdown",
   "metadata": {
    "slideshow": {
     "slide_type": "fragment"
    }
   },
   "source": [
    "&nbsp;\n",
    "\n",
    "$$\\Huge D(C(m, k), k) = m$$\n",
    "\n",
    "&nbsp;"
   ]
  },
  {
   "cell_type": "markdown",
   "metadata": {
    "slideshow": {
     "slide_type": "fragment"
    }
   },
   "source": [
    "$$\\Huge D(C(m, e), d) = m$$\n",
    "\n",
    "&nbsp;\n",
    "\n",
    "$$\\Huge D = C = F$$"
   ]
  },
  {
   "cell_type": "markdown",
   "metadata": {
    "slideshow": {
     "slide_type": "slide"
    }
   },
   "source": [
    "$$\\Large \\Huge \\qquad n \\triangleq p \\cdot q$$"
   ]
  },
  {
   "cell_type": "code",
   "execution_count": 36,
   "metadata": {
    "execution": {
     "iopub.execute_input": "2024-02-22T17:16:09.042040Z",
     "iopub.status.busy": "2024-02-22T17:16:09.041916Z",
     "iopub.status.idle": "2024-02-22T17:16:15.881259Z",
     "shell.execute_reply": "2024-02-22T17:16:15.880415Z"
    },
    "slideshow": {
     "slide_type": "fragment"
    },
    "tags": [
     "hide"
    ]
   },
   "outputs": [
    {
     "data": {
      "image/png": "[encoded data removed]",
      "text/plain": [
       "<Figure size 640x480 with 1 Axes>"
      ]
     },
     "metadata": {},
     "output_type": "display_data"
    }
   ],
   "source": [
    "f = [\n",
    " 7,\n",
    " 83,\n",
    " 929,\n",
    " 6089,\n",
    " 58543,\n",
    " 158527,\n",
    " 1508711,\n",
    " 10507951,\n",
    " 105072001,\n",
    " 1050702811\n",
    "]\n",
    "\n",
    "plt.plot([\n",
    "  cronometra(lambda : fattorizza(moltiplica(f[:i + 1]))) for i in range(len(f))\n",
    "], '*-', label = 'fattorizza', c = 'red')\n",
    "plt.plot([\n",
    "  cronometra(lambda : moltiplica(f[:i + 1])) for i in range(len(f))\n",
    "], '*-', label = 'moltiplica', c = 'green')\n",
    "plt.yscale('log')\n",
    "plt.legend();"
   ]
  },
  {
   "cell_type": "markdown",
   "metadata": {
    "slideshow": {
     "slide_type": "slide"
    }
   },
   "source": [
    "$$\\Large (ii) \\qquad \\Huge F_n(F_n(m, e), d) = [m]_n$$\n",
    "\n",
    "&nbsp;"
   ]
  },
  {
   "cell_type": "markdown",
   "metadata": {
    "slideshow": {
     "slide_type": "fragment"
    }
   },
   "source": [
    "$$\\Huge \\qquad [m]^{ed}_n = [m]_n$$"
   ]
  },
  {
   "cell_type": "markdown",
   "metadata": {
    "slideshow": {
     "slide_type": "slide"
    }
   },
   "source": [
    "<img src=\"./img/Euler.jpeg\" style=\"width: 40%; margin: auto; display: block;\" />"
   ]
  },
  {
   "cell_type": "markdown",
   "metadata": {
    "slideshow": {
     "slide_type": "slide"
    }
   },
   "source": [
    "$$\\Huge \\varphi(n) \\triangleq  |\\{i \\in\\mathbb{N} \\mid i < n, i \\perp n\\}|$$\n",
    "\n",
    "&nbsp;"
   ]
  },
  {
   "cell_type": "markdown",
   "metadata": {
    "slideshow": {
     "slide_type": "fragment"
    }
   },
   "source": [
    "$$\\Huge m \\perp n \\Rightarrow [m]^{\\varphi(n)}_n = [1]_n$$\n",
    "\n",
    "&nbsp;"
   ]
  },
  {
   "cell_type": "markdown",
   "metadata": {
    "slideshow": {
     "slide_type": "slide"
    }
   },
   "source": [
    "$$\\Huge \\left([m]^{\\varphi(n)}\\right)^k = [1]^k$$\n",
    "\n",
    "&nbsp;\n",
    "\n",
    "$$\\Huge [m] \\cdot [m]^{k\\cdot \\varphi(n)} = [m] \\cdot [1]$$\n",
    "\n",
    "&nbsp;\n",
    "\n",
    "$$\\Huge [m]^{1 + k\\cdot \\varphi(n)} = [m]$$"
   ]
  },
  {
   "cell_type": "markdown",
   "metadata": {
    "slideshow": {
     "slide_type": "slide"
    }
   },
   "source": [
    "$$\\Huge ed = 1 + k\\cdot \\varphi(n)$$\n",
    "\n",
    "&nbsp;"
   ]
  },
  {
   "cell_type": "markdown",
   "metadata": {
    "slideshow": {
     "slide_type": "fragment"
    }
   },
   "source": [
    "$$\\Huge [ed]_{\\varphi(n)} = [1]_{\\varphi(n)}$$\n",
    "\n",
    "&nbsp;"
   ]
  },
  {
   "cell_type": "markdown",
   "metadata": {
    "slideshow": {
     "slide_type": "fragment"
    }
   },
   "source": [
    "$$\\Huge [d]_{\\varphi(n)} \\triangleq [e]^{-1}_{\\varphi(n)}$$"
   ]
  },
  {
   "cell_type": "code",
   "execution_count": 37,
   "metadata": {
    "execution": {
     "iopub.execute_input": "2024-02-22T17:16:15.883381Z",
     "iopub.status.busy": "2024-02-22T17:16:15.883258Z",
     "iopub.status.idle": "2024-02-22T17:16:16.207994Z",
     "shell.execute_reply": "2024-02-22T17:16:16.207457Z"
    },
    "slideshow": {
     "slide_type": "slide"
    },
    "tags": [
     "hide"
    ]
   },
   "outputs": [
    {
     "data": {
      "image/png": "[encoded data removed]",
      "text/plain": [
       "<Figure size 800x400 with 1 Axes>"
      ]
     },
     "metadata": {},
     "output_type": "display_data"
    }
   ],
   "source": [
    "N = list(range(1, 1000))\n",
    "plt.figure(figsize=(8, 4))\n",
    "plt.scatter(\n",
    "  N, \n",
    "  [φ(n) for n in N], s = .5, \n",
    "  color = ['r' if è_primo(n) else 'b' for n in N]\n",
    ");"
   ]
  },
  {
   "cell_type": "markdown",
   "metadata": {
    "slideshow": {
     "slide_type": "fragment"
    }
   },
   "source": [
    "$$\\Huge \\varphi(p) = p - 1$$"
   ]
  },
  {
   "cell_type": "markdown",
   "metadata": {
    "slideshow": {
     "slide_type": "fragment"
    }
   },
   "source": [
    "$$\\Huge a \\perp b \\Rightarrow \\varphi(a\\cdot b) = \\varphi(a) \\cdot \\varphi(b)$$"
   ]
  },
  {
   "cell_type": "markdown",
   "metadata": {
    "slideshow": {
     "slide_type": "slide"
    }
   },
   "source": [
    "$$\\Huge \\qquad p, q, e \\mapsto n, d$$\n",
    "\n",
    "&nbsp;\n",
    "\n",
    "$$\\Huge\n",
    "\\begin{cases}\n",
    "n \\triangleq p \\cdot q\\\\\n",
    "[d]_{(p - 1)(q - 1)} \\triangleq [e]^{-1}_{(p - 1)(q - 1)}\n",
    "\\end{cases}\n",
    "$$"
   ]
  },
  {
   "cell_type": "markdown",
   "metadata": {
    "slideshow": {
     "slide_type": "slide"
    }
   },
   "source": [
    "$$\\Huge \\qquad n, d \\not\\mapsto p, q, e$$\n",
    "\n",
    "&nbsp;\n",
    "\n",
    "$$\\Huge\n",
    "\\begin{cases}\n",
    "n \\not\\mapsto p, q, \\varphi(n) \\\\\n",
    "d \\not\\mapsto [d]^{-1}_{\\varphi(n)} = [e]_{\\varphi(n)}\n",
    "\\end{cases}\n",
    "$$ "
   ]
  },
  {
   "cell_type": "markdown",
   "metadata": {
    "slideshow": {
     "slide_type": "slide"
    }
   },
   "source": [
    "$$\\Huge F_n(m, x)$$\n",
    "\n",
    "&nbsp;"
   ]
  },
  {
   "cell_type": "code",
   "execution_count": 38,
   "metadata": {
    "execution": {
     "iopub.execute_input": "2024-02-22T17:16:16.210050Z",
     "iopub.status.busy": "2024-02-22T17:16:16.209914Z",
     "iopub.status.idle": "2024-02-22T17:16:16.212277Z",
     "shell.execute_reply": "2024-02-22T17:16:16.211974Z"
    },
    "slideshow": {
     "slide_type": "fragment"
    }
   },
   "outputs": [],
   "source": [
    "def f(m, n, x):\n",
    "  M = Mod(n)\n",
    "  return (M[m] ** x).rappresentante()"
   ]
  },
  {
   "cell_type": "code",
   "execution_count": 39,
   "metadata": {
    "execution": {
     "iopub.execute_input": "2024-02-22T17:16:16.214120Z",
     "iopub.status.busy": "2024-02-22T17:16:16.214009Z",
     "iopub.status.idle": "2024-02-22T17:16:16.216166Z",
     "shell.execute_reply": "2024-02-22T17:16:16.215864Z"
    },
    "slideshow": {
     "slide_type": "slide"
    }
   },
   "outputs": [],
   "source": [
    "p = 55202166624234742076825422018198552545568721350927\n",
    "q = 43045972142075202331028535612422134545369845034403\n",
    "e = 65537"
   ]
  },
  {
   "cell_type": "code",
   "execution_count": 40,
   "metadata": {
    "execution": {
     "iopub.execute_input": "2024-02-22T17:16:16.217731Z",
     "iopub.status.busy": "2024-02-22T17:16:16.217604Z",
     "iopub.status.idle": "2024-02-22T17:16:16.220015Z",
     "shell.execute_reply": "2024-02-22T17:16:16.219489Z"
    },
    "slideshow": {
     "slide_type": "fragment"
    }
   },
   "outputs": [],
   "source": [
    "n = p * q"
   ]
  },
  {
   "cell_type": "code",
   "execution_count": 41,
   "metadata": {
    "execution": {
     "iopub.execute_input": "2024-02-22T17:16:16.221674Z",
     "iopub.status.busy": "2024-02-22T17:16:16.221546Z",
     "iopub.status.idle": "2024-02-22T17:16:16.224772Z",
     "shell.execute_reply": "2024-02-22T17:16:16.224270Z"
    },
    "slideshow": {
     "slide_type": "fragment"
    }
   },
   "outputs": [
    {
     "data": {
      "text/plain": [
       "701154365630284037290881701138012383299504419581543080721910924221824588942701573338487759909677721"
      ]
     },
     "execution_count": 41,
     "metadata": {},
     "output_type": "execute_result"
    }
   ],
   "source": [
    "M = Mod((p - 1) * (q - 1))\n",
    "d = (M[e] ** (-1)).rappresentante()\n",
    "d"
   ]
  },
  {
   "cell_type": "code",
   "execution_count": 42,
   "metadata": {
    "execution": {
     "iopub.execute_input": "2024-02-22T17:16:16.226606Z",
     "iopub.status.busy": "2024-02-22T17:16:16.226344Z",
     "iopub.status.idle": "2024-02-22T17:16:16.228501Z",
     "shell.execute_reply": "2024-02-22T17:16:16.228133Z"
    },
    "slideshow": {
     "slide_type": "fragment"
    }
   },
   "outputs": [],
   "source": [
    "prv = (n, e)\n",
    "pub = (n, d)"
   ]
  },
  {
   "cell_type": "code",
   "execution_count": 43,
   "metadata": {
    "execution": {
     "iopub.execute_input": "2024-02-22T17:16:16.230161Z",
     "iopub.status.busy": "2024-02-22T17:16:16.230056Z",
     "iopub.status.idle": "2024-02-22T17:16:16.232603Z",
     "shell.execute_reply": "2024-02-22T17:16:16.232244Z"
    },
    "slideshow": {
     "slide_type": "slide"
    }
   },
   "outputs": [
    {
     "data": {
      "text/plain": [
       "313547121747086721395745"
      ]
     },
     "execution_count": 43,
     "metadata": {},
     "output_type": "execute_result"
    }
   ],
   "source": [
    "m = a_numero('Bella lì!')\n",
    "m"
   ]
  },
  {
   "cell_type": "code",
   "execution_count": 44,
   "metadata": {
    "execution": {
     "iopub.execute_input": "2024-02-22T17:16:16.234166Z",
     "iopub.status.busy": "2024-02-22T17:16:16.234041Z",
     "iopub.status.idle": "2024-02-22T17:16:16.236674Z",
     "shell.execute_reply": "2024-02-22T17:16:16.236298Z"
    }
   },
   "outputs": [
    {
     "data": {
      "text/plain": [
       "(True, True)"
      ]
     },
     "execution_count": 44,
     "metadata": {},
     "output_type": "execute_result"
    }
   ],
   "source": [
    "MCD(m, n) == 1, m < n"
   ]
  },
  {
   "cell_type": "code",
   "execution_count": 45,
   "metadata": {
    "execution": {
     "iopub.execute_input": "2024-02-22T17:16:16.238395Z",
     "iopub.status.busy": "2024-02-22T17:16:16.238269Z",
     "iopub.status.idle": "2024-02-22T17:16:16.240929Z",
     "shell.execute_reply": "2024-02-22T17:16:16.240612Z"
    },
    "slideshow": {
     "slide_type": "fragment"
    }
   },
   "outputs": [
    {
     "data": {
      "text/plain": [
       "1538783477976996928634014774512899410342179052487146901742256323416866179187484958304791756168895087"
      ]
     },
     "execution_count": 45,
     "metadata": {},
     "output_type": "execute_result"
    }
   ],
   "source": [
    "c = f(m, *pub)\n",
    "c"
   ]
  },
  {
   "cell_type": "code",
   "execution_count": 46,
   "metadata": {
    "execution": {
     "iopub.execute_input": "2024-02-22T17:16:16.242963Z",
     "iopub.status.busy": "2024-02-22T17:16:16.242824Z",
     "iopub.status.idle": "2024-02-22T17:16:16.245359Z",
     "shell.execute_reply": "2024-02-22T17:16:16.245040Z"
    },
    "slideshow": {
     "slide_type": "fragment"
    }
   },
   "outputs": [
    {
     "data": {
      "text/plain": [
       "'Bella lì!'"
      ]
     },
     "execution_count": 46,
     "metadata": {},
     "output_type": "execute_result"
    }
   ],
   "source": [
    "da_numero(f(c, *prv))"
   ]
  },
  {
   "cell_type": "markdown",
   "metadata": {
    "slideshow": {
     "slide_type": "slide"
    }
   },
   "source": [
    "<center>\n",
    "\n",
    "## Firma digitale\n",
    "\n",
    "</center>"
   ]
  },
  {
   "cell_type": "code",
   "execution_count": 47,
   "metadata": {
    "execution": {
     "iopub.execute_input": "2024-02-22T17:16:16.247265Z",
     "iopub.status.busy": "2024-02-22T17:16:16.247168Z",
     "iopub.status.idle": "2024-02-22T17:16:16.249669Z",
     "shell.execute_reply": "2024-02-22T17:16:16.249380Z"
    },
    "slideshow": {
     "slide_type": "slide"
    }
   },
   "outputs": [
    {
     "data": {
      "text/plain": [
       "889083638752155628545502045048817268794357067783608461028896573341592978755168396208918521167789527"
      ]
     },
     "execution_count": 47,
     "metadata": {},
     "output_type": "execute_result"
    }
   ],
   "source": [
    "s = f(m, *prv)\n",
    "s"
   ]
  },
  {
   "cell_type": "code",
   "execution_count": 48,
   "metadata": {
    "execution": {
     "iopub.execute_input": "2024-02-22T17:16:16.251357Z",
     "iopub.status.busy": "2024-02-22T17:16:16.251213Z",
     "iopub.status.idle": "2024-02-22T17:16:16.254016Z",
     "shell.execute_reply": "2024-02-22T17:16:16.253659Z"
    },
    "slideshow": {
     "slide_type": "fragment"
    }
   },
   "outputs": [
    {
     "data": {
      "text/plain": [
       "'Bella lì!'"
      ]
     },
     "execution_count": 48,
     "metadata": {},
     "output_type": "execute_result"
    }
   ],
   "source": [
    "da_numero(f(s, *pub))"
   ]
  },
  {
   "cell_type": "markdown",
   "metadata": {
    "slideshow": {
     "slide_type": "slide"
    }
   },
   "source": [
    "<center>\n",
    "\n",
    "# Bibliografia e sitografia\n",
    "\n",
    "</center>\n",
    "\n",
    "* Libri\n",
    "\n",
    "  David Kahn, \"The Codebreakers: The Story of Secret Writing\", Macmillan, 1967;\n",
    "  \n",
    "  Simon Singh, \"The code Book: The Science of Secrecy from Ancient Egypt to Quantum Cryptography\", 2000.\n",
    "\n",
    "* YouTube\n",
    "\n",
    "  [Diffie-Hellman Key Exchange](https://youtu.be/YEBfamv-_do) e \n",
    "  [RSA Encryption Algorithm](https://youtu.be/wXB-V_Keiu8).\n",
    "\n",
    "* Wikipedia\n",
    "\n",
    "  [Modular arithmetic](https://www.wikiwand.com/en/Modular_arithmetic),\n",
    "  [Extended Euclidean algorithm](https://www.wikiwand.com/en/Extended_Euclidean_algorithm),\n",
    "  [Euler's totient function](https://www.wikiwand.com/en/Euler's_totient_function),\n",
    "  [Euler's theorem](https://www.wikiwand.com/en/Euler%27s_theorem),\n",
    "  [Bezout's identity](https://www.wikiwand.com/en/B%C3%A9zout's_identity),\n",
    "  [Diffie-Hellman key exchange](https://www.wikiwand.com/en/Diffie%E2%80%93Hellman_key_exchange),\n",
    "  [RSA](https://www.wikiwand.com/en/RSA_(cryptosystem)).\n",
    "\n",
    "* Altro\n",
    "\n",
    "  [Big Ideas of Cryptography in K-12](https://bigideascryptok12.bitbucket.io/)."
   ]
  }
 ],
 "metadata": {
  "kernelspec": {
   "display_name": "dir-jupyter-fun-b812212f80584f228cf2fbd10554d7ac",
   "language": "python",
   "name": "python3"
  },
  "language_info": {
   "codemirror_mode": {
    "name": "ipython",
    "version": 3
   },
   "file_extension": ".py",
   "mimetype": "text/x-python",
   "name": "python",
   "nbconvert_exporter": "python",
   "pygments_lexer": "ipython3",
   "version": "3.10.12"
  }
 },
 "nbformat": 4,
 "nbformat_minor": 2
}
