{
 "cells": [
  {
   "cell_type": "code",
   "execution_count": 1,
   "metadata": {
    "execution": {
     "iopub.execute_input": "2023-10-24T07:36:30.528708Z",
     "iopub.status.busy": "2023-10-24T07:36:30.528077Z",
     "iopub.status.idle": "2023-10-24T07:36:30.873708Z",
     "shell.execute_reply": "2023-10-24T07:36:30.873233Z"
    },
    "slideshow": {
     "slide_type": "skip"
    }
   },
   "outputs": [],
   "source": [
    "from itertools import cycle, islice\n",
    "\n",
    "from modandcrypt import *"
   ]
  },
  {
   "cell_type": "markdown",
   "metadata": {
    "slideshow": {
     "slide_type": "slide"
    }
   },
   "source": [
    "<center>\n",
    "\n",
    "# Crittografia \n",
    "\n",
    "## &amp;\n",
    "\n",
    "# Aritmetica modulare\n",
    "\n",
    "&nbsp;\n",
    "\n",
    "&nbsp;\n",
    "\n",
    "&nbsp;\n",
    "\n",
    "### Massimo Santini\n",
    "\n",
    "</center>"
   ]
  },
  {
   "cell_type": "markdown",
   "metadata": {
    "slideshow": {
     "slide_type": "slide"
    }
   },
   "source": [
    "<center>\n",
    "\n",
    "# Cosa\n",
    "\n",
    "</center>\n",
    "\n",
    "<img src=\"./img/scitala.png\" style=\"width: 40%; margin: auto; display: block;\" />"
   ]
  },
  {
   "cell_type": "markdown",
   "metadata": {
    "slideshow": {
     "slide_type": "slide"
    }
   },
   "source": [
    "<center>\n",
    "\n",
    "# Come\n",
    "\n",
    "</center>\n",
    "\n",
    "<img src=\"./img/cow.png\" style=\"width: 40%; margin: auto; display: block;\" />"
   ]
  },
  {
   "cell_type": "markdown",
   "metadata": {
    "slideshow": {
     "slide_type": "slide"
    }
   },
   "source": [
    "<center>\n",
    "\n",
    "# Perché\n",
    "\n",
    "</center>\n",
    "\n",
    "<img src=\"./img/Gauss.png\" style=\"width: 40%; margin: auto; display: block;\" />"
   ]
  },
  {
   "cell_type": "markdown",
   "metadata": {
    "slideshow": {
     "slide_type": "slide"
    }
   },
   "source": [
    "> Queste note sono generate a partire da un notebook [Jupyter](https://jupyter.org/)\n",
    "> disponibile su [GitHub](https://github.com/mapio/modandcrypt).\n",
    "> In particolare, molto del materiale qui visualizzato è prodotto da del codice in \n",
    "> [Python](https://www.python.org/) sviluppato appositamente e distribuito in modalità\n",
    "> *open source* e che quindi potete liberamente studiare, modificare e distribuire.\n",
    "> Se vi piace programmare, date una occhiata!\n",
    "\n",
    "<img src=\"./img/qr.png\" style=\"width: 40%; margin: auto; display: block;\" />"
   ]
  },
  {
   "cell_type": "markdown",
   "metadata": {
    "slideshow": {
     "slide_type": "slide"
    }
   },
   "source": [
    "<center>\n",
    "\n",
    "# Crittografia\n",
    "\n",
    "## A chiave simmetrica\n",
    "\n",
    "</center>"
   ]
  },
  {
   "cell_type": "markdown",
   "metadata": {
    "slideshow": {
     "slide_type": "slide"
    }
   },
   "source": [
    "<img src=\"./img/parties.png\" style=\"width: 90%; margin: auto; display: block;\" />"
   ]
  },
  {
   "cell_type": "markdown",
   "metadata": {
    "slideshow": {
     "slide_type": "subslide"
    }
   },
   "source": [
    "$$\\Huge C(p, k) = c \\qquad\\text{e}\\qquad D(c, k) = p$$"
   ]
  },
  {
   "cell_type": "markdown",
   "metadata": {
    "slideshow": {
     "slide_type": "fragment"
    }
   },
   "source": [
    "$$\\Huge D(C(p, k), k) = p$$"
   ]
  },
  {
   "cell_type": "markdown",
   "metadata": {
    "slideshow": {
     "slide_type": "fragment"
    }
   },
   "source": [
    "$$\\Huge D(c) = p$$"
   ]
  },
  {
   "cell_type": "markdown",
   "metadata": {
    "slideshow": {
     "slide_type": "slide"
    }
   },
   "source": [
    "<center>\n",
    "\n",
    "# Monoalfabetica\n",
    "\n",
    "</center>"
   ]
  },
  {
   "cell_type": "markdown",
   "metadata": {
    "slideshow": {
     "slide_type": "slide"
    }
   },
   "source": [
    "<img src=\"./img/ruota.png\" style=\"width: 50%; margin: auto; display: block;\" />"
   ]
  },
  {
   "cell_type": "code",
   "execution_count": 2,
   "metadata": {
    "execution": {
     "iopub.execute_input": "2023-10-24T07:36:30.876516Z",
     "iopub.status.busy": "2023-10-24T07:36:30.876325Z",
     "iopub.status.idle": "2023-10-24T07:36:30.880899Z",
     "shell.execute_reply": "2023-10-24T07:36:30.880486Z"
    },
    "slideshow": {
     "slide_type": "slide"
    },
    "tags": [
     "hide"
    ]
   },
   "outputs": [
    {
     "name": "stdout",
     "output_type": "stream",
     "text": [
      "┌───────────┬───┬───┬───┬───┬───┬───┬───┬────┬────┬────┬────┬────┬────┐\n",
      "│ \u001b[1mlettera\u001b[0m   │ A │ B │ C │ D │ E │ F │ … │ W  │ X  │ Y  │ Z  │ ␢  │ ↩  │\n",
      "├───────────┼───┼───┼───┼───┼───┼───┼───┼────┼────┼────┼────┼────┼────┤\n",
      "│ \u001b[1mposizione\u001b[0m │ 0 │ 1 │ 2 │ 3 │ 4 │ 5 │ … │ 22 │ 23 │ 24 │ 25 │ 26 │ 27 │\n",
      "└───────────┴───┴───┴───┴───┴───┴───┴───┴────┴────┴────┴────┴────┴────┘\n"
     ]
    }
   ],
   "source": [
    "pos = list(range(NUM_SEMPLICI))\n",
    "n = 6\n",
    "tabella([\n",
    "  SEMPLICI_VISUALIZZABILI[:n] + ['…'] + SEMPLICI_VISUALIZZABILI[-n:], \n",
    "  pos[:n] + ['…'] + pos[-n:]\n",
    "], index = sgr(['lettera', 'posizione']))"
   ]
  },
  {
   "cell_type": "code",
   "execution_count": 3,
   "metadata": {
    "execution": {
     "iopub.execute_input": "2023-10-24T07:36:30.906824Z",
     "iopub.status.busy": "2023-10-24T07:36:30.906617Z",
     "iopub.status.idle": "2023-10-24T07:36:30.910117Z",
     "shell.execute_reply": "2023-10-24T07:36:30.909682Z"
    },
    "slideshow": {
     "slide_type": "slide"
    },
    "tags": [
     "hide"
    ]
   },
   "outputs": [
    {
     "name": "stdout",
     "output_type": "stream",
     "text": [
      "┌───────────┬───┬───┬────┬────┬───┬────┬────┬───┬────┐\n",
      "│ \u001b[1mtesto\u001b[0m     │ B │ E │ L  │ L  │ A │    │ Z  │ I │ O  │\n",
      "├───────────┼───┼───┼────┼────┼───┼────┼────┼───┼────┤\n",
      "│ \u001b[1mposizioni\u001b[0m │ 1 │ 4 │ 11 │ 11 │ 0 │ 26 │ 25 │ 8 │ 14 │\n",
      "└───────────┴───┴───┴────┴────┴───┴────┴────┴───┴────┘\n"
     ]
    }
   ],
   "source": [
    "testo = 'BELLA ZIO'\n",
    "tabella([testo, a_posizioni(testo)], index = sgr(['testo','posizioni']))"
   ]
  },
  {
   "cell_type": "code",
   "execution_count": 4,
   "metadata": {
    "execution": {
     "iopub.execute_input": "2023-10-24T07:36:30.912023Z",
     "iopub.status.busy": "2023-10-24T07:36:30.911794Z",
     "iopub.status.idle": "2023-10-24T07:36:30.915301Z",
     "shell.execute_reply": "2023-10-24T07:36:30.914874Z"
    },
    "slideshow": {
     "slide_type": "slide"
    },
    "tags": [
     "hide"
    ]
   },
   "outputs": [
    {
     "name": "stdout",
     "output_type": "stream",
     "text": [
      "┌───────┬───┬───┬────┬────┬───┬────┬────┬────┬────┐\n",
      "│ \u001b[1ma\u001b[0m     │ 1 │ 4 │ 11 │ 11 │ 0 │ 26 │ 25 │  8 │ 14 │\n",
      "├───────┼───┼───┼────┼────┼───┼────┼────┼────┼────┤\n",
      "│ \u001b[1mb\u001b[0m     │ 3 │ 3 │  3 │  3 │ 3 │  3 │  3 │  3 │  3 │\n",
      "├───────┼───┼───┼────┼────┼───┼────┼────┼────┼────┤\n",
      "│ \u001b[1ma + b\u001b[0m │ 4 │ 7 │ 14 │ 14 │ 3 │  1 │  0 │ 11 │ 17 │\n",
      "└───────┴───┴───┴────┴────┴───┴────┴────┴────┴────┘\n"
     ]
    }
   ],
   "source": [
    "tabella([\n",
    "  a_posizioni(testo), \n",
    "  [3] * len(testo), \n",
    "  orologio_somma(a_posizioni(testo), [3] * len(testo))\n",
    "], index = sgr(['a', 'b', 'a + b']))"
   ]
  },
  {
   "cell_type": "code",
   "execution_count": 5,
   "metadata": {
    "execution": {
     "iopub.execute_input": "2023-10-24T07:36:30.917136Z",
     "iopub.status.busy": "2023-10-24T07:36:30.916960Z",
     "iopub.status.idle": "2023-10-24T07:36:30.920007Z",
     "shell.execute_reply": "2023-10-24T07:36:30.919585Z"
    },
    "slideshow": {
     "slide_type": "slide"
    },
    "tags": [
     "hide"
    ]
   },
   "outputs": [
    {
     "name": "stdout",
     "output_type": "stream",
     "text": [
      "┌───┬─────┬─────┬──────┬──────┬─────┬─────┬──────┬──────┬──────┐\n",
      "│ \u001b[1mp\u001b[0m │ B:1 │ E:4 │ L:11 │ L:11 │ A:0 │ :26 │ Z:25 │ I:8  │ O:14 │\n",
      "├───┼─────┼─────┼──────┼──────┼─────┼─────┼──────┼──────┼──────┤\n",
      "│ \u001b[1mk\u001b[0m │ D:3 │ D:3 │ D:3  │ D:3  │ D:3 │ D:3 │ D:3  │ D:3  │ D:3  │\n",
      "├───┼─────┼─────┼──────┼──────┼─────┼─────┼──────┼──────┼──────┤\n",
      "│ \u001b[1mc\u001b[0m │ E:4 │ H:7 │ O:14 │ O:14 │ D:3 │ B:1 │ A:0  │ L:11 │ R:17 │\n",
      "└───┴─────┴─────┴──────┴──────┴─────┴─────┴──────┴──────┴──────┘\n"
     ]
    }
   ],
   "source": [
    "c = cifra(testo, 'D')"
   ]
  },
  {
   "cell_type": "code",
   "execution_count": 6,
   "metadata": {
    "execution": {
     "iopub.execute_input": "2023-10-24T07:36:30.921792Z",
     "iopub.status.busy": "2023-10-24T07:36:30.921645Z",
     "iopub.status.idle": "2023-10-24T07:36:30.924169Z",
     "shell.execute_reply": "2023-10-24T07:36:30.923751Z"
    },
    "slideshow": {
     "slide_type": "fragment"
    },
    "tags": [
     "hide"
    ]
   },
   "outputs": [
    {
     "name": "stdout",
     "output_type": "stream",
     "text": [
      "EHOODBALR\n"
     ]
    }
   ],
   "source": [
    "print(c) "
   ]
  },
  {
   "cell_type": "code",
   "execution_count": 7,
   "metadata": {
    "execution": {
     "iopub.execute_input": "2023-10-24T07:36:30.925961Z",
     "iopub.status.busy": "2023-10-24T07:36:30.925816Z",
     "iopub.status.idle": "2023-10-24T07:36:30.928853Z",
     "shell.execute_reply": "2023-10-24T07:36:30.928427Z"
    },
    "slideshow": {
     "slide_type": "slide"
    },
    "tags": [
     "hide"
    ]
   },
   "outputs": [
    {
     "name": "stdout",
     "output_type": "stream",
     "text": [
      "┌───┬──────┬──────┬──────┬──────┬──────┬──────┬──────┬──────┬──────┐\n",
      "│ \u001b[1mc\u001b[0m │ E:4  │ H:7  │ O:14 │ O:14 │ D:3  │ B:1  │ A:0  │ L:11 │ R:17 │\n",
      "├───┼──────┼──────┼──────┼──────┼──────┼──────┼──────┼──────┼──────┤\n",
      "│ \u001b[1mk\u001b[0m │ Z:25 │ Z:25 │ Z:25 │ Z:25 │ Z:25 │ Z:25 │ Z:25 │ Z:25 │ Z:25 │\n",
      "├───┼──────┼──────┼──────┼──────┼──────┼──────┼──────┼──────┼──────┤\n",
      "│ \u001b[1mp\u001b[0m │ B:1  │ E:4  │ L:11 │ L:11 │ A:0  │ :26  │ Z:25 │ I:8  │ O:14 │\n",
      "└───┴──────┴──────┴──────┴──────┴──────┴──────┴──────┴──────┴──────┘\n"
     ]
    }
   ],
   "source": [
    "d = decifra(c, 'D')"
   ]
  },
  {
   "cell_type": "code",
   "execution_count": 8,
   "metadata": {
    "execution": {
     "iopub.execute_input": "2023-10-24T07:36:30.930633Z",
     "iopub.status.busy": "2023-10-24T07:36:30.930494Z",
     "iopub.status.idle": "2023-10-24T07:36:30.932918Z",
     "shell.execute_reply": "2023-10-24T07:36:30.932522Z"
    },
    "slideshow": {
     "slide_type": "fragment"
    },
    "tags": [
     "hide"
    ]
   },
   "outputs": [
    {
     "name": "stdout",
     "output_type": "stream",
     "text": [
      "BELLA ZIO\n"
     ]
    }
   ],
   "source": [
    "print(d)"
   ]
  },
  {
   "cell_type": "code",
   "execution_count": 9,
   "metadata": {
    "execution": {
     "iopub.execute_input": "2023-10-24T07:36:30.934625Z",
     "iopub.status.busy": "2023-10-24T07:36:30.934461Z",
     "iopub.status.idle": "2023-10-24T07:36:30.936755Z",
     "shell.execute_reply": "2023-10-24T07:36:30.936359Z"
    },
    "slideshow": {
     "slide_type": "slide"
    }
   },
   "outputs": [],
   "source": [
    "def C(p, k):\n",
    "  return da_posizioni(\n",
    "    orologio_somma(\n",
    "      a_posizioni(p), \n",
    "      a_posizioni(k)\n",
    "    )\n",
    "  )"
   ]
  },
  {
   "cell_type": "code",
   "execution_count": 10,
   "metadata": {
    "execution": {
     "iopub.execute_input": "2023-10-24T07:36:30.938448Z",
     "iopub.status.busy": "2023-10-24T07:36:30.938313Z",
     "iopub.status.idle": "2023-10-24T07:36:30.940694Z",
     "shell.execute_reply": "2023-10-24T07:36:30.940294Z"
    },
    "slideshow": {
     "slide_type": "fragment"
    }
   },
   "outputs": [],
   "source": [
    "def D(c, k):\n",
    "  return da_posizioni(\n",
    "    orologio_somma(\n",
    "      a_posizioni(c), \n",
    "      a_posizioni(\n",
    "        inverti(k)\n",
    "      )\n",
    "    )\n",
    "  )"
   ]
  },
  {
   "cell_type": "code",
   "execution_count": 11,
   "metadata": {
    "execution": {
     "iopub.execute_input": "2023-10-24T07:36:30.942545Z",
     "iopub.status.busy": "2023-10-24T07:36:30.942210Z",
     "iopub.status.idle": "2023-10-24T07:36:30.944480Z",
     "shell.execute_reply": "2023-10-24T07:36:30.944078Z"
    },
    "slideshow": {
     "slide_type": "slide"
    }
   },
   "outputs": [],
   "source": [
    "p = 'BELLA ZIO'\n",
    "k = 'D'"
   ]
  },
  {
   "cell_type": "code",
   "execution_count": 12,
   "metadata": {
    "execution": {
     "iopub.execute_input": "2023-10-24T07:36:30.946180Z",
     "iopub.status.busy": "2023-10-24T07:36:30.946043Z",
     "iopub.status.idle": "2023-10-24T07:36:30.948481Z",
     "shell.execute_reply": "2023-10-24T07:36:30.948082Z"
    },
    "slideshow": {
     "slide_type": "fragment"
    }
   },
   "outputs": [
    {
     "name": "stdout",
     "output_type": "stream",
     "text": [
      "EHOODBALR\n"
     ]
    }
   ],
   "source": [
    "c = C(p, k)\n",
    "print(c)"
   ]
  },
  {
   "cell_type": "code",
   "execution_count": 13,
   "metadata": {
    "execution": {
     "iopub.execute_input": "2023-10-24T07:36:30.950173Z",
     "iopub.status.busy": "2023-10-24T07:36:30.950009Z",
     "iopub.status.idle": "2023-10-24T07:36:30.952467Z",
     "shell.execute_reply": "2023-10-24T07:36:30.952069Z"
    },
    "slideshow": {
     "slide_type": "fragment"
    }
   },
   "outputs": [
    {
     "name": "stdout",
     "output_type": "stream",
     "text": [
      "BELLA ZIO\n"
     ]
    }
   ],
   "source": [
    "d = D(c, k)\n",
    "print(d)"
   ]
  },
  {
   "cell_type": "markdown",
   "metadata": {
    "slideshow": {
     "slide_type": "slide"
    }
   },
   "source": [
    "<center>\n",
    "\n",
    "# Crittoanalisi\n",
    "\n",
    "</center>"
   ]
  },
  {
   "cell_type": "markdown",
   "metadata": {
    "slideshow": {
     "slide_type": "slide"
    }
   },
   "source": [
    "<center>\n",
    "\n",
    "## Forza bruta\n",
    "\n",
    "</center>"
   ]
  },
  {
   "cell_type": "code",
   "execution_count": 14,
   "metadata": {
    "execution": {
     "iopub.execute_input": "2023-10-24T07:36:30.954331Z",
     "iopub.status.busy": "2023-10-24T07:36:30.954166Z",
     "iopub.status.idle": "2023-10-24T07:36:30.957677Z",
     "shell.execute_reply": "2023-10-24T07:36:30.957274Z"
    },
    "slideshow": {
     "slide_type": "slide"
    },
    "tags": [
     "hide"
    ]
   },
   "outputs": [
    {
     "name": "stdout",
     "output_type": "stream",
     "text": [
      "┌─────┬───────────┐\n",
      "│ \u001b[1mk\u001b[0m   │ \u001b[1mD(c, k)\u001b[0m   │\n",
      "├─────┼───────────┤\n",
      "│ A   │ EHOODBALR │\n",
      "├─────┼───────────┤\n",
      "│ B   │ DGNNCA↩KQ │\n",
      "├─────┼───────────┤\n",
      "│ C   │ CFMMB↩␢JP │\n",
      "├─────┼───────────┤\n",
      "│ D   │ BELLA␢ZIO │\n",
      "├─────┼───────────┤\n",
      "│ E   │ ADKK↩ZYHN │\n",
      "├─────┼───────────┤\n",
      "│ …   │ …         │\n",
      "├─────┼───────────┤\n",
      "│ ␢   │ GJQQFDCNT │\n",
      "├─────┼───────────┤\n",
      "│ ↩   │ FIPPECBMS │\n",
      "└─────┴───────────┘\n"
     ]
    }
   ],
   "source": [
    "vals = [[a_visualizzazione(k), a_visualizzazione(D(c, k))] for k in SEMPLICI]\n",
    "tabella(vals[:5] + [['…', '…']] + vals[-2:], header = sgr(['k', 'D(c, k)']))"
   ]
  },
  {
   "cell_type": "code",
   "execution_count": 15,
   "metadata": {
    "execution": {
     "iopub.execute_input": "2023-10-24T07:36:30.959397Z",
     "iopub.status.busy": "2023-10-24T07:36:30.959259Z",
     "iopub.status.idle": "2023-10-24T07:36:30.961893Z",
     "shell.execute_reply": "2023-10-24T07:36:30.961492Z"
    },
    "slideshow": {
     "slide_type": "subslide"
    }
   },
   "outputs": [
    {
     "name": "stdout",
     "output_type": "stream",
     "text": [
      "EHOODBALR\n",
      "DGNNCA↩KQ\n",
      "CFMMB↩␢JP\n",
      "BELLA␢ZIO\n",
      "ADKK↩ZYHN\n",
      "↩CJJ␢YXGM\n",
      "␢BIIZXWFL\n",
      "ZAHHYWVEK\n",
      "Y↩GGXVUDJ\n",
      "X␢FFWUTCI\n"
     ]
    }
   ],
   "source": [
    "for k in SEMPLICI[:10]:\n",
    "  print(a_visualizzazione((D(c, k))))"
   ]
  },
  {
   "cell_type": "markdown",
   "metadata": {
    "slideshow": {
     "slide_type": "slide"
    }
   },
   "source": [
    "<center>\n",
    "\n",
    "## Analisi frequenziale\n",
    "\n",
    "### Da \"I promessi sposi\"\n",
    "\n",
    "</center>"
   ]
  },
  {
   "cell_type": "code",
   "execution_count": 16,
   "metadata": {
    "execution": {
     "iopub.execute_input": "2023-10-24T07:36:30.963606Z",
     "iopub.status.busy": "2023-10-24T07:36:30.963469Z",
     "iopub.status.idle": "2023-10-24T07:36:32.558888Z",
     "shell.execute_reply": "2023-10-24T07:36:32.558324Z"
    },
    "slideshow": {
     "slide_type": "slide"
    },
    "tags": [
     "hide"
    ]
   },
   "outputs": [
    {
     "data": {
      "image/png": "[encoded data removed]",
      "text/plain": [
       "<Figure size 640x480 with 1 Axes>"
      ]
     },
     "metadata": {},
     "output_type": "display_data"
    }
   ],
   "source": [
    "PROMESSI_SPOSI = da_gutenberg('https://dev.gutenberg.org/cache/epub/45334/pg45334.txt')\n",
    "istogramma_lettere(PROMESSI_SPOSI);"
   ]
  },
  {
   "cell_type": "code",
   "execution_count": 17,
   "metadata": {
    "execution": {
     "iopub.execute_input": "2023-10-24T07:36:32.561251Z",
     "iopub.status.busy": "2023-10-24T07:36:32.561050Z",
     "iopub.status.idle": "2023-10-24T07:36:32.564502Z",
     "shell.execute_reply": "2023-10-24T07:36:32.563977Z"
    },
    "slideshow": {
     "slide_type": "slide"
    },
    "tags": [
     "hide"
    ]
   },
   "outputs": [
    {
     "name": "stdout",
     "output_type": "stream",
     "text": [
      "\n",
      "TUTTE DUE SI VOLSERO A CHI NE SAPEVA PIU DI LORO E DA CUI \n",
      "ASPETTAVANO UNO SCHIARIMENTO IL QUALE NON POTEVA ESSERE CHE \n",
      "DOLOROSO TUTTE DUE LASCIANDO TRAVEDERE IN MEZZO AL DOLORE \n",
      "E CON LAMORE DIVERSO CHE OGNUN DESSI PORTAVA A LUCIA\n",
      "\n"
     ]
    }
   ],
   "source": [
    "pps = semplifica(\"\"\"\n",
    "Tutt'e due si volsero a chi ne sapeva piu' di loro, e da cui \n",
    "aspettavano uno schiarimento, il quale non poteva essere che \n",
    "doloroso: tutt'e due, lasciando travedere, in mezzo al dolore, \n",
    "e con l'amore diverso che ognun d'essi portava a Lucia.\n",
    "\"\"\")\n",
    "print(pps)\n"
   ]
  },
  {
   "cell_type": "code",
   "execution_count": 18,
   "metadata": {
    "execution": {
     "iopub.execute_input": "2023-10-24T07:36:32.566722Z",
     "iopub.status.busy": "2023-10-24T07:36:32.566537Z",
     "iopub.status.idle": "2023-10-24T07:36:32.569580Z",
     "shell.execute_reply": "2023-10-24T07:36:32.569047Z"
    },
    "slideshow": {
     "slide_type": "slide"
    },
    "tags": [
     "hide"
    ]
   },
   "outputs": [
    {
     "name": "stdout",
     "output_type": "stream",
     "text": [
      "FZ ZZKEJ KEYOE\n",
      "URYKXUEGEINOETKEYGVK\n",
      "GEVO EJOERUXUEKEJGEI OEFGYVKZZG\n",
      "GTUE TUEYINOGXOSKTZUEOREW GRKETUTEVUZK\n",
      "GEKYYKXKEINKEFJURUXUYUEZ ZZKEJ KERGYIOGTJUEZXG\n",
      "KJKXKEOTESKDDUEGREJURUXKEFKEIUTERGSUXKEJO\n",
      "KXYUEINKEUMT TEJKYYOEVUXZG\n",
      "GEGER IOGF\n"
     ]
    }
   ],
   "source": [
    "c = C(pps, 'G')\n",
    "print(c)"
   ]
  },
  {
   "cell_type": "code",
   "execution_count": 19,
   "metadata": {
    "execution": {
     "iopub.execute_input": "2023-10-24T07:36:32.571784Z",
     "iopub.status.busy": "2023-10-24T07:36:32.571600Z",
     "iopub.status.idle": "2023-10-24T07:36:32.691557Z",
     "shell.execute_reply": "2023-10-24T07:36:32.691116Z"
    },
    "slideshow": {
     "slide_type": "slide"
    },
    "tags": [
     "hide"
    ]
   },
   "outputs": [
    {
     "data": {
      "image/png": "[encoded data removed]",
      "text/plain": [
       "<Figure size 640x480 with 1 Axes>"
      ]
     },
     "metadata": {},
     "output_type": "display_data"
    }
   ],
   "source": [
    "istogramma_lettere(c);"
   ]
  },
  {
   "cell_type": "code",
   "execution_count": 20,
   "metadata": {
    "execution": {
     "iopub.execute_input": "2023-10-24T07:36:32.693827Z",
     "iopub.status.busy": "2023-10-24T07:36:32.693645Z",
     "iopub.status.idle": "2023-10-24T07:36:32.696413Z",
     "shell.execute_reply": "2023-10-24T07:36:32.695933Z"
    },
    "slideshow": {
     "slide_type": "slide"
    }
   },
   "outputs": [
    {
     "name": "stdout",
     "output_type": "stream",
     "text": [
      "\n",
      "TUTTE DUE SI VOLSERO A CHI NE SAPEVA PIU DI LORO E DA CUI \n",
      "ASPETTAVANO UNO SCHIARIMENTO IL QUALE NON POTEVA ESSERE CHE \n",
      "DOLOROSO TUTTE DUE LASCIANDO TRAVEDERE IN MEZZO AL DOLORE \n",
      "E CON LAMORE DIVERSO CHE OGNUN DESSI PORTAVA A LUCIA\n",
      "\n"
     ]
    }
   ],
   "source": [
    "print(D(c, 'G'))"
   ]
  },
  {
   "cell_type": "markdown",
   "metadata": {
    "slideshow": {
     "slide_type": "slide"
    }
   },
   "source": [
    "<center>\n",
    "\n",
    "# Polialfabetica\n",
    "\n",
    "</center>"
   ]
  },
  {
   "cell_type": "markdown",
   "metadata": {
    "slideshow": {
     "slide_type": "slide"
    }
   },
   "source": [
    "<img src=\"./img/Vigenere.png\" style=\"width: 50%; margin: auto; display: block;\" />"
   ]
  },
  {
   "cell_type": "code",
   "execution_count": 21,
   "metadata": {
    "execution": {
     "iopub.execute_input": "2023-10-24T07:36:32.698583Z",
     "iopub.status.busy": "2023-10-24T07:36:32.698444Z",
     "iopub.status.idle": "2023-10-24T07:36:32.701850Z",
     "shell.execute_reply": "2023-10-24T07:36:32.701504Z"
    },
    "slideshow": {
     "slide_type": "slide"
    },
    "tags": [
     "hide"
    ]
   },
   "outputs": [
    {
     "name": "stdout",
     "output_type": "stream",
     "text": [
      "┌───────┬───┬────┬────┬────┬───┬────┬────┬────┬────┐\n",
      "│ \u001b[1ma\u001b[0m     │ 1 │  4 │ 11 │ 11 │ 0 │ 26 │ 25 │  8 │ 14 │\n",
      "├───────┼───┼────┼────┼────┼───┼────┼────┼────┼────┤\n",
      "│ \u001b[1mb\u001b[0m     │ 2 │  8 │  0 │ 14 │ 2 │  8 │  0 │ 14 │  2 │\n",
      "├───────┼───┼────┼────┼────┼───┼────┼────┼────┼────┤\n",
      "│ \u001b[1ma + b\u001b[0m │ 3 │ 12 │ 11 │ 25 │ 2 │  6 │ 25 │ 22 │ 16 │\n",
      "└───────┴───┴────┴────┴────┴───┴────┴────┴────┴────┘\n"
     ]
    }
   ],
   "source": [
    "testo = 'BELLA ZIO'\n",
    "chiave = 'CIAO'\n",
    "tabella([\n",
    "  a_posizioni(testo), \n",
    "  islice(cycle(a_posizioni(chiave)), len(testo)), \n",
    "  orologio_somma(a_posizioni(testo), a_posizioni(chiave))\n",
    "], index = sgr(['a', 'b', 'a + b']))"
   ]
  },
  {
   "cell_type": "code",
   "execution_count": 22,
   "metadata": {
    "execution": {
     "iopub.execute_input": "2023-10-24T07:36:32.703949Z",
     "iopub.status.busy": "2023-10-24T07:36:32.703809Z",
     "iopub.status.idle": "2023-10-24T07:36:32.706703Z",
     "shell.execute_reply": "2023-10-24T07:36:32.706359Z"
    },
    "slideshow": {
     "slide_type": "slide"
    },
    "tags": [
     "hide"
    ]
   },
   "outputs": [
    {
     "name": "stdout",
     "output_type": "stream",
     "text": [
      "┌───┬─────┬──────┬──────┬──────┬─────┬─────┬──────┬──────┬──────┐\n",
      "│ \u001b[1mp\u001b[0m │ B:1 │ E:4  │ L:11 │ L:11 │ A:0 │ :26 │ Z:25 │ I:8  │ O:14 │\n",
      "├───┼─────┼──────┼──────┼──────┼─────┼─────┼──────┼──────┼──────┤\n",
      "│ \u001b[1mk\u001b[0m │ C:2 │ I:8  │ A:0  │ O:14 │ C:2 │ I:8 │ A:0  │ O:14 │ C:2  │\n",
      "├───┼─────┼──────┼──────┼──────┼─────┼─────┼──────┼──────┼──────┤\n",
      "│ \u001b[1mc\u001b[0m │ D:3 │ M:12 │ L:11 │ Z:25 │ C:2 │ G:6 │ Z:25 │ W:22 │ Q:16 │\n",
      "└───┴─────┴──────┴──────┴──────┴─────┴─────┴──────┴──────┴──────┘\n",
      "DMLZCGZWQ\n"
     ]
    }
   ],
   "source": [
    "c = cifra(testo, chiave)\n",
    "print(c)"
   ]
  },
  {
   "cell_type": "code",
   "execution_count": 23,
   "metadata": {
    "execution": {
     "iopub.execute_input": "2023-10-24T07:36:32.708734Z",
     "iopub.status.busy": "2023-10-24T07:36:32.708594Z",
     "iopub.status.idle": "2023-10-24T07:36:32.711044Z",
     "shell.execute_reply": "2023-10-24T07:36:32.710705Z"
    },
    "slideshow": {
     "slide_type": "slide"
    },
    "tags": [
     "hide"
    ]
   },
   "outputs": [
    {
     "name": "stdout",
     "output_type": "stream",
     "text": [
      "B\n",
      "UFVM RWM EKGVAN EDQGAMEPIMPM ECXEHCGPWWGDWATODQGEMFI QWQ NC PSV\n",
      "AHCVOMWVOMUKHWCZI GVTAAQLMSAAZGGNAPGPAVMVOAMSEGZEMEPEMBLOZQZOEQGTGV\n",
      "EMFAEMNISQKINRQGTDCBERGZEMKV  GFZAAILMFWLATM NGGCAPGLOOWRSALIHGZSAAKHSAWG\n",
      "WV RG SWAXODVIVOAI ZWKIOB\n"
     ]
    }
   ],
   "source": [
    "print(C(pps, 'CIAO'))"
   ]
  },
  {
   "cell_type": "code",
   "execution_count": 24,
   "metadata": {
    "execution": {
     "iopub.execute_input": "2023-10-24T07:36:32.713100Z",
     "iopub.status.busy": "2023-10-24T07:36:32.712960Z",
     "iopub.status.idle": "2023-10-24T07:36:32.839453Z",
     "shell.execute_reply": "2023-10-24T07:36:32.838866Z"
    },
    "slideshow": {
     "slide_type": "slide"
    },
    "tags": [
     "hide"
    ]
   },
   "outputs": [
    {
     "data": {
      "image/png": "[encoded data removed]",
      "text/plain": [
       "<Figure size 640x480 with 1 Axes>"
      ]
     },
     "metadata": {},
     "output_type": "display_data"
    }
   ],
   "source": [
    "istogramma_lettere(C(pps, chiave));"
   ]
  },
  {
   "cell_type": "markdown",
   "metadata": {
    "slideshow": {
     "slide_type": "slide"
    }
   },
   "source": [
    "<center>\n",
    "\n",
    "## Perfetta!\n",
    "\n",
    "</center>"
   ]
  },
  {
   "cell_type": "markdown",
   "metadata": {
    "slideshow": {
     "slide_type": "slide"
    }
   },
   "source": [
    "<img src=\"./img/otp.png\" style=\"width: 80%; margin: auto; display: block;\" />"
   ]
  },
  {
   "cell_type": "markdown",
   "metadata": {
    "slideshow": {
     "slide_type": "slide"
    }
   },
   "source": [
    "<center>\n",
    "\n",
    "# E ora… magia!\n",
    "\n",
    "### Scambiare le chiavi senza canale sicuro\n",
    "\n",
    "</center>"
   ]
  },
  {
   "cell_type": "markdown",
   "metadata": {
    "slideshow": {
     "slide_type": "slide"
    }
   },
   "source": [
    "<img src=\"./img/parties-ns.png\" style=\"width: 90%; margin: auto; display: block;\" />"
   ]
  },
  {
   "cell_type": "markdown",
   "metadata": {
    "slideshow": {
     "slide_type": "slide"
    }
   },
   "source": [
    "<img src=\"./img/dh-ke.png\" style=\"width: 40%; margin: auto; display: block;\" />"
   ]
  },
  {
   "cell_type": "markdown",
   "metadata": {
    "slideshow": {
     "slide_type": "slide"
    }
   },
   "source": [
    "<img src=\"./img/mdh.jpeg\" style=\"width: 80%; margin: auto; display: block;\" />"
   ]
  },
  {
   "cell_type": "markdown",
   "metadata": {
    "slideshow": {
     "slide_type": "slide"
    }
   },
   "source": [
    "<center>\n",
    "\n",
    "# Aritmetica modulare\n",
    "\n",
    "</center>"
   ]
  },
  {
   "cell_type": "markdown",
   "metadata": {
    "slideshow": {
     "slide_type": "slide"
    }
   },
   "source": [
    "<img src=\"./img/disqvisitiones.jpeg\" style=\"width: 40%; margin: auto; display: block;\" />"
   ]
  },
  {
   "cell_type": "markdown",
   "metadata": {
    "slideshow": {
     "slide_type": "slide"
    }
   },
   "source": [
    "$$\\Huge \\left(\\mathbb{Z}, +, \\cdot\\right)$$\n",
    "\n",
    "&nbsp;"
   ]
  },
  {
   "cell_type": "markdown",
   "metadata": {
    "slideshow": {
     "slide_type": "fragment"
    }
   },
   "source": [
    "$$\\Huge \\mod n$$\n",
    "\n",
    "&nbsp;"
   ]
  },
  {
   "cell_type": "markdown",
   "metadata": {
    "slideshow": {
     "slide_type": "fragment"
    }
   },
   "source": [
    "$$\\Huge\n",
    "\\begin{split}\n",
    "[r]_n  & \\triangleq \\{z \\mid z = k\\cdot n + r, \\quad k \\in\\mathbb{Z}\\} \\\\\n",
    "       & = \\{z \\mid z \\equiv r \\pmod n\\} \\\\\n",
    "       & = \\{z \\mid z \\mathbin{\\%} n = r\\}\n",
    "\\end{split}\n",
    "$$"
   ]
  },
  {
   "cell_type": "markdown",
   "metadata": {
    "slideshow": {
     "slide_type": "slide"
    }
   },
   "source": [
    "$$\\Huge [3]_8 = \\{\\ldots, -13, -5, 3, 11, 19,\\ldots\\}$$\n",
    "\n",
    "&nbsp;"
   ]
  },
  {
   "cell_type": "markdown",
   "metadata": {
    "slideshow": {
     "slide_type": "fragment"
    }
   },
   "source": [
    "$$\\Huge [-5]_8 = \\{\\ldots, -21, -13, -5, 3, 11,\\ldots\\}$$\n",
    "\n",
    "&nbsp;"
   ]
  },
  {
   "cell_type": "markdown",
   "metadata": {
    "slideshow": {
     "slide_type": "fragment"
    }
   },
   "source": [
    "$$\\Huge\n",
    "[r]_n = [r + k \\cdot n]_n\n",
    "$$"
   ]
  },
  {
   "cell_type": "markdown",
   "metadata": {
    "slideshow": {
     "slide_type": "slide"
    }
   },
   "source": [
    "$$\\Huge \\mathbb{Z}_n \\triangleq \\{[0]_n, [1]_n, [2]_n, \\ldots, [n-1]_n\\}$$\n",
    "\n",
    "&nbsp;"
   ]
  },
  {
   "cell_type": "markdown",
   "metadata": {
    "slideshow": {
     "slide_type": "fragment"
    }
   },
   "source": [
    "$$\\Huge (\\mathbb{Z}_n, +, \\cdot)$$"
   ]
  },
  {
   "cell_type": "markdown",
   "metadata": {
    "slideshow": {
     "slide_type": "slide"
    }
   },
   "source": [
    "$$\\Huge [r] + [s] \\triangleq [r + s]$$"
   ]
  },
  {
   "cell_type": "code",
   "execution_count": 25,
   "metadata": {
    "execution": {
     "iopub.execute_input": "2023-10-24T07:36:32.843294Z",
     "iopub.status.busy": "2023-10-24T07:36:32.843110Z",
     "iopub.status.idle": "2023-10-24T07:36:32.847249Z",
     "shell.execute_reply": "2023-10-24T07:36:32.846860Z"
    },
    "slideshow": {
     "slide_type": "slide"
    },
    "tags": [
     "hide"
    ]
   },
   "outputs": [
    {
     "name": "stdout",
     "output_type": "stream",
     "text": [
      "┌─────┬───────┬───────┬───────┬───────┬───────┬───────┬───────┬───────┐\n",
      "│ \u001b[1m+\u001b[0m   │ \u001b[1m[0]\u001b[0m   │ \u001b[1m[1]\u001b[0m   │ \u001b[1m[2]\u001b[0m   │ \u001b[1m[3]\u001b[0m   │ \u001b[1m[4]\u001b[0m   │ \u001b[1m[5]\u001b[0m   │ \u001b[1m[6]\u001b[0m   │ \u001b[1m[7]\u001b[0m   │\n",
      "├─────┼───────┼───────┼───────┼───────┼───────┼───────┼───────┼───────┤\n",
      "│ \u001b[1m[0]\u001b[0m │ \u001b[92m[0]\u001b[0m   │ [1]   │ [2]   │ [3]   │ [4]   │ [5]   │ [6]   │ [7]   │\n",
      "├─────┼───────┼───────┼───────┼───────┼───────┼───────┼───────┼───────┤\n",
      "│ \u001b[1m[1]\u001b[0m │ [1]   │ [2]   │ [3]   │ [4]   │ [5]   │ [6]   │ [7]   │ \u001b[92m[0]\u001b[0m   │\n",
      "├─────┼───────┼───────┼───────┼───────┼───────┼───────┼───────┼───────┤\n",
      "│ \u001b[1m[2]\u001b[0m │ [2]   │ [3]   │ [4]   │ [5]   │ [6]   │ [7]   │ \u001b[92m[0]\u001b[0m   │ [1]   │\n",
      "├─────┼───────┼───────┼───────┼───────┼───────┼───────┼───────┼───────┤\n",
      "│ \u001b[1m[3]\u001b[0m │ [3]   │ [4]   │ [5]   │ [6]   │ [7]   │ \u001b[92m[0]\u001b[0m   │ [1]   │ [2]   │\n",
      "├─────┼───────┼───────┼───────┼───────┼───────┼───────┼───────┼───────┤\n",
      "│ \u001b[1m[4]\u001b[0m │ [4]   │ [5]   │ [6]   │ [7]   │ \u001b[92m[0]\u001b[0m   │ [1]   │ [2]   │ [3]   │\n",
      "├─────┼───────┼───────┼───────┼───────┼───────┼───────┼───────┼───────┤\n",
      "│ \u001b[1m[5]\u001b[0m │ [5]   │ [6]   │ [7]   │ \u001b[92m[0]\u001b[0m   │ [1]   │ [2]   │ [3]   │ [4]   │\n",
      "├─────┼───────┼───────┼───────┼───────┼───────┼───────┼───────┼───────┤\n",
      "│ \u001b[1m[6]\u001b[0m │ [6]   │ [7]   │ \u001b[92m[0]\u001b[0m   │ [1]   │ [2]   │ [3]   │ [4]   │ [5]   │\n",
      "├─────┼───────┼───────┼───────┼───────┼───────┼───────┼───────┼───────┤\n",
      "│ \u001b[1m[7]\u001b[0m │ [7]   │ \u001b[92m[0]\u001b[0m   │ [1]   │ [2]   │ [3]   │ [4]   │ [5]   │ [6]   │\n",
      "└─────┴───────┴───────┴───────┴───────┴───────┴───────┴───────┴───────┘\n"
     ]
    }
   ],
   "source": [
    "Mod(8).somma()"
   ]
  },
  {
   "cell_type": "markdown",
   "metadata": {
    "slideshow": {
     "slide_type": "slide"
    }
   },
   "source": [
    "$$\\Huge [r] \\cdot [s] \\triangleq [r \\cdot s]$$"
   ]
  },
  {
   "cell_type": "code",
   "execution_count": 26,
   "metadata": {
    "execution": {
     "iopub.execute_input": "2023-10-24T07:36:32.849798Z",
     "iopub.status.busy": "2023-10-24T07:36:32.849648Z",
     "iopub.status.idle": "2023-10-24T07:36:32.853170Z",
     "shell.execute_reply": "2023-10-24T07:36:32.852811Z"
    },
    "slideshow": {
     "slide_type": "slide"
    },
    "tags": [
     "hide"
    ]
   },
   "outputs": [
    {
     "name": "stdout",
     "output_type": "stream",
     "text": [
      "┌─────┬───────┬───────┬───────┬───────┬───────┬───────┬───────┐\n",
      "│ \u001b[1m*\u001b[0m   │ \u001b[1m[1]\u001b[0m   │ \u001b[1m[2]\u001b[0m   │ \u001b[1m[3]\u001b[0m   │ \u001b[1m[4]\u001b[0m   │ \u001b[1m[5]\u001b[0m   │ \u001b[1m[6]\u001b[0m   │ \u001b[1m[7]\u001b[0m   │\n",
      "├─────┼───────┼───────┼───────┼───────┼───────┼───────┼───────┤\n",
      "│ \u001b[1m[1]\u001b[0m │ \u001b[92m[1]\u001b[0m   │ [2]   │ [3]   │ [4]   │ [5]   │ [6]   │ [7]   │\n",
      "├─────┼───────┼───────┼───────┼───────┼───────┼───────┼───────┤\n",
      "│ \u001b[1m[2]\u001b[0m │ [2]   │ [4]   │ [6]   │ \u001b[91m[0]\u001b[0m   │ [2]   │ [4]   │ [6]   │\n",
      "├─────┼───────┼───────┼───────┼───────┼───────┼───────┼───────┤\n",
      "│ \u001b[1m[3]\u001b[0m │ [3]   │ [6]   │ \u001b[92m[1]\u001b[0m   │ [4]   │ [7]   │ [2]   │ [5]   │\n",
      "├─────┼───────┼───────┼───────┼───────┼───────┼───────┼───────┤\n",
      "│ \u001b[1m[4]\u001b[0m │ [4]   │ \u001b[91m[0]\u001b[0m   │ [4]   │ \u001b[91m[0]\u001b[0m   │ [4]   │ \u001b[91m[0]\u001b[0m   │ [4]   │\n",
      "├─────┼───────┼───────┼───────┼───────┼───────┼───────┼───────┤\n",
      "│ \u001b[1m[5]\u001b[0m │ [5]   │ [2]   │ [7]   │ [4]   │ \u001b[92m[1]\u001b[0m   │ [6]   │ [3]   │\n",
      "├─────┼───────┼───────┼───────┼───────┼───────┼───────┼───────┤\n",
      "│ \u001b[1m[6]\u001b[0m │ [6]   │ [4]   │ [2]   │ \u001b[91m[0]\u001b[0m   │ [6]   │ [4]   │ [2]   │\n",
      "├─────┼───────┼───────┼───────┼───────┼───────┼───────┼───────┤\n",
      "│ \u001b[1m[7]\u001b[0m │ [7]   │ [6]   │ [5]   │ [4]   │ [3]   │ [2]   │ \u001b[92m[1]\u001b[0m   │\n",
      "└─────┴───────┴───────┴───────┴───────┴───────┴───────┴───────┘\n"
     ]
    }
   ],
   "source": [
    "Mod(8).prodotto()"
   ]
  },
  {
   "cell_type": "code",
   "execution_count": 27,
   "metadata": {
    "execution": {
     "iopub.execute_input": "2023-10-24T07:36:32.855308Z",
     "iopub.status.busy": "2023-10-24T07:36:32.855169Z",
     "iopub.status.idle": "2023-10-24T07:36:32.858363Z",
     "shell.execute_reply": "2023-10-24T07:36:32.857994Z"
    },
    "slideshow": {
     "slide_type": "slide"
    },
    "tags": [
     "hide"
    ]
   },
   "outputs": [
    {
     "name": "stdout",
     "output_type": "stream",
     "text": [
      "┌─────┬───────┬───────┬───────┬───────┬───────┬───────┐\n",
      "│ \u001b[1m*\u001b[0m   │ \u001b[1m[1]\u001b[0m   │ \u001b[1m[2]\u001b[0m   │ \u001b[1m[3]\u001b[0m   │ \u001b[1m[4]\u001b[0m   │ \u001b[1m[5]\u001b[0m   │ \u001b[1m[6]\u001b[0m   │\n",
      "├─────┼───────┼───────┼───────┼───────┼───────┼───────┤\n",
      "│ \u001b[1m[1]\u001b[0m │ \u001b[92m[1]\u001b[0m   │ [2]   │ [3]   │ [4]   │ [5]   │ [6]   │\n",
      "├─────┼───────┼───────┼───────┼───────┼───────┼───────┤\n",
      "│ \u001b[1m[2]\u001b[0m │ [2]   │ [4]   │ [6]   │ \u001b[92m[1]\u001b[0m   │ [3]   │ [5]   │\n",
      "├─────┼───────┼───────┼───────┼───────┼───────┼───────┤\n",
      "│ \u001b[1m[3]\u001b[0m │ [3]   │ [6]   │ [2]   │ [5]   │ \u001b[92m[1]\u001b[0m   │ [4]   │\n",
      "├─────┼───────┼───────┼───────┼───────┼───────┼───────┤\n",
      "│ \u001b[1m[4]\u001b[0m │ [4]   │ \u001b[92m[1]\u001b[0m   │ [5]   │ [2]   │ [6]   │ [3]   │\n",
      "├─────┼───────┼───────┼───────┼───────┼───────┼───────┤\n",
      "│ \u001b[1m[5]\u001b[0m │ [5]   │ [3]   │ \u001b[92m[1]\u001b[0m   │ [6]   │ [4]   │ [2]   │\n",
      "├─────┼───────┼───────┼───────┼───────┼───────┼───────┤\n",
      "│ \u001b[1m[6]\u001b[0m │ [6]   │ [5]   │ [4]   │ [3]   │ [2]   │ \u001b[92m[1]\u001b[0m   │\n",
      "└─────┴───────┴───────┴───────┴───────┴───────┴───────┘\n"
     ]
    }
   ],
   "source": [
    "Mod(7).prodotto()"
   ]
  },
  {
   "cell_type": "code",
   "execution_count": 28,
   "metadata": {
    "execution": {
     "iopub.execute_input": "2023-10-24T07:36:32.860343Z",
     "iopub.status.busy": "2023-10-24T07:36:32.860204Z",
     "iopub.status.idle": "2023-10-24T07:36:32.862951Z",
     "shell.execute_reply": "2023-10-24T07:36:32.862600Z"
    },
    "slideshow": {
     "slide_type": "subslide"
    },
    "tags": [
     "hide"
    ]
   },
   "outputs": [
    {
     "name": "stdout",
     "output_type": "stream",
     "text": [
      "┌─────┬───────┬───────┬───────┬───────┐\n",
      "│ \u001b[1m*\u001b[0m   │ \u001b[1m[1]\u001b[0m   │ \u001b[1m[3]\u001b[0m   │ \u001b[1m[5]\u001b[0m   │ \u001b[1m[7]\u001b[0m   │\n",
      "├─────┼───────┼───────┼───────┼───────┤\n",
      "│ \u001b[1m[1]\u001b[0m │ \u001b[92m[1]\u001b[0m   │ [3]   │ [5]   │ [7]   │\n",
      "├─────┼───────┼───────┼───────┼───────┤\n",
      "│ \u001b[1m[3]\u001b[0m │ [3]   │ \u001b[92m[1]\u001b[0m   │ [7]   │ [5]   │\n",
      "├─────┼───────┼───────┼───────┼───────┤\n",
      "│ \u001b[1m[5]\u001b[0m │ [5]   │ [7]   │ \u001b[92m[1]\u001b[0m   │ [3]   │\n",
      "├─────┼───────┼───────┼───────┼───────┤\n",
      "│ \u001b[1m[7]\u001b[0m │ [7]   │ [5]   │ [3]   │ \u001b[92m[1]\u001b[0m   │\n",
      "└─────┴───────┴───────┴───────┴───────┘\n"
     ]
    }
   ],
   "source": [
    "Mod(8).prodotto_coprimi()"
   ]
  },
  {
   "cell_type": "markdown",
   "metadata": {
    "slideshow": {
     "slide_type": "slide"
    }
   },
   "source": [
    "$$\\Huge [r] \\cdot [s] = [1]$$\n",
    "\n",
    "&nbsp;"
   ]
  },
  {
   "cell_type": "markdown",
   "metadata": {
    "slideshow": {
     "slide_type": "fragment"
    }
   },
   "source": [
    "$$\\Huge [s] = [r]^{-1}$$"
   ]
  },
  {
   "cell_type": "markdown",
   "metadata": {
    "slideshow": {
     "slide_type": "subslide"
    }
   },
   "source": [
    "<img src=\"./img/Bezout.jpeg\" style=\"width: 40%; margin: auto; display: block;\" />"
   ]
  },
  {
   "cell_type": "markdown",
   "metadata": {
    "slideshow": {
     "slide_type": "subslide"
    }
   },
   "source": [
    "$$\\Huge r \\cdot s + k\\cdot n = \\operatorname{MCD}(r, n)$$\n",
    "\n",
    "&nbsp;\n",
    "\n",
    "$$\\Huge \\operatorname{EG}(r, n) \\to s, k$$"
   ]
  },
  {
   "cell_type": "code",
   "execution_count": 29,
   "metadata": {
    "execution": {
     "iopub.execute_input": "2023-10-24T07:36:32.865500Z",
     "iopub.status.busy": "2023-10-24T07:36:32.865357Z",
     "iopub.status.idle": "2023-10-24T07:36:32.867987Z",
     "shell.execute_reply": "2023-10-24T07:36:32.867644Z"
    },
    "slideshow": {
     "slide_type": "subslide"
    }
   },
   "outputs": [],
   "source": [
    "def EG(r, n):\n",
    "  s0, s1, k0, k1 = 1, 0, 0, 1\n",
    "  while n != 0:\n",
    "    q, r, n = r // n, n, r % b\n",
    "    s0, s1 = s1, s0 - q * s1\n",
    "    k0, k1 = k1, k0 - q * k1\n",
    "  return r, s0, k0"
   ]
  },
  {
   "cell_type": "markdown",
   "metadata": {
    "slideshow": {
     "slide_type": "subslide"
    }
   },
   "source": [
    "$$\\Huge \\operatorname{MCD}(r, n) = 1 \\quad\\Rightarrow\\quad r \\cdot s + k\\cdot n = 1$$\n",
    "\n",
    "&nbsp;\n",
    "\n",
    "$$\\Huge r\\cdot s = 1 - k\\cdot n$$\n",
    "\n",
    "&nbsp;\n",
    "\n",
    "$$\\Huge [r\\cdot s]_n = [1]_n$$\n",
    "\n",
    "&nbsp;\n",
    "\n",
    "$$\\Huge [s]_n = [r]^{-1}_n$$"
   ]
  },
  {
   "cell_type": "markdown",
   "metadata": {
    "slideshow": {
     "slide_type": "slide"
    }
   },
   "source": [
    "$$\\Huge [r]^e \\triangleq [r^e]$$"
   ]
  },
  {
   "cell_type": "code",
   "execution_count": 30,
   "metadata": {
    "execution": {
     "iopub.execute_input": "2023-10-24T07:36:32.870102Z",
     "iopub.status.busy": "2023-10-24T07:36:32.869960Z",
     "iopub.status.idle": "2023-10-24T07:36:32.872933Z",
     "shell.execute_reply": "2023-10-24T07:36:32.872583Z"
    },
    "slideshow": {
     "slide_type": "slide"
    },
    "tags": [
     "hide"
    ]
   },
   "outputs": [
    {
     "name": "stdout",
     "output_type": "stream",
     "text": [
      "┌──────┬─────┬─────┬─────┬─────┬─────┬─────┐\n",
      "│ \u001b[1m**\u001b[0m   │ \u001b[1m1\u001b[0m   │ \u001b[1m2\u001b[0m   │ \u001b[1m3\u001b[0m   │ \u001b[1m4\u001b[0m   │ \u001b[1m5\u001b[0m   │ \u001b[1m6\u001b[0m   │\n",
      "├──────┼─────┼─────┼─────┼─────┼─────┼─────┤\n",
      "│ \u001b[1m[1]\u001b[0m  │ [1] │     │     │     │     │     │\n",
      "├──────┼─────┼─────┼─────┼─────┼─────┼─────┤\n",
      "│ \u001b[1m[2]\u001b[0m  │ [2] │ [4] │ [1] │     │     │     │\n",
      "├──────┼─────┼─────┼─────┼─────┼─────┼─────┤\n",
      "│ \u001b[96m\u001b[1m[3]\u001b[0m\u001b[0m  │ [3] │ [2] │ [6] │ [4] │ [5] │ [1] │\n",
      "├──────┼─────┼─────┼─────┼─────┼─────┼─────┤\n",
      "│ \u001b[1m[4]\u001b[0m  │ [4] │ [2] │ [1] │     │     │     │\n",
      "├──────┼─────┼─────┼─────┼─────┼─────┼─────┤\n",
      "│ \u001b[96m\u001b[1m[5]\u001b[0m\u001b[0m  │ [5] │ [4] │ [6] │ [2] │ [3] │ [1] │\n",
      "├──────┼─────┼─────┼─────┼─────┼─────┼─────┤\n",
      "│ \u001b[1m[6]\u001b[0m  │ [6] │ [1] │     │     │     │     │\n",
      "└──────┴─────┴─────┴─────┴─────┴─────┴─────┘\n"
     ]
    }
   ],
   "source": [
    "Mod(7).generatori()"
   ]
  },
  {
   "cell_type": "markdown",
   "metadata": {
    "slideshow": {
     "slide_type": "slide"
    }
   },
   "source": [
    "$$\\Huge [y]_p = [g]_p^x$$\n",
    "\n",
    "&nbsp;"
   ]
  },
  {
   "cell_type": "markdown",
   "metadata": {
    "slideshow": {
     "slide_type": "fragment"
    }
   },
   "source": [
    "$$\\Huge \\widehat\\exp: x \\to [y]_p$$ \n",
    "\n",
    "&nbsp;"
   ]
  },
  {
   "cell_type": "markdown",
   "metadata": {
    "slideshow": {
     "slide_type": "fragment"
    }
   },
   "source": [
    "$$\\Huge \\widehat\\log: [y]_p \\to x$$"
   ]
  },
  {
   "cell_type": "code",
   "execution_count": 31,
   "metadata": {
    "execution": {
     "iopub.execute_input": "2023-10-24T07:36:32.875427Z",
     "iopub.status.busy": "2023-10-24T07:36:32.875287Z",
     "iopub.status.idle": "2023-10-24T07:36:32.877793Z",
     "shell.execute_reply": "2023-10-24T07:36:32.877439Z"
    },
    "slideshow": {
     "slide_type": "subslide"
    }
   },
   "outputs": [],
   "source": [
    "def expm(b, e, m):\n",
    "  r = 1\n",
    "  while e > 0:\n",
    "    if e % 2 == 1: r = (r * b) % m\n",
    "    b = (b * b) % m\n",
    "    e = e // 2\n",
    "  return r"
   ]
  },
  {
   "cell_type": "markdown",
   "metadata": {
    "slideshow": {
     "slide_type": "slide"
    }
   },
   "source": [
    "<img src=\"./img/dh-ke.png\" style=\"width: 40%; margin: auto; display: block;\" />"
   ]
  },
  {
   "cell_type": "markdown",
   "metadata": {
    "slideshow": {
     "slide_type": "slide"
    }
   },
   "source": [
    "$$\\Huge\n",
    "\\begin{split}\n",
    "a \\quad \\Rightarrow \\quad A = [g^a]_p \\\\\n",
    "b \\quad \\Rightarrow \\quad B = [g^b]_p\n",
    "\\end{split}\n",
    "$$\n",
    "\n",
    "&nbsp;"
   ]
  },
  {
   "cell_type": "markdown",
   "metadata": {
    "slideshow": {
     "slide_type": "fragment"
    }
   },
   "source": [
    "$$\\Huge\n",
    "\\begin{split} \n",
    "B^a &= [g^b]^a = \\left([g]^b\\right)^a = [g]^{ba} \\\\\n",
    "A^b &= [g^a]^b = \\left([g]^a\\right)^b = [g]^{ab}\n",
    "\\end{split}\n",
    "$$\n",
    "\n",
    "&nbsp;"
   ]
  },
  {
   "cell_type": "markdown",
   "metadata": {
    "slideshow": {
     "slide_type": "fragment"
    }
   },
   "source": [
    "$$\\Huge [g]^{ba} = [g]^{ab}$$\n"
   ]
  },
  {
   "cell_type": "code",
   "execution_count": 32,
   "metadata": {
    "execution": {
     "iopub.execute_input": "2023-10-24T07:36:32.880123Z",
     "iopub.status.busy": "2023-10-24T07:36:32.879983Z",
     "iopub.status.idle": "2023-10-24T07:36:33.628557Z",
     "shell.execute_reply": "2023-10-24T07:36:33.628126Z"
    },
    "slideshow": {
     "slide_type": "slide"
    }
   },
   "outputs": [
    {
     "data": {
      "text/plain": [
       "True"
      ]
     },
     "execution_count": 32,
     "metadata": {},
     "output_type": "execute_result"
    }
   ],
   "source": [
    "p = 2963\n",
    "g = 51\n",
    "\n",
    "M = Mod(p)\n",
    "\n",
    "len(M[g].potenze()) == p - 1"
   ]
  },
  {
   "cell_type": "code",
   "execution_count": 33,
   "metadata": {
    "execution": {
     "iopub.execute_input": "2023-10-24T07:36:33.630621Z",
     "iopub.status.busy": "2023-10-24T07:36:33.630328Z",
     "iopub.status.idle": "2023-10-24T07:36:33.633447Z",
     "shell.execute_reply": "2023-10-24T07:36:33.633108Z"
    },
    "slideshow": {
     "slide_type": "fragment"
    }
   },
   "outputs": [
    {
     "data": {
      "text/plain": [
       "[2149]"
      ]
     },
     "execution_count": 33,
     "metadata": {},
     "output_type": "execute_result"
    }
   ],
   "source": [
    "a = 123\n",
    "A = M[g] ** a\n",
    "A"
   ]
  },
  {
   "cell_type": "code",
   "execution_count": 34,
   "metadata": {
    "execution": {
     "iopub.execute_input": "2023-10-24T07:36:33.635169Z",
     "iopub.status.busy": "2023-10-24T07:36:33.635029Z",
     "iopub.status.idle": "2023-10-24T07:36:33.637983Z",
     "shell.execute_reply": "2023-10-24T07:36:33.637557Z"
    },
    "slideshow": {
     "slide_type": "fragment"
    }
   },
   "outputs": [
    {
     "data": {
      "text/plain": [
       "[2940]"
      ]
     },
     "execution_count": 34,
     "metadata": {},
     "output_type": "execute_result"
    }
   ],
   "source": [
    "b = 345\n",
    "B = M[g] ** b\n",
    "B"
   ]
  },
  {
   "cell_type": "code",
   "execution_count": 35,
   "metadata": {
    "execution": {
     "iopub.execute_input": "2023-10-24T07:36:33.639912Z",
     "iopub.status.busy": "2023-10-24T07:36:33.639573Z",
     "iopub.status.idle": "2023-10-24T07:36:33.642585Z",
     "shell.execute_reply": "2023-10-24T07:36:33.642246Z"
    },
    "slideshow": {
     "slide_type": "fragment"
    }
   },
   "outputs": [
    {
     "data": {
      "text/plain": [
       "([2413], [2413])"
      ]
     },
     "execution_count": 35,
     "metadata": {},
     "output_type": "execute_result"
    }
   ],
   "source": [
    "B ** a, B ** a "
   ]
  },
  {
   "cell_type": "markdown",
   "metadata": {
    "slideshow": {
     "slide_type": "slide"
    }
   },
   "source": [
    "<img src=\"./img/k7.png\" style=\"width: 40%; margin: auto; display: block;\" />"
   ]
  },
  {
   "cell_type": "markdown",
   "metadata": {
    "slideshow": {
     "slide_type": "slide"
    }
   },
   "source": [
    "<img src=\"./img/sra.jpeg\" style=\"width: 80%; margin: auto; display: block;\" />"
   ]
  },
  {
   "cell_type": "markdown",
   "metadata": {
    "slideshow": {
     "slide_type": "slide"
    }
   },
   "source": [
    "<center>\n",
    "\n",
    "# Ancora più magia!\n",
    "\n",
    "## Crittografia asimmetrica\n",
    "\n",
    "</center>"
   ]
  },
  {
   "cell_type": "markdown",
   "metadata": {
    "slideshow": {
     "slide_type": "slide"
    }
   },
   "source": [
    "$$\\Huge f(m, (n, x)) \\triangleq [m]_n^x$$\n",
    "\n",
    "&nbsp;"
   ]
  },
  {
   "cell_type": "markdown",
   "metadata": {
    "slideshow": {
     "slide_type": "fragment"
    }
   },
   "source": [
    "$$\\Huge p, q, e \\mapsto (n, e), (n, d)$$\n",
    "\n",
    "&nbsp;"
   ]
  },
  {
   "cell_type": "markdown",
   "metadata": {
    "slideshow": {
     "slide_type": "fragment"
    }
   },
   "source": [
    "$$\\Large (i) \\Huge  \\qquad (n, d) \\not\\mapsto (n, e)$$"
   ]
  },
  {
   "cell_type": "markdown",
   "metadata": {
    "slideshow": {
     "slide_type": "fragment"
    }
   },
   "source": [
    "$$\\Large (ii) \\Huge \\qquad f(f(m, (n, e)), (n, d)) = [m]_n$$\n",
    "\n",
    "&nbsp;"
   ]
  },
  {
   "cell_type": "markdown",
   "metadata": {
    "slideshow": {
     "slide_type": "fragment"
    }
   },
   "source": [
    "$$\\Huge D(C(m, e), d) = m$$"
   ]
  },
  {
   "cell_type": "markdown",
   "metadata": {
    "slideshow": {
     "slide_type": "slide"
    }
   },
   "source": [
    "$$\\Large (i) \\Huge \\qquad n = p \\cdot q$$"
   ]
  },
  {
   "cell_type": "code",
   "execution_count": 36,
   "metadata": {
    "execution": {
     "iopub.execute_input": "2023-10-24T07:36:33.644687Z",
     "iopub.status.busy": "2023-10-24T07:36:33.644548Z",
     "iopub.status.idle": "2023-10-24T07:36:47.760472Z",
     "shell.execute_reply": "2023-10-24T07:36:47.759941Z"
    },
    "slideshow": {
     "slide_type": "fragment"
    },
    "tags": [
     "hide"
    ]
   },
   "outputs": [
    {
     "data": {
      "image/png": "[encoded data removed]",
      "text/plain": [
       "<Figure size 640x480 with 1 Axes>"
      ]
     },
     "metadata": {},
     "output_type": "display_data"
    }
   ],
   "source": [
    "f = [\n",
    " 7,\n",
    " 83,\n",
    " 929,\n",
    " 6089,\n",
    " 58543,\n",
    " 158527,\n",
    " 1508711,\n",
    " 10507951,\n",
    " 105072001,\n",
    " 1050702811\n",
    "]\n",
    "\n",
    "plt.plot([\n",
    "  cronometra(lambda : fattorizza(moltiplica(f[:i + 1]))) for i in range(len(f))\n",
    "], '*-', label = 'fattorizza', c = 'red')\n",
    "plt.plot([\n",
    "  cronometra(lambda : moltiplica(f[:i + 1])) for i in range(len(f))\n",
    "], '*-', label = 'moltiplica', c = 'green')\n",
    "plt.yscale('log')\n",
    "plt.legend();"
   ]
  },
  {
   "cell_type": "markdown",
   "metadata": {
    "slideshow": {
     "slide_type": "slide"
    }
   },
   "source": [
    "$$\\Huge f(f(m, (n, e)), (n, d)) \\triangleq [m]^{ed}_n$$\n",
    "\n",
    "&nbsp;\n",
    "\n",
    "$$\\Huge f(f(m, (n, e)), (n, d)) = [m]_n$$\n",
    "\n",
    "&nbsp;"
   ]
  },
  {
   "cell_type": "markdown",
   "metadata": {
    "slideshow": {
     "slide_type": "fragment"
    }
   },
   "source": [
    "$$\\Large (ii) \\Huge \\qquad [m]^{ed}_n = [m]_n$$"
   ]
  },
  {
   "cell_type": "markdown",
   "metadata": {
    "slideshow": {
     "slide_type": "slide"
    }
   },
   "source": [
    "<img src=\"./img/Euler.jpeg\" style=\"width: 40%; margin: auto; display: block;\" />"
   ]
  },
  {
   "cell_type": "markdown",
   "metadata": {
    "slideshow": {
     "slide_type": "slide"
    }
   },
   "source": [
    "$$\\Huge \\varphi(n) \\triangleq  |\\{i \\in\\mathbb{N} \\mid i < n, i \\perp n\\}|$$\n",
    "\n",
    "&nbsp;\n",
    "\n",
    "$$\\Huge m \\perp n \\Rightarrow [m]^{\\varphi(n)}_n = [1]_n$$\n",
    "\n",
    "&nbsp;"
   ]
  },
  {
   "cell_type": "markdown",
   "metadata": {
    "slideshow": {
     "slide_type": "slide"
    }
   },
   "source": [
    "$$\\Huge \\left([m]^{\\varphi(n)}\\right)^k = [1]^k$$\n",
    "\n",
    "&nbsp;\n",
    "\n",
    "$$\\Huge [m] \\cdot [m]^{k\\cdot \\varphi(n)} = [m] \\cdot [1]$$\n",
    "\n",
    "&nbsp;\n",
    "\n",
    "$$\\Huge [m]^{1 + k\\cdot \\varphi(n)} = [m]$$"
   ]
  },
  {
   "cell_type": "markdown",
   "metadata": {
    "slideshow": {
     "slide_type": "slide"
    }
   },
   "source": [
    "$$\\Huge ed = 1 + k\\cdot \\varphi(n)$$\n",
    "\n",
    "&nbsp;"
   ]
  },
  {
   "cell_type": "markdown",
   "metadata": {
    "slideshow": {
     "slide_type": "fragment"
    }
   },
   "source": [
    "$$\\Huge [ed]_{\\varphi(n)} = [1]_{\\varphi(n)}$$\n",
    "\n",
    "&nbsp;\n",
    "\n",
    "$$\\Huge [d]_{\\varphi(n)} = [e]^{-1}_{\\varphi(n)}$$"
   ]
  },
  {
   "cell_type": "code",
   "execution_count": 37,
   "metadata": {
    "execution": {
     "iopub.execute_input": "2023-10-24T07:36:47.762808Z",
     "iopub.status.busy": "2023-10-24T07:36:47.762658Z",
     "iopub.status.idle": "2023-10-24T07:36:48.369001Z",
     "shell.execute_reply": "2023-10-24T07:36:48.368546Z"
    },
    "slideshow": {
     "slide_type": "slide"
    },
    "tags": [
     "hide"
    ]
   },
   "outputs": [
    {
     "data": {
      "image/png": "[encoded data removed]",
      "text/plain": [
       "<Figure size 800x400 with 1 Axes>"
      ]
     },
     "metadata": {},
     "output_type": "display_data"
    }
   ],
   "source": [
    "N = list(range(1, 1000))\n",
    "plt.figure(figsize=(8, 4))\n",
    "plt.scatter(\n",
    "  N, \n",
    "  [φ(n) for n in N], s = .5, \n",
    "  color = ['r' if è_primo(n) else 'b' for n in N]\n",
    ");"
   ]
  },
  {
   "cell_type": "markdown",
   "metadata": {
    "slideshow": {
     "slide_type": "fragment"
    }
   },
   "source": [
    "$$\\Huge \\varphi(p) = p - 1$$"
   ]
  },
  {
   "cell_type": "markdown",
   "metadata": {
    "slideshow": {
     "slide_type": "fragment"
    }
   },
   "source": [
    "$$\\Huge a \\perp b \\Rightarrow \\varphi(a\\cdot b) = \\varphi(a) \\cdot \\varphi(b)$$"
   ]
  },
  {
   "cell_type": "markdown",
   "metadata": {
    "slideshow": {
     "slide_type": "slide"
    }
   },
   "source": [
    "$$\\Large (ii) \\Huge \\qquad p, q, e \\mapsto (n, e), (n, d)$$\n",
    "\n",
    "&nbsp;\n",
    "\n",
    "$$\\Huge\n",
    "\\begin{cases}\n",
    "p, q \\mapsto n = p \\cdot q\\\\\n",
    "p, q, e \\mapsto [d]_{(p - 1)(q - 1)} = [e]^{-1}_{(p - 1)(q - 1)}\n",
    "\\end{cases}\n",
    "$$"
   ]
  },
  {
   "cell_type": "markdown",
   "metadata": {
    "slideshow": {
     "slide_type": "slide"
    }
   },
   "source": [
    "$$\\Large (ii) \\Huge \\qquad (n, d) \\not\\mapsto (n, e) $$\n",
    "\n",
    "&nbsp;\n",
    "\n",
    "$$\\Huge\n",
    "\\begin{cases}\n",
    "n \\not\\mapsto p, q \\\\\n",
    "(n, d) \\not\\mapsto (n, [e]_{\\varphi(n)}) = (n, [d]^{-1}_{\\varphi(n)})\n",
    "\\end{cases}\n",
    "$$ "
   ]
  },
  {
   "cell_type": "markdown",
   "metadata": {
    "slideshow": {
     "slide_type": "slide"
    }
   },
   "source": [
    "$$\\Huge f(m, (n, x))$$\n",
    "\n",
    "&nbsp;"
   ]
  },
  {
   "cell_type": "code",
   "execution_count": 38,
   "metadata": {
    "execution": {
     "iopub.execute_input": "2023-10-24T07:36:48.371922Z",
     "iopub.status.busy": "2023-10-24T07:36:48.371775Z",
     "iopub.status.idle": "2023-10-24T07:36:48.374315Z",
     "shell.execute_reply": "2023-10-24T07:36:48.373884Z"
    },
    "slideshow": {
     "slide_type": "fragment"
    }
   },
   "outputs": [],
   "source": [
    "def f(m, n, x):\n",
    "  M = Mod(n)\n",
    "  return (M[m] ** x).rappresentante()"
   ]
  },
  {
   "cell_type": "code",
   "execution_count": 39,
   "metadata": {
    "execution": {
     "iopub.execute_input": "2023-10-24T07:36:48.376279Z",
     "iopub.status.busy": "2023-10-24T07:36:48.376141Z",
     "iopub.status.idle": "2023-10-24T07:36:48.378346Z",
     "shell.execute_reply": "2023-10-24T07:36:48.377992Z"
    },
    "slideshow": {
     "slide_type": "slide"
    }
   },
   "outputs": [],
   "source": [
    "p = 55202166624234742076825422018198552545568721350927\n",
    "q = 43045972142075202331028535612422134545369845034403\n",
    "e = 65537"
   ]
  },
  {
   "cell_type": "code",
   "execution_count": 40,
   "metadata": {
    "execution": {
     "iopub.execute_input": "2023-10-24T07:36:48.380322Z",
     "iopub.status.busy": "2023-10-24T07:36:48.380182Z",
     "iopub.status.idle": "2023-10-24T07:36:48.382498Z",
     "shell.execute_reply": "2023-10-24T07:36:48.382070Z"
    },
    "slideshow": {
     "slide_type": "fragment"
    }
   },
   "outputs": [],
   "source": [
    "n = p * q"
   ]
  },
  {
   "cell_type": "code",
   "execution_count": 41,
   "metadata": {
    "execution": {
     "iopub.execute_input": "2023-10-24T07:36:48.384453Z",
     "iopub.status.busy": "2023-10-24T07:36:48.384316Z",
     "iopub.status.idle": "2023-10-24T07:36:48.387331Z",
     "shell.execute_reply": "2023-10-24T07:36:48.387001Z"
    },
    "slideshow": {
     "slide_type": "fragment"
    }
   },
   "outputs": [
    {
     "data": {
      "text/plain": [
       "701154365630284037290881701138012383299504419581543080721910924221824588942701573338487759909677721"
      ]
     },
     "execution_count": 41,
     "metadata": {},
     "output_type": "execute_result"
    }
   ],
   "source": [
    "M = Mod((p - 1) * (q - 1))\n",
    "d = (M[e] ** (-1)).rappresentante()\n",
    "d"
   ]
  },
  {
   "cell_type": "code",
   "execution_count": 42,
   "metadata": {
    "execution": {
     "iopub.execute_input": "2023-10-24T07:36:48.389437Z",
     "iopub.status.busy": "2023-10-24T07:36:48.389295Z",
     "iopub.status.idle": "2023-10-24T07:36:48.391403Z",
     "shell.execute_reply": "2023-10-24T07:36:48.391064Z"
    },
    "slideshow": {
     "slide_type": "fragment"
    }
   },
   "outputs": [],
   "source": [
    "prv = (n, e)\n",
    "pub = (n, d)"
   ]
  },
  {
   "cell_type": "code",
   "execution_count": 43,
   "metadata": {
    "execution": {
     "iopub.execute_input": "2023-10-24T07:36:48.393396Z",
     "iopub.status.busy": "2023-10-24T07:36:48.393256Z",
     "iopub.status.idle": "2023-10-24T07:36:48.396044Z",
     "shell.execute_reply": "2023-10-24T07:36:48.395697Z"
    },
    "slideshow": {
     "slide_type": "slide"
    }
   },
   "outputs": [
    {
     "data": {
      "text/plain": [
       "313547121747086721395745"
      ]
     },
     "execution_count": 43,
     "metadata": {},
     "output_type": "execute_result"
    }
   ],
   "source": [
    "m = a_numero('Bella lì!')\n",
    "m"
   ]
  },
  {
   "cell_type": "code",
   "execution_count": 44,
   "metadata": {
    "execution": {
     "iopub.execute_input": "2023-10-24T07:36:48.398137Z",
     "iopub.status.busy": "2023-10-24T07:36:48.397991Z",
     "iopub.status.idle": "2023-10-24T07:36:48.400872Z",
     "shell.execute_reply": "2023-10-24T07:36:48.400538Z"
    }
   },
   "outputs": [
    {
     "data": {
      "text/plain": [
       "(True, True)"
      ]
     },
     "execution_count": 44,
     "metadata": {},
     "output_type": "execute_result"
    }
   ],
   "source": [
    "MCD(m, n) == 1, m < n"
   ]
  },
  {
   "cell_type": "code",
   "execution_count": 45,
   "metadata": {
    "execution": {
     "iopub.execute_input": "2023-10-24T07:36:48.402564Z",
     "iopub.status.busy": "2023-10-24T07:36:48.402427Z",
     "iopub.status.idle": "2023-10-24T07:36:48.405790Z",
     "shell.execute_reply": "2023-10-24T07:36:48.405322Z"
    },
    "slideshow": {
     "slide_type": "fragment"
    }
   },
   "outputs": [
    {
     "data": {
      "text/plain": [
       "1538783477976996928634014774512899410342179052487146901742256323416866179187484958304791756168895087"
      ]
     },
     "execution_count": 45,
     "metadata": {},
     "output_type": "execute_result"
    }
   ],
   "source": [
    "c = f(m, *pub)\n",
    "c"
   ]
  },
  {
   "cell_type": "code",
   "execution_count": 46,
   "metadata": {
    "execution": {
     "iopub.execute_input": "2023-10-24T07:36:48.407423Z",
     "iopub.status.busy": "2023-10-24T07:36:48.407286Z",
     "iopub.status.idle": "2023-10-24T07:36:48.410050Z",
     "shell.execute_reply": "2023-10-24T07:36:48.409718Z"
    },
    "slideshow": {
     "slide_type": "fragment"
    }
   },
   "outputs": [
    {
     "data": {
      "text/plain": [
       "'Bella lì!'"
      ]
     },
     "execution_count": 46,
     "metadata": {},
     "output_type": "execute_result"
    }
   ],
   "source": [
    "da_numero(f(c, *prv))"
   ]
  },
  {
   "cell_type": "markdown",
   "metadata": {
    "slideshow": {
     "slide_type": "slide"
    }
   },
   "source": [
    "<center>\n",
    "\n",
    "## Firma digitale\n",
    "\n",
    "</center>"
   ]
  },
  {
   "cell_type": "code",
   "execution_count": 47,
   "metadata": {
    "execution": {
     "iopub.execute_input": "2023-10-24T07:36:48.411743Z",
     "iopub.status.busy": "2023-10-24T07:36:48.411600Z",
     "iopub.status.idle": "2023-10-24T07:36:48.414318Z",
     "shell.execute_reply": "2023-10-24T07:36:48.413989Z"
    },
    "slideshow": {
     "slide_type": "slide"
    }
   },
   "outputs": [
    {
     "data": {
      "text/plain": [
       "889083638752155628545502045048817268794357067783608461028896573341592978755168396208918521167789527"
      ]
     },
     "execution_count": 47,
     "metadata": {},
     "output_type": "execute_result"
    }
   ],
   "source": [
    "s = f(m, *prv)\n",
    "s"
   ]
  },
  {
   "cell_type": "code",
   "execution_count": 48,
   "metadata": {
    "execution": {
     "iopub.execute_input": "2023-10-24T07:36:48.415913Z",
     "iopub.status.busy": "2023-10-24T07:36:48.415775Z",
     "iopub.status.idle": "2023-10-24T07:36:48.418801Z",
     "shell.execute_reply": "2023-10-24T07:36:48.418465Z"
    },
    "slideshow": {
     "slide_type": "fragment"
    }
   },
   "outputs": [
    {
     "data": {
      "text/plain": [
       "'Bella lì!'"
      ]
     },
     "execution_count": 48,
     "metadata": {},
     "output_type": "execute_result"
    }
   ],
   "source": [
    "da_numero(f(s, *pub))"
   ]
  },
  {
   "cell_type": "markdown",
   "metadata": {
    "slideshow": {
     "slide_type": "slide"
    }
   },
   "source": [
    "<center>\n",
    "\n",
    "# Bibliografia e sitografia\n",
    "\n",
    "</center>\n",
    "\n",
    "* Libri\n",
    "\n",
    "  David Kahn, \"The Codebreakers: The Story of Secret Writing\", Macmillan, 1967;\n",
    "  \n",
    "  Simon Singh, \"The code Book: The Science of Secrecy from Ancient Egypt to Quantum Cryptography\", 2000.\n",
    "\n",
    "* YouTube\n",
    "\n",
    "  [Diffie-Hellman Key Exchange](https://youtu.be/YEBfamv-_do) e \n",
    "  [RSA Encryption Algorithm](https://youtu.be/wXB-V_Keiu8).\n",
    "\n",
    "* Wikipedia\n",
    "\n",
    "  [Modular arithmetic](https://www.wikiwand.com/en/Modular_arithmetic),\n",
    "  [Extended Euclidean algorithm](https://www.wikiwand.com/en/Extended_Euclidean_algorithm),\n",
    "  [Euler's totient function](https://www.wikiwand.com/en/Euler's_totient_function),\n",
    "  [Euler's theorem](https://www.wikiwand.com/en/Euler%27s_theorem),\n",
    "  [Bezout's identity](https://www.wikiwand.com/en/B%C3%A9zout's_identity),\n",
    "  [Diffie-Hellman key exchange](https://www.wikiwand.com/en/Diffie%E2%80%93Hellman_key_exchange),\n",
    "  [RSA](https://www.wikiwand.com/en/RSA_(cryptosystem)).\n",
    "\n",
    "* Altro\n",
    "\n",
    "  [Big Ideas of Cryptography in K-12](https://bigideascryptok12.bitbucket.io/)."
   ]
  }
 ],
 "metadata": {
  "kernelspec": {
   "display_name": "dir-jupyter-fun-b812212f80584f228cf2fbd10554d7ac",
   "language": "python",
   "name": "python3"
  },
  "language_info": {
   "codemirror_mode": {
    "name": "ipython",
    "version": 3
   },
   "file_extension": ".py",
   "mimetype": "text/x-python",
   "name": "python",
   "nbconvert_exporter": "python",
   "pygments_lexer": "ipython3",
   "version": "3.10.12"
  }
 },
 "nbformat": 4,
 "nbformat_minor": 2
}
