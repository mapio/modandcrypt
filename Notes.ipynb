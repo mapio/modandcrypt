{
 "cells": [
  {
   "cell_type": "code",
   "execution_count": 1,
   "metadata": {},
   "outputs": [],
   "source": [
    "%load_ext autoreload\n",
    "%autoreload 2\n",
    "\n",
    "from modandcrypt import *"
   ]
  },
  {
   "cell_type": "markdown",
   "metadata": {},
   "source": [
    "$$a \\equiv b \\pmod{m}$$\n",
    "$$a \\equiv b \\pmod{m} \\iff \\exists k\\in\\mathbb{Z} \\mid m = k \\cdot (a - b)$$\n",
    "\n",
    "$$\\left[r\\right]_m = \\left\\{n\\in\\mathbb{Z} \\mid n = k\\cdot m + r \\text{ per } k \\in\\mathbb{Z}\\right\\} = \\left\\{n\\in\\mathbb{Z} \\mid n \\mathbin{\\%} m = r\\right\\}$$\n",
    "\n",
    "$$\\left[r + k\\cdot m\\right]_m = \\left[r\\right]_m$$\n",
    "\n",
    "\n",
    "$$\\left[3\\right]_7 = \\left\\{\\ldots, -18, -11, -4, 3, 10, 17, 24, 31, \\ldots\\right\\}$$\n",
    "\n",
    "$$\\left[0\\right]_7 = \\left\\{\\ldots, -21, -14, -7, 0, 7, 14, \\ldots\\right\\}$$\n",
    "\n",
    "$$\\mathbb{Z} / m\\mathbb{Z} = \\left\\{\\left[0\\right]_m, \\left[1\\right]_m, \\ldots, \\left[m-1\\right]_m\\right\\}$$\n",
    "\n",
    "$$\\left[r\\right] + \\left[s\\right] = \\left[r + s\\right]$$\n",
    "\n",
    "$$\\left[r\\right] \\cdot \\left[s\\right] = \\left[r \\cdot s\\right]$$\n",
    "\n",
    "$$\\left[r\\right]^e = \\left[r^e\\right]$$"
   ]
  },
  {
   "cell_type": "code",
   "execution_count": 2,
   "metadata": {},
   "outputs": [],
   "source": [
    "import matplotlib.pyplot as plt\n",
    "from time import thread_time_ns"
   ]
  },
  {
   "cell_type": "code",
   "execution_count": 3,
   "metadata": {},
   "outputs": [],
   "source": [
    "f = [\n",
    " 7,\n",
    " 83,\n",
    " 929,\n",
    " 6089,\n",
    " 58543,\n",
    " 158527,\n",
    " 1508711,\n",
    " #10507951,\n",
    " #105072001,\n",
    " #1050702811\n",
    "]\n"
   ]
  },
  {
   "cell_type": "code",
   "execution_count": 4,
   "metadata": {},
   "outputs": [
    {
     "data": {
      "text/plain": [
       "<matplotlib.legend.Legend at 0x7fef4fc48370>"
      ]
     },
     "execution_count": 4,
     "metadata": {},
     "output_type": "execute_result"
    },
    {
     "data": {
      "image/png": "[encoded data removed]",
      "text/plain": [
       "<Figure size 640x480 with 1 Axes>"
      ]
     },
     "metadata": {},
     "output_type": "display_data"
    }
   ],
   "source": [
    "plt.plot([\n",
    "  cronometra(lambda : fattorizza(moltiplica(f[:i + 1]))) for i in range(len(f))\n",
    "], '*-', label = 'fattorizza', c = 'red')\n",
    "plt.plot([\n",
    "  cronometra(lambda : moltiplica(f[:i + 1])) for i in range(len(f))\n",
    "], '*-', label = 'moltiplica', c = 'green')\n",
    "plt.yscale('log')\n",
    "plt.legend()"
   ]
  },
  {
   "cell_type": "code",
   "execution_count": 5,
   "metadata": {},
   "outputs": [],
   "source": [
    "#fattori = fattorizza(1237127471556713841512578)\n",
    "#fattori"
   ]
  },
  {
   "cell_type": "code",
   "execution_count": 6,
   "metadata": {},
   "outputs": [],
   "source": [
    "#moltiplica(fattori)"
   ]
  },
  {
   "cell_type": "code",
   "execution_count": 7,
   "metadata": {},
   "outputs": [
    {
     "name": "stdout",
     "output_type": "stream",
     "text": [
      "┌─────┬───────┬───────┬───────┬───────┬───────┬───────┬───────┐\n",
      "│ \u001b[1m*\u001b[0m   │ \u001b[1m[1]\u001b[0m   │ \u001b[1m[2]\u001b[0m   │ \u001b[1m[3]\u001b[0m   │ \u001b[1m[4]\u001b[0m   │ \u001b[1m[5]\u001b[0m   │ \u001b[1m[6]\u001b[0m   │ \u001b[1m[7]\u001b[0m   │\n",
      "├─────┼───────┼───────┼───────┼───────┼───────┼───────┼───────┤\n",
      "│ \u001b[1m[1]\u001b[0m │ \u001b[92m[1]\u001b[0m   │ [2]   │ [3]   │ [4]   │ [5]   │ [6]   │ [7]   │\n",
      "├─────┼───────┼───────┼───────┼───────┼───────┼───────┼───────┤\n",
      "│ \u001b[1m[2]\u001b[0m │ [2]   │ [4]   │ [6]   │ \u001b[91m[0]\u001b[0m   │ [2]   │ [4]   │ [6]   │\n",
      "├─────┼───────┼───────┼───────┼───────┼───────┼───────┼───────┤\n",
      "│ \u001b[1m[3]\u001b[0m │ [3]   │ [6]   │ \u001b[92m[1]\u001b[0m   │ [4]   │ [7]   │ [2]   │ [5]   │\n",
      "├─────┼───────┼───────┼───────┼───────┼───────┼───────┼───────┤\n",
      "│ \u001b[1m[4]\u001b[0m │ [4]   │ \u001b[91m[0]\u001b[0m   │ [4]   │ \u001b[91m[0]\u001b[0m   │ [4]   │ \u001b[91m[0]\u001b[0m   │ [4]   │\n",
      "├─────┼───────┼───────┼───────┼───────┼───────┼───────┼───────┤\n",
      "│ \u001b[1m[5]\u001b[0m │ [5]   │ [2]   │ [7]   │ [4]   │ \u001b[92m[1]\u001b[0m   │ [6]   │ [3]   │\n",
      "├─────┼───────┼───────┼───────┼───────┼───────┼───────┼───────┤\n",
      "│ \u001b[1m[6]\u001b[0m │ [6]   │ [4]   │ [2]   │ \u001b[91m[0]\u001b[0m   │ [6]   │ [4]   │ [2]   │\n",
      "├─────┼───────┼───────┼───────┼───────┼───────┼───────┼───────┤\n",
      "│ \u001b[1m[7]\u001b[0m │ [7]   │ [6]   │ [5]   │ [4]   │ [3]   │ [2]   │ \u001b[92m[1]\u001b[0m   │\n",
      "└─────┴───────┴───────┴───────┴───────┴───────┴───────┴───────┘\n"
     ]
    }
   ],
   "source": [
    "M = Mod(8)\n",
    "M.prodotto()"
   ]
  },
  {
   "cell_type": "code",
   "execution_count": 8,
   "metadata": {},
   "outputs": [
    {
     "name": "stdout",
     "output_type": "stream",
     "text": [
      "┌─────┬───────┬───────┬───────┬───────┐\n",
      "│ \u001b[1m*\u001b[0m   │ \u001b[1m[1]\u001b[0m   │ \u001b[1m[3]\u001b[0m   │ \u001b[1m[5]\u001b[0m   │ \u001b[1m[7]\u001b[0m   │\n",
      "├─────┼───────┼───────┼───────┼───────┤\n",
      "│ \u001b[1m[1]\u001b[0m │ \u001b[92m[1]\u001b[0m   │ [3]   │ [5]   │ [7]   │\n",
      "├─────┼───────┼───────┼───────┼───────┤\n",
      "│ \u001b[1m[3]\u001b[0m │ [3]   │ \u001b[92m[1]\u001b[0m   │ [7]   │ [5]   │\n",
      "├─────┼───────┼───────┼───────┼───────┤\n",
      "│ \u001b[1m[5]\u001b[0m │ [5]   │ [7]   │ \u001b[92m[1]\u001b[0m   │ [3]   │\n",
      "├─────┼───────┼───────┼───────┼───────┤\n",
      "│ \u001b[1m[7]\u001b[0m │ [7]   │ [5]   │ [3]   │ \u001b[92m[1]\u001b[0m   │\n",
      "└─────┴───────┴───────┴───────┴───────┘\n"
     ]
    }
   ],
   "source": [
    "Mod(8).prodotto_coprimi()"
   ]
  },
  {
   "cell_type": "code",
   "execution_count": 9,
   "metadata": {},
   "outputs": [
    {
     "name": "stdout",
     "output_type": "stream",
     "text": [
      "┌──────┬──────┬──────┬──────┬──────┬─────┬─────┐\n",
      "│ \u001b[1m**\u001b[0m   │ \u001b[1m1\u001b[0m    │ \u001b[1m2\u001b[0m    │ \u001b[1m3\u001b[0m    │ \u001b[1m4\u001b[0m    │ \u001b[1m5\u001b[0m   │ \u001b[1m6\u001b[0m   │\n",
      "├──────┼──────┼──────┼──────┼──────┼─────┼─────┤\n",
      "│ \u001b[1m[1]\u001b[0m  │ [1]  │      │      │      │     │     │\n",
      "├──────┼──────┼──────┼──────┼──────┼─────┼─────┤\n",
      "│ \u001b[96m\u001b[1m[3]\u001b[0m\u001b[0m  │ [3]  │ [9]  │ [13] │ [11] │ [5] │ [1] │\n",
      "├──────┼──────┼──────┼──────┼──────┼─────┼─────┤\n",
      "│ \u001b[96m\u001b[1m[5]\u001b[0m\u001b[0m  │ [5]  │ [11] │ [13] │ [9]  │ [3] │ [1] │\n",
      "├──────┼──────┼──────┼──────┼──────┼─────┼─────┤\n",
      "│ \u001b[1m[9]\u001b[0m  │ [9]  │ [11] │ [1]  │      │     │     │\n",
      "├──────┼──────┼──────┼──────┼──────┼─────┼─────┤\n",
      "│ \u001b[1m[11]\u001b[0m │ [11] │ [9]  │ [1]  │      │     │     │\n",
      "├──────┼──────┼──────┼──────┼──────┼─────┼─────┤\n",
      "│ \u001b[1m[13]\u001b[0m │ [13] │ [1]  │      │      │     │     │\n",
      "└──────┴──────┴──────┴──────┴──────┴─────┴─────┘\n"
     ]
    }
   ],
   "source": [
    "Mod(14).generatori()"
   ]
  },
  {
   "cell_type": "code",
   "execution_count": 10,
   "metadata": {},
   "outputs": [],
   "source": [
    "from urllib.request import urlopen\n",
    "from collections import Counter\n",
    "\n",
    "with urlopen('https://www.gutenberg.org/cache/epub/45334/pg45334.txt') as inf:\n",
    "  text = inf.read().decode('utf-8-sig')"
   ]
  },
  {
   "cell_type": "code",
   "execution_count": 11,
   "metadata": {},
   "outputs": [
    {
     "data": {
      "image/png": "[encoded data removed]",
      "text/plain": [
       "<Figure size 640x480 with 1 Axes>"
      ]
     },
     "metadata": {},
     "output_type": "display_data"
    }
   ],
   "source": [
    "istogramma_lettere(text)"
   ]
  },
  {
   "cell_type": "code",
   "execution_count": 12,
   "metadata": {},
   "outputs": [],
   "source": [
    "def cesare(testo, chiave):\n",
    "  return da_posizioni(orologio_somma(a_posizioni(testo), a_posizioni(chiave)))"
   ]
  },
  {
   "cell_type": "code",
   "execution_count": 13,
   "metadata": {},
   "outputs": [],
   "source": [
    "msg = \"\"\"\n",
    "Tutt'e due si volsero a chi ne sapeva piu' di loro, e da cui \n",
    "aspettavano uno schiarimento, il quale non poteva essere che \n",
    "doloroso: tutt'e due, lasciando travedere, in mezzo al dolore, \n",
    "e con l'amore diverso che ognun d'essi portava a Lucia.\n",
    "\"\"\""
   ]
  },
  {
   "cell_type": "code",
   "execution_count": 14,
   "metadata": {},
   "outputs": [
    {
     "name": "stdout",
     "output_type": "stream",
     "text": [
      "\n",
      "TUTTE DUE SI VOLSERO A CHI NE SAPEVA PIU DI LORO E DA CUI \n",
      "ASPETTAVANO UNO SCHIARIMENTO IL QUALE NON POTEVA ESSERE CHE \n",
      "DOLOROSO TUTTE DUE LASCIANDO TRAVEDERE IN MEZZO AL DOLORE \n",
      "E CON LAMORE DIVERSO CHE OGNUN DESSI PORTAVA A LUCIA\n",
      "\n"
     ]
    }
   ],
   "source": [
    "print(semplifica(msg))"
   ]
  },
  {
   "cell_type": "code",
   "execution_count": 15,
   "metadata": {},
   "outputs": [
    {
     "name": "stdout",
     "output_type": "stream",
     "text": [
      "EYZYYJDIZJDXND TQXJWTDFDHMNDSJDXFUJ FDUNZDINDQTWTDJDIFDHZNDEFXUJYYF FSTDZSTDXHMNFWNRJSYTDNQDVZFQJDSTSDUTYJ FDJXXJWJDHMJDEITQTWTXTDYZYYJDIZJDQFXHNFSITDYWF JIJWJDNSDRJCCTDFQDITQTWJDEJDHTSDQFRTWJDIN JWXTDHMJDTLSZSDIJXXNDUTWYF FDFDQZHNFE\n"
     ]
    }
   ],
   "source": [
    "c = cesare(msg, 'F')\n",
    "print(c)"
   ]
  },
  {
   "cell_type": "code",
   "execution_count": 16,
   "metadata": {},
   "outputs": [
    {
     "data": {
      "image/png": "[encoded data removed]",
      "text/plain": [
       "<Figure size 640x480 with 1 Axes>"
      ]
     },
     "metadata": {},
     "output_type": "display_data"
    }
   ],
   "source": [
    "istogramma_lettere(c)"
   ]
  },
  {
   "cell_type": "code",
   "execution_count": 17,
   "metadata": {},
   "outputs": [
    {
     "name": "stdout",
     "output_type": "stream",
     "text": [
      "\n",
      "TUTTE DUE SI VOLSERO A CHI NE SAPEVA PIU DI LORO E DA CUI \n",
      "ASPETTAVANO UNO SCHIARIMENTO IL QUALE NON POTEVA ESSERE CHE \n",
      "DOLOROSO TUTTE DUE LASCIANDO TRAVEDERE IN MEZZO AL DOLORE \n",
      "E CON LAMORE DIVERSO CHE OGNUN DESSI PORTAVA A LUCIA\n",
      "\n"
     ]
    }
   ],
   "source": [
    "print(cesare(c, inverti('F')))"
   ]
  },
  {
   "cell_type": "code",
   "execution_count": 18,
   "metadata": {},
   "outputs": [
    {
     "data": {
      "text/plain": [
       "<matplotlib.collections.PathCollection at 0x7fef4d9e1360>"
      ]
     },
     "execution_count": 18,
     "metadata": {},
     "output_type": "execute_result"
    },
    {
     "data": {
      "image/png": "[encoded data removed]",
      "text/plain": [
       "<Figure size 640x480 with 1 Axes>"
      ]
     },
     "metadata": {},
     "output_type": "display_data"
    }
   ],
   "source": [
    "N = list(range(1, 1000))\n",
    "plt.scatter(\n",
    "  N, \n",
    "  [φ(n) for n in N], s = .1, \n",
    "  color = ['r' if è_primo(n) else 'b' for n in N]\n",
    ")"
   ]
  },
  {
   "cell_type": "code",
   "execution_count": 19,
   "metadata": {},
   "outputs": [
    {
     "data": {
      "text/plain": [
       "True"
      ]
     },
     "execution_count": 19,
     "metadata": {},
     "output_type": "execute_result"
    }
   ],
   "source": [
    "p, g = 2963, 51\n",
    "\n",
    "M = Mod(p)\n",
    "len(M[g].potenze()) == p - 1"
   ]
  },
  {
   "cell_type": "code",
   "execution_count": 20,
   "metadata": {},
   "outputs": [
    {
     "name": "stdout",
     "output_type": "stream",
     "text": [
      "[2149] [2940]\n"
     ]
    },
    {
     "data": {
      "text/plain": [
       "True"
      ]
     },
     "execution_count": 20,
     "metadata": {},
     "output_type": "execute_result"
    }
   ],
   "source": [
    "# Diffie-Hellman\n",
    "\n",
    "a, b = 123, 345\n",
    "print(M[g] ** a, M[g] ** b)\n",
    "M[2149] ** b == M[2940] ** a"
   ]
  },
  {
   "cell_type": "code",
   "execution_count": 21,
   "metadata": {},
   "outputs": [],
   "source": [
    "p, q = 55202166624234742076825422018198552545568721350927, 43045972142075202331028535612422134545369845034403\n",
    "e = 65537"
   ]
  },
  {
   "cell_type": "code",
   "execution_count": 22,
   "metadata": {},
   "outputs": [],
   "source": [
    "n = p * q\n",
    "t = (p - 1) * (q - 1)"
   ]
  },
  {
   "cell_type": "code",
   "execution_count": 23,
   "metadata": {},
   "outputs": [
    {
     "data": {
      "text/plain": [
       "701154365630284037290881701138012383299504419581543080721910924221824588942701573338487759909677721"
      ]
     },
     "execution_count": 23,
     "metadata": {},
     "output_type": "execute_result"
    }
   ],
   "source": [
    "d = (1 / Mod(t)[e]).n\n",
    "d"
   ]
  },
  {
   "cell_type": "code",
   "execution_count": 24,
   "metadata": {},
   "outputs": [],
   "source": [
    "prv = (e, n)\n",
    "pub = (d, n)"
   ]
  },
  {
   "cell_type": "code",
   "execution_count": 25,
   "metadata": {},
   "outputs": [
    {
     "data": {
      "text/plain": [
       "469458210797832631053665"
      ]
     },
     "execution_count": 25,
     "metadata": {},
     "output_type": "execute_result"
    }
   ],
   "source": [
    "m = a_numero('ciao mamma')\n",
    "m"
   ]
  },
  {
   "cell_type": "code",
   "execution_count": 26,
   "metadata": {},
   "outputs": [
    {
     "data": {
      "text/plain": [
       "1"
      ]
     },
     "execution_count": 26,
     "metadata": {},
     "output_type": "execute_result"
    }
   ],
   "source": [
    "MCD(m, n)"
   ]
  },
  {
   "cell_type": "code",
   "execution_count": 27,
   "metadata": {},
   "outputs": [],
   "source": [
    "def rsa(m, k):\n",
    "  e, n = k\n",
    "  M = Mod(n)\n",
    "  return (M[m] ** e).rappresentante()"
   ]
  },
  {
   "cell_type": "code",
   "execution_count": 28,
   "metadata": {},
   "outputs": [
    {
     "data": {
      "text/plain": [
       "362337790988074237535861064089768170086399473998055085835033461772699680270235591315186139839910519"
      ]
     },
     "execution_count": 28,
     "metadata": {},
     "output_type": "execute_result"
    }
   ],
   "source": [
    "c = rsa(m, prv)\n",
    "c"
   ]
  },
  {
   "cell_type": "code",
   "execution_count": 29,
   "metadata": {},
   "outputs": [
    {
     "data": {
      "text/plain": [
       "469458210797832631053665"
      ]
     },
     "execution_count": 29,
     "metadata": {},
     "output_type": "execute_result"
    }
   ],
   "source": [
    "mp = rsa(c, pub)\n",
    "mp"
   ]
  },
  {
   "cell_type": "code",
   "execution_count": 30,
   "metadata": {},
   "outputs": [
    {
     "data": {
      "text/plain": [
       "'ciao mamma'"
      ]
     },
     "execution_count": 30,
     "metadata": {},
     "output_type": "execute_result"
    }
   ],
   "source": [
    "da_numero(mp)"
   ]
  },
  {
   "cell_type": "markdown",
   "metadata": {},
   "source": [
    "$$([m]_n)^{\\phi(n)} = [1]_n$$"
   ]
  },
  {
   "cell_type": "code",
   "execution_count": 31,
   "metadata": {},
   "outputs": [
    {
     "name": "stdout",
     "output_type": "stream",
     "text": [
      "┌─────────┬─────┬─────┬──────┬──────┬─────┬─────┬──────┬──────┬──────┐\n",
      "│ \u001b[1mchiaro\u001b[0m  │ B:1 │ E:4 │ L:11 │ L:11 │ A:0 │ :26 │ Z:25 │ I:8  │ O:14 │\n",
      "├─────────┼─────┼─────┼──────┼──────┼─────┼─────┼──────┼──────┼──────┤\n",
      "│ \u001b[1mchiave\u001b[0m  │ E:4 │ E:4 │ E:4  │ E:4  │ E:4 │ E:4 │ E:4  │ E:4  │ E:4  │\n",
      "├─────────┼─────┼─────┼──────┼──────┼─────┼─────┼──────┼──────┼──────┤\n",
      "│ \u001b[1mcifrato\u001b[0m │ F:5 │ I:8 │ P:15 │ P:15 │ E:4 │ C:2 │ B:1  │ M:12 │ S:18 │\n",
      "└─────────┴─────┴─────┴──────┴──────┴─────┴─────┴──────┴──────┴──────┘\n"
     ]
    }
   ],
   "source": [
    "cifra('bella zio', 'e')"
   ]
  },
  {
   "cell_type": "code",
   "execution_count": 32,
   "metadata": {},
   "outputs": [
    {
     "name": "stdout",
     "output_type": "stream",
     "text": [
      "┌─────────┬──────┬──────┬──────┬──────┬──────┬──────┬──────┬──────┬──────┐\n",
      "│ \u001b[1mcifrato\u001b[0m │ F:5  │ I:8  │ P:15 │ P:15 │ E:4  │ C:2  │ B:1  │ M:12 │ S:18 │\n",
      "├─────────┼──────┼──────┼──────┼──────┼──────┼──────┼──────┼──────┼──────┤\n",
      "│ \u001b[1mchiave\u001b[0m  │ Y:24 │ Y:24 │ Y:24 │ Y:24 │ Y:24 │ Y:24 │ Y:24 │ Y:24 │ Y:24 │\n",
      "├─────────┼──────┼──────┼──────┼──────┼──────┼──────┼──────┼──────┼──────┤\n",
      "│ \u001b[1mchiaro\u001b[0m  │ B:1  │ E:4  │ L:11 │ L:11 │ A:0  │ :26  │ Z:25 │ I:8  │ O:14 │\n",
      "└─────────┴──────┴──────┴──────┴──────┴──────┴──────┴──────┴──────┴──────┘\n"
     ]
    }
   ],
   "source": [
    "decifra('FIPPECBMS', 'e')"
   ]
  },
  {
   "cell_type": "code",
   "execution_count": 33,
   "metadata": {},
   "outputs": [
    {
     "data": {
      "text/plain": [
       "[5, 7, 9]"
      ]
     },
     "execution_count": 33,
     "metadata": {},
     "output_type": "execute_result"
    }
   ],
   "source": [
    "orologio_somma([1, 2, 3], [4, 5, 6])"
   ]
  },
  {
   "cell_type": "code",
   "execution_count": null,
   "metadata": {},
   "outputs": [],
   "source": []
  },
  {
   "cell_type": "markdown",
   "metadata": {},
   "source": [
    "# https://youtu.be/YEBfamv-_do\n",
    "# https://youtu.be/wXB-V_Keiu8\n",
    "\n",
    "# https://www.wikiwand.com/en/RSA_(cryptosystem)\n",
    "# https://bigideascryptok12.bitbucket.io/\n",
    "# https://math.stackexchange.com/questions/20157/rsa-in-plain-english\n",
    "# http://web.math.unifi.it/users/piochi/MATERIALI_OL/aritfinite-crittograf/crittologia.htm\n",
    "\n",
    "\n",
    "* sorgente, messaggio, canale\n",
    "* testo in chiaro, crittogramma, chiave\n",
    "* legge di Kerckhoffs \"La Cryptographie Militaire\", Auguste Kerckhoffs (1883)\n",
    "\n",
    "* monoalfabetico\n",
    "\t- 500/600 AC\n",
    "\t\tEbrei (Atbash)\n",
    "\t \tGreci (scytale)\n",
    "\t- 100 AC Cifrario di Cesare (Erodoto, Svetonio)\n",
    "\t- 800 Al-Kindi (arabia, analisi frequenziale)\n",
    "\t- 2006 Bernardo Provenzano\n",
    "\n",
    "* polialfabetico\n",
    "\t- 1467 Leone Battista Alberti\n",
    "\t- 1553 Giovan Battista Bellaso\n",
    "\t- 1586 Blaise de Vigenère (diplomatico)\n",
    "\t- 1854 Charles Babbage (inglese, computer)\n",
    "\t- 1863 Friedrich Kasiski (fanteria, archeologo)\n",
    "\t- 1918 Gilbert Vernam (AT&T one time pad)\n",
    "\t- 1945 Claude Shannon (matematico)\n",
    "\n",
    "* chiave pubblica\n",
    " \t- 1974 Ralph Merkle\n",
    "\t- 1976 Whitfield Diffie, Martin Hellman\n",
    "\t\t- colori [https://youtu.be/YEBfamv-_do]\n",
    "\t\t- lucchetti (Bob manda il suo lucchetto ad Alice)\n",
    "\t- 1977 Ron Rivest, Adi Shamir, Leonard Adleman (RSA)\n",
    "\n",
    "\n",
    "\n",
    "\n",
    "- David Kahn, The Codebreakers: The Story of Secret Writing, Macmillan, 1967\n",
    "- Simon Singh, The code Book: The Science of Secrecy from Ancient Egypt to Quantum Cryptography, 2000\n",
    "\n",
    "\n",
    "# Aritmetica moldulare\n",
    "\n",
    "# https://it.wikipedia.org/wiki/Aritmetica_modulare\n",
    "\n",
    "* modulo\n",
    "* congruenza\n",
    "* gruppo additivo (e inversi)\n",
    "* guppo moltiplicativo (e inversi)\n",
    "  * MCD, bezut\n",
    "  * il toziente di Eulero\n"
   ]
  }
 ],
 "metadata": {
  "kernelspec": {
   "display_name": "Python 3",
   "language": "python",
   "name": "python3"
  },
  "language_info": {
   "codemirror_mode": {
    "name": "ipython",
    "version": 3
   },
   "file_extension": ".py",
   "mimetype": "text/x-python",
   "name": "python",
   "nbconvert_exporter": "python",
   "pygments_lexer": "ipython3",
   "version": "3.10.12"
  }
 },
 "nbformat": 4,
 "nbformat_minor": 2
}
