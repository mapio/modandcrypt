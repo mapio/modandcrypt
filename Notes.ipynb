{
 "cells": [
  {
   "cell_type": "code",
   "execution_count": 1,
   "metadata": {},
   "outputs": [],
   "source": [
    "# https://youtu.be/YEBfamv-_do\n",
    "# https://youtu.be/wXB-V_Keiu8\n",
    "\n",
    "# https://www.wikiwand.com/en/RSA_(cryptosystem)\n",
    "# https://bigideascryptok12.bitbucket.io/\n",
    "# https://math.stackexchange.com/questions/20157/rsa-in-plain-english\n",
    "# http://web.math.unifi.it/users/piochi/MATERIALI_OL/aritfinite-crittograf/crittologia.htm\n"
   ]
  },
  {
   "cell_type": "code",
   "execution_count": 93,
   "metadata": {},
   "outputs": [
    {
     "name": "stdout",
     "output_type": "stream",
     "text": [
      "The autoreload extension is already loaded. To reload it, use:\n",
      "  %reload_ext autoreload\n"
     ]
    }
   ],
   "source": [
    "%load_ext autoreload\n",
    "%autoreload 2"
   ]
  },
  {
   "cell_type": "markdown",
   "metadata": {},
   "source": [
    "$$\\left[r\\right]_m = \\left\\{n\\in\\mathbb{Z} \\mid n = k\\cdot m + r \\text{ per } k \\in\\mathbb{Z}\\right\\}$$\n",
    "\n",
    "$$\\left[3\\right]_7 = \\left\\{\\ldots, -18, -11, -4, 3, 10, 17, 24, 31, \\ldots\\right\\}$$\n",
    "\n",
    "$$\\left[0\\right]_7 = \\left\\{\\ldots, -21, -14, -7, 0, 7, 14, \\ldots\\right\\}$$\n",
    "\n",
    "$$\\left[r\\right] + \\left[s\\right] = \\left[r + s\\right]$$\n",
    "\n",
    "$$\\left[r\\right] \\cdot \\left[s\\right] = \\left[r \\cdot s\\right]$$\n",
    "\n",
    "$$\\left[r\\right]^e = \\left[r^e\\right]$$"
   ]
  },
  {
   "cell_type": "code",
   "execution_count": 90,
   "metadata": {},
   "outputs": [],
   "source": [
    "from ml import *\n",
    "import matplotlib.pyplot as plt\n",
    "from time import thread_time_ns"
   ]
  },
  {
   "cell_type": "code",
   "execution_count": 4,
   "metadata": {},
   "outputs": [],
   "source": [
    "f = [\n",
    " 7,\n",
    " 83,\n",
    " 929,\n",
    " 6089,\n",
    " 58543,\n",
    " 158527,\n",
    " 1508711,\n",
    " 10507951,\n",
    " 105072001,\n",
    " 1050702811\n",
    "]\n",
    "tempi_moltiplica = []\n",
    "tempi_fattorizza = []\n",
    "for i in range(len(f)):\n",
    "  t0 = thread_time_ns()\n",
    "  m = moltiplica(f[:i + 1])\n",
    "  t1 = thread_time_ns()\n",
    "  tempi_moltiplica.append((t1 - t0) / 10 ** 9)\n",
    "  fattorizza(m)\n",
    "  t2 = thread_time_ns()\n",
    "  tempi_fattorizza.append((t2 - t1) / 10 ** 9)"
   ]
  },
  {
   "cell_type": "code",
   "execution_count": 7,
   "metadata": {},
   "outputs": [
    {
     "data": {
      "text/plain": [
       "<matplotlib.legend.Legend at 0x7fbbf7dc4df0>"
      ]
     },
     "execution_count": 7,
     "metadata": {},
     "output_type": "execute_result"
    },
    {
     "data": {
      "image/png": "[encoded data removed]",
      "text/plain": [
       "<Figure size 640x480 with 1 Axes>"
      ]
     },
     "metadata": {},
     "output_type": "display_data"
    }
   ],
   "source": [
    "plt.plot(tempi_moltiplica, '*-', label = 'moltiplica')\n",
    "plt.plot(tempi_fattorizza, '*-', label = 'fattorizza')\n",
    "plt.yscale('log')\n",
    "plt.legend()"
   ]
  },
  {
   "cell_type": "code",
   "execution_count": 8,
   "metadata": {},
   "outputs": [
    {
     "data": {
      "text/plain": [
       "[2, 153467071, 4030595825852159]"
      ]
     },
     "execution_count": 8,
     "metadata": {},
     "output_type": "execute_result"
    }
   ],
   "source": [
    "fattori = fattorizza(1237127471556713841512578)\n",
    "fattori"
   ]
  },
  {
   "cell_type": "code",
   "execution_count": 9,
   "metadata": {},
   "outputs": [
    {
     "data": {
      "text/plain": [
       "1237127471556713841512578"
      ]
     },
     "execution_count": 9,
     "metadata": {},
     "output_type": "execute_result"
    }
   ],
   "source": [
    "moltiplica(fattori)"
   ]
  },
  {
   "cell_type": "code",
   "execution_count": 10,
   "metadata": {},
   "outputs": [
    {
     "name": "stdout",
     "output_type": "stream",
     "text": [
      "┌─────┬───────┬───────┬───────┬───────┬───────┬───────┬───────┐\n",
      "│ \u001b[1m*\u001b[0m   │ \u001b[1m[1]\u001b[0m   │ \u001b[1m[2]\u001b[0m   │ \u001b[1m[3]\u001b[0m   │ \u001b[1m[4]\u001b[0m   │ \u001b[1m[5]\u001b[0m   │ \u001b[1m[6]\u001b[0m   │ \u001b[1m[7]\u001b[0m   │\n",
      "├─────┼───────┼───────┼───────┼───────┼───────┼───────┼───────┤\n",
      "│ \u001b[1m[1]\u001b[0m │ \u001b[92m[1]\u001b[0m   │ [2]   │ [3]   │ [4]   │ [5]   │ [6]   │ [7]   │\n",
      "├─────┼───────┼───────┼───────┼───────┼───────┼───────┼───────┤\n",
      "│ \u001b[1m[2]\u001b[0m │ [2]   │ [4]   │ [6]   │ \u001b[91m[0]\u001b[0m   │ [2]   │ [4]   │ [6]   │\n",
      "├─────┼───────┼───────┼───────┼───────┼───────┼───────┼───────┤\n",
      "│ \u001b[1m[3]\u001b[0m │ [3]   │ [6]   │ \u001b[92m[1]\u001b[0m   │ [4]   │ [7]   │ [2]   │ [5]   │\n",
      "├─────┼───────┼───────┼───────┼───────┼───────┼───────┼───────┤\n",
      "│ \u001b[1m[4]\u001b[0m │ [4]   │ \u001b[91m[0]\u001b[0m   │ [4]   │ \u001b[91m[0]\u001b[0m   │ [4]   │ \u001b[91m[0]\u001b[0m   │ [4]   │\n",
      "├─────┼───────┼───────┼───────┼───────┼───────┼───────┼───────┤\n",
      "│ \u001b[1m[5]\u001b[0m │ [5]   │ [2]   │ [7]   │ [4]   │ \u001b[92m[1]\u001b[0m   │ [6]   │ [3]   │\n",
      "├─────┼───────┼───────┼───────┼───────┼───────┼───────┼───────┤\n",
      "│ \u001b[1m[6]\u001b[0m │ [6]   │ [4]   │ [2]   │ \u001b[91m[0]\u001b[0m   │ [6]   │ [4]   │ [2]   │\n",
      "├─────┼───────┼───────┼───────┼───────┼───────┼───────┼───────┤\n",
      "│ \u001b[1m[7]\u001b[0m │ [7]   │ [6]   │ [5]   │ [4]   │ [3]   │ [2]   │ \u001b[92m[1]\u001b[0m   │\n",
      "└─────┴───────┴───────┴───────┴───────┴───────┴───────┴───────┘\n"
     ]
    }
   ],
   "source": [
    "M = Mod(8)\n",
    "M.prodotto()"
   ]
  },
  {
   "cell_type": "code",
   "execution_count": 11,
   "metadata": {},
   "outputs": [
    {
     "name": "stdout",
     "output_type": "stream",
     "text": [
      "┌─────┬───────┬───────┬───────┬───────┐\n",
      "│ \u001b[1m*\u001b[0m   │ \u001b[1m[1]\u001b[0m   │ \u001b[1m[3]\u001b[0m   │ \u001b[1m[5]\u001b[0m   │ \u001b[1m[7]\u001b[0m   │\n",
      "├─────┼───────┼───────┼───────┼───────┤\n",
      "│ \u001b[1m[1]\u001b[0m │ \u001b[92m[1]\u001b[0m   │ [3]   │ [5]   │ [7]   │\n",
      "├─────┼───────┼───────┼───────┼───────┤\n",
      "│ \u001b[1m[3]\u001b[0m │ [3]   │ \u001b[92m[1]\u001b[0m   │ [7]   │ [5]   │\n",
      "├─────┼───────┼───────┼───────┼───────┤\n",
      "│ \u001b[1m[5]\u001b[0m │ [5]   │ [7]   │ \u001b[92m[1]\u001b[0m   │ [3]   │\n",
      "├─────┼───────┼───────┼───────┼───────┤\n",
      "│ \u001b[1m[7]\u001b[0m │ [7]   │ [5]   │ [3]   │ \u001b[92m[1]\u001b[0m   │\n",
      "└─────┴───────┴───────┴───────┴───────┘\n"
     ]
    }
   ],
   "source": [
    "Mod(8).prodotto_coprimi()"
   ]
  },
  {
   "cell_type": "code",
   "execution_count": 12,
   "metadata": {},
   "outputs": [
    {
     "name": "stdout",
     "output_type": "stream",
     "text": [
      "┌──────┬──────┬──────┬──────┬──────┬─────┬─────┐\n",
      "│ \u001b[1m**\u001b[0m   │ \u001b[1m1\u001b[0m    │ \u001b[1m2\u001b[0m    │ \u001b[1m3\u001b[0m    │ \u001b[1m4\u001b[0m    │ \u001b[1m5\u001b[0m   │ \u001b[1m6\u001b[0m   │\n",
      "├──────┼──────┼──────┼──────┼──────┼─────┼─────┤\n",
      "│ \u001b[1m[1]\u001b[0m  │ [1]  │      │      │      │     │     │\n",
      "├──────┼──────┼──────┼──────┼──────┼─────┼─────┤\n",
      "│ \u001b[96m\u001b[1m[3]\u001b[0m\u001b[0m  │ [3]  │ [9]  │ [13] │ [11] │ [5] │ [1] │\n",
      "├──────┼──────┼──────┼──────┼──────┼─────┼─────┤\n",
      "│ \u001b[96m\u001b[1m[5]\u001b[0m\u001b[0m  │ [5]  │ [11] │ [13] │ [9]  │ [3] │ [1] │\n",
      "├──────┼──────┼──────┼──────┼──────┼─────┼─────┤\n",
      "│ \u001b[1m[9]\u001b[0m  │ [9]  │ [11] │ [1]  │      │     │     │\n",
      "├──────┼──────┼──────┼──────┼──────┼─────┼─────┤\n",
      "│ \u001b[1m[11]\u001b[0m │ [11] │ [9]  │ [1]  │      │     │     │\n",
      "├──────┼──────┼──────┼──────┼──────┼─────┼─────┤\n",
      "│ \u001b[1m[13]\u001b[0m │ [13] │ [1]  │      │      │     │     │\n",
      "└──────┴──────┴──────┴──────┴──────┴─────┴─────┘\n"
     ]
    }
   ],
   "source": [
    "Mod(14).generatori()"
   ]
  },
  {
   "cell_type": "code",
   "execution_count": 13,
   "metadata": {},
   "outputs": [
    {
     "data": {
      "text/plain": [
       "'ciao mamma'"
      ]
     },
     "execution_count": 13,
     "metadata": {},
     "output_type": "execute_result"
    }
   ],
   "source": [
    "def summ(msg, key):\n",
    "  key = key * (len(msg) // len(key) + 1)\n",
    "  return ''.join([s(a, b) for a, b in zip(msg, key)])\n",
    "\n",
    "def s(a, b):\n",
    "  if not (a.isalpha() and a.isascii()): return a\n",
    "  return chr((ord(a) - ord('a') + ord(b) - ord('a')) % 26 + ord('a'))\n",
    "\n",
    "def inv(key):\n",
    "  return ''.join(chr((ord('a') - ord(a)) % 26 + ord('a')) for a in key)\n",
    "\n",
    "summ(summ('ciao mamma', 'mamma'), inv('mamma'))"
   ]
  },
  {
   "cell_type": "code",
   "execution_count": 16,
   "metadata": {},
   "outputs": [],
   "source": [
    "from urllib.request import urlopen\n",
    "from collections import Counter\n",
    "\n",
    "with urlopen('https://www.gutenberg.org/cache/epub/45334/pg45334.txt') as inf:\n",
    "  text = inf.read().decode('utf-8-sig')"
   ]
  },
  {
   "cell_type": "code",
   "execution_count": 108,
   "metadata": {},
   "outputs": [
    {
     "data": {
      "text/plain": [
       "[112, 101, 114, 104, 99, 232]"
      ]
     },
     "execution_count": 108,
     "metadata": {},
     "output_type": "execute_result"
    }
   ],
   "source": []
  },
  {
   "cell_type": "code",
   "execution_count": 144,
   "metadata": {},
   "outputs": [],
   "source": []
  },
  {
   "cell_type": "code",
   "execution_count": 146,
   "metadata": {},
   "outputs": [
    {
     "data": {
      "image/png": "[encoded data removed]",
      "text/plain": [
       "<Figure size 640x480 with 1 Axes>"
      ]
     },
     "metadata": {},
     "output_type": "display_data"
    }
   ],
   "source": [
    "istogramma_lettere(text)"
   ]
  },
  {
   "cell_type": "code",
   "execution_count": 158,
   "metadata": {},
   "outputs": [],
   "source": [
    "def cesar(msg, k):\n",
    "  A = ord('A')\n",
    "  return ''.join(chr(A + (ord(c) - A + k) % 26) if c.isalpha() and c.isascii() else c for c in msg.upper())"
   ]
  },
  {
   "cell_type": "code",
   "execution_count": 171,
   "metadata": {},
   "outputs": [],
   "source": [
    "msg = \"\"\"\n",
    "Tutt'e due si volsero a chi ne sapeva piu' di loro, e da cui \n",
    "aspettavano uno schiarimento, il quale non poteva essere che \n",
    "doloroso: tutt'e due, lasciando travedere, in mezzo al dolore, \n",
    "e con l'amore diverso che ognun d'essi portava a Lucia.\n",
    "\"\"\""
   ]
  },
  {
   "cell_type": "code",
   "execution_count": 172,
   "metadata": {},
   "outputs": [
    {
     "name": "stdout",
     "output_type": "stream",
     "text": [
      "\n",
      "YZYY'J IZJ XN ATQXJWT F HMN SJ XFUJAF UNZ' IN QTWT, J IF HZN \n",
      "FXUJYYFAFST ZST XHMNFWNRJSYT, NQ VZFQJ STS UTYJAF JXXJWJ HMJ \n",
      "ITQTWTXT: YZYY'J IZJ, QFXHNFSIT YWFAJIJWJ, NS RJEET FQ ITQTWJ, \n",
      "J HTS Q'FRTWJ INAJWXT HMJ TLSZS I'JXXN UTWYFAF F QZHNF.\n",
      "\n"
     ]
    }
   ],
   "source": [
    "c = cesar(msg, 5)\n",
    "print(c)"
   ]
  },
  {
   "cell_type": "code",
   "execution_count": 173,
   "metadata": {},
   "outputs": [
    {
     "data": {
      "image/png": "[encoded data removed]",
      "text/plain": [
       "<Figure size 640x480 with 1 Axes>"
      ]
     },
     "metadata": {},
     "output_type": "display_data"
    }
   ],
   "source": [
    "istogramma_lettere(c)"
   ]
  },
  {
   "cell_type": "code",
   "execution_count": 174,
   "metadata": {},
   "outputs": [
    {
     "name": "stdout",
     "output_type": "stream",
     "text": [
      "\n",
      "TUTT'E DUE SI VOLSERO A CHI NE SAPEVA PIU' DI LORO, E DA CUI \n",
      "ASPETTAVANO UNO SCHIARIMENTO, IL QUALE NON POTEVA ESSERE CHE \n",
      "DOLOROSO: TUTT'E DUE, LASCIANDO TRAVEDERE, IN MEZZO AL DOLORE, \n",
      "E CON L'AMORE DIVERSO CHE OGNUN D'ESSI PORTAVA A LUCIA.\n",
      "\n"
     ]
    }
   ],
   "source": [
    "print(cesar(c, 21))"
   ]
  },
  {
   "cell_type": "code",
   "execution_count": 175,
   "metadata": {},
   "outputs": [],
   "source": [
    "from time import thread_time_ns"
   ]
  },
  {
   "cell_type": "code",
   "execution_count": 29,
   "metadata": {},
   "outputs": [],
   "source": [
    "N = list(range(1, 1000))\n",
    "p = ['r' if è_primo(n) else 'b' for n in N]"
   ]
  },
  {
   "cell_type": "code",
   "execution_count": 30,
   "metadata": {},
   "outputs": [
    {
     "data": {
      "text/plain": [
       "<matplotlib.collections.PathCollection at 0x7fbbf4f19150>"
      ]
     },
     "execution_count": 30,
     "metadata": {},
     "output_type": "execute_result"
    },
    {
     "data": {
      "image/png": "[encoded data removed]",
      "text/plain": [
       "<Figure size 640x480 with 1 Axes>"
      ]
     },
     "metadata": {},
     "output_type": "display_data"
    }
   ],
   "source": [
    "plt.scatter(N, [φ(n) for n in N], s = .1, color = p)"
   ]
  },
  {
   "cell_type": "code",
   "execution_count": 31,
   "metadata": {},
   "outputs": [
    {
     "data": {
      "text/plain": [
       "True"
      ]
     },
     "execution_count": 31,
     "metadata": {},
     "output_type": "execute_result"
    }
   ],
   "source": [
    "p, g = 2963, 51\n",
    "\n",
    "M = Mod(p)\n",
    "len(M[g].potenze()) == p - 1"
   ]
  },
  {
   "cell_type": "code",
   "execution_count": 32,
   "metadata": {},
   "outputs": [
    {
     "name": "stdout",
     "output_type": "stream",
     "text": [
      "[2149] [2940]\n"
     ]
    },
    {
     "data": {
      "text/plain": [
       "True"
      ]
     },
     "execution_count": 32,
     "metadata": {},
     "output_type": "execute_result"
    }
   ],
   "source": [
    "# Diffie-Hellman\n",
    "\n",
    "a, b = 123, 345\n",
    "print(M[g] ** a, M[g] ** b)\n",
    "M[2149] ** b == M[2940] ** a"
   ]
  },
  {
   "cell_type": "code",
   "execution_count": 33,
   "metadata": {},
   "outputs": [],
   "source": [
    "p, q = 55202166624234742076825422018198552545568721350927, 43045972142075202331028535612422134545369845034403\n",
    "e = 65537"
   ]
  },
  {
   "cell_type": "code",
   "execution_count": 34,
   "metadata": {},
   "outputs": [],
   "source": [
    "n = p * q\n",
    "t = (p - 1) * (q - 1)"
   ]
  },
  {
   "cell_type": "code",
   "execution_count": 35,
   "metadata": {},
   "outputs": [
    {
     "data": {
      "text/plain": [
       "701154365630284037290881701138012383299504419581543080721910924221824588942701573338487759909677721"
      ]
     },
     "execution_count": 35,
     "metadata": {},
     "output_type": "execute_result"
    }
   ],
   "source": [
    "d = (1 / Mod(t)[e]).n\n",
    "d"
   ]
  },
  {
   "cell_type": "code",
   "execution_count": 36,
   "metadata": {},
   "outputs": [],
   "source": [
    "prv = (e, n)\n",
    "pub = (d, n)"
   ]
  },
  {
   "cell_type": "code",
   "execution_count": 82,
   "metadata": {},
   "outputs": [
    {
     "data": {
      "text/plain": [
       "469458210797832631053665"
      ]
     },
     "execution_count": 82,
     "metadata": {},
     "output_type": "execute_result"
    }
   ],
   "source": [
    "m = a_numero('ciao mamma')\n",
    "m"
   ]
  },
  {
   "cell_type": "code",
   "execution_count": 83,
   "metadata": {},
   "outputs": [
    {
     "data": {
      "text/plain": [
       "1"
      ]
     },
     "execution_count": 83,
     "metadata": {},
     "output_type": "execute_result"
    }
   ],
   "source": [
    "gcd(m, n)"
   ]
  },
  {
   "cell_type": "code",
   "execution_count": 84,
   "metadata": {},
   "outputs": [],
   "source": [
    "def rsa(m, k):\n",
    "  e, n = k\n",
    "  M = Mod(n)\n",
    "  return (M[m] ** e).rappresentante()"
   ]
  },
  {
   "cell_type": "code",
   "execution_count": 85,
   "metadata": {},
   "outputs": [
    {
     "data": {
      "text/plain": [
       "362337790988074237535861064089768170086399473998055085835033461772699680270235591315186139839910519"
      ]
     },
     "execution_count": 85,
     "metadata": {},
     "output_type": "execute_result"
    }
   ],
   "source": [
    "c = rsa(m, prv)\n",
    "c"
   ]
  },
  {
   "cell_type": "code",
   "execution_count": 86,
   "metadata": {},
   "outputs": [
    {
     "data": {
      "text/plain": [
       "469458210797832631053665"
      ]
     },
     "execution_count": 86,
     "metadata": {},
     "output_type": "execute_result"
    }
   ],
   "source": [
    "mp = rsa(c, pub)\n",
    "mp"
   ]
  },
  {
   "cell_type": "code",
   "execution_count": 87,
   "metadata": {},
   "outputs": [
    {
     "data": {
      "text/plain": [
       "'ciao mamma'"
      ]
     },
     "execution_count": 87,
     "metadata": {},
     "output_type": "execute_result"
    }
   ],
   "source": [
    "da_numero(mp)"
   ]
  },
  {
   "cell_type": "code",
   "execution_count": 98,
   "metadata": {},
   "outputs": [
    {
     "data": {
      "text/plain": [
       "[99, 105, 97, 111, 32, 112, 101, 114, 99, 104, 195, 169]"
      ]
     },
     "execution_count": 98,
     "metadata": {},
     "output_type": "execute_result"
    }
   ],
   "source": [
    "from ml import * \n",
    "\n",
    "a_bytes('ciao perché')"
   ]
  },
  {
   "cell_type": "code",
   "execution_count": 81,
   "metadata": {},
   "outputs": [
    {
     "data": {
      "text/plain": [
       "'ciao perché'"
      ]
     },
     "execution_count": 81,
     "metadata": {},
     "output_type": "execute_result"
    }
   ],
   "source": [
    "da_numero(a_numero('ciao perché'))"
   ]
  }
 ],
 "metadata": {
  "kernelspec": {
   "display_name": "Python 3",
   "language": "python",
   "name": "python3"
  },
  "language_info": {
   "codemirror_mode": {
    "name": "ipython",
    "version": 3
   },
   "file_extension": ".py",
   "mimetype": "text/x-python",
   "name": "python",
   "nbconvert_exporter": "python",
   "pygments_lexer": "ipython3",
   "version": "3.10.12"
  }
 },
 "nbformat": 4,
 "nbformat_minor": 2
}
