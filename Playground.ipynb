{
 "cells": [
  {
   "cell_type": "code",
   "execution_count": 1,
   "metadata": {
    "execution": {
     "iopub.execute_input": "2023-10-24T07:36:26.943620Z",
     "iopub.status.busy": "2023-10-24T07:36:26.942941Z",
     "iopub.status.idle": "2023-10-24T07:36:27.298036Z",
     "shell.execute_reply": "2023-10-24T07:36:27.297461Z"
    }
   },
   "outputs": [],
   "source": [
    "from modandcrypt import *"
   ]
  },
  {
   "cell_type": "markdown",
   "metadata": {},
   "source": [
    "# Crittografia a chiave simmetrica\n",
    "\n",
    "## Monoalfabetica\n",
    "\n",
    "Passo passo, usando `a_posizioni` e `da_posizioni` per passare dalle lettere alle loro posizioni e `orologio_somma` per fare la somma come sull'orologio."
   ]
  },
  {
   "cell_type": "code",
   "execution_count": 2,
   "metadata": {
    "execution": {
     "iopub.execute_input": "2023-10-24T07:36:27.300290Z",
     "iopub.status.busy": "2023-10-24T07:36:27.300099Z",
     "iopub.status.idle": "2023-10-24T07:36:27.305627Z",
     "shell.execute_reply": "2023-10-24T07:36:27.305185Z"
    }
   },
   "outputs": [
    {
     "data": {
      "text/plain": [
       "'QUESTO E IN CHIARO'"
      ]
     },
     "execution_count": 2,
     "metadata": {},
     "output_type": "execute_result"
    }
   ],
   "source": [
    "p = semplifica(\"Questo è in chiaro\")\n",
    "p"
   ]
  },
  {
   "cell_type": "code",
   "execution_count": 3,
   "metadata": {
    "execution": {
     "iopub.execute_input": "2023-10-24T07:36:27.331155Z",
     "iopub.status.busy": "2023-10-24T07:36:27.330962Z",
     "iopub.status.idle": "2023-10-24T07:36:27.334587Z",
     "shell.execute_reply": "2023-10-24T07:36:27.334088Z"
    }
   },
   "outputs": [
    {
     "data": {
      "text/plain": [
       "[16, 20, 4, 18, 19, 14, 26, 4, 26, 8, 13, 26, 2, 7, 8, 0, 17, 14]"
      ]
     },
     "execution_count": 3,
     "metadata": {},
     "output_type": "execute_result"
    }
   ],
   "source": [
    "pos_p = a_posizioni(p)\n",
    "pos_p"
   ]
  },
  {
   "cell_type": "code",
   "execution_count": 4,
   "metadata": {
    "execution": {
     "iopub.execute_input": "2023-10-24T07:36:27.336360Z",
     "iopub.status.busy": "2023-10-24T07:36:27.336221Z",
     "iopub.status.idle": "2023-10-24T07:36:27.339366Z",
     "shell.execute_reply": "2023-10-24T07:36:27.339019Z"
    }
   },
   "outputs": [
    {
     "data": {
      "text/plain": [
       "'E'"
      ]
     },
     "execution_count": 4,
     "metadata": {},
     "output_type": "execute_result"
    }
   ],
   "source": [
    "k = semplifica(\"è\")\n",
    "k"
   ]
  },
  {
   "cell_type": "code",
   "execution_count": 5,
   "metadata": {
    "execution": {
     "iopub.execute_input": "2023-10-24T07:36:27.341104Z",
     "iopub.status.busy": "2023-10-24T07:36:27.340820Z",
     "iopub.status.idle": "2023-10-24T07:36:27.343491Z",
     "shell.execute_reply": "2023-10-24T07:36:27.343162Z"
    }
   },
   "outputs": [
    {
     "data": {
      "text/plain": [
       "[4]"
      ]
     },
     "execution_count": 5,
     "metadata": {},
     "output_type": "execute_result"
    }
   ],
   "source": [
    "pos_k = a_posizioni(k)\n",
    "pos_k"
   ]
  },
  {
   "cell_type": "code",
   "execution_count": 6,
   "metadata": {
    "execution": {
     "iopub.execute_input": "2023-10-24T07:36:27.345198Z",
     "iopub.status.busy": "2023-10-24T07:36:27.344915Z",
     "iopub.status.idle": "2023-10-24T07:36:27.347716Z",
     "shell.execute_reply": "2023-10-24T07:36:27.347394Z"
    }
   },
   "outputs": [
    {
     "data": {
      "text/plain": [
       "[20, 24, 8, 22, 23, 18, 2, 8, 2, 12, 17, 2, 6, 11, 12, 4, 21, 18]"
      ]
     },
     "execution_count": 6,
     "metadata": {},
     "output_type": "execute_result"
    }
   ],
   "source": [
    "pos_c = orologio_somma(pos_p, pos_k)\n",
    "pos_c"
   ]
  },
  {
   "cell_type": "code",
   "execution_count": 7,
   "metadata": {
    "execution": {
     "iopub.execute_input": "2023-10-24T07:36:27.349352Z",
     "iopub.status.busy": "2023-10-24T07:36:27.349134Z",
     "iopub.status.idle": "2023-10-24T07:36:27.351732Z",
     "shell.execute_reply": "2023-10-24T07:36:27.351407Z"
    }
   },
   "outputs": [
    {
     "data": {
      "text/plain": [
       "'UYIWXSCICMRCGLMEVS'"
      ]
     },
     "execution_count": 7,
     "metadata": {},
     "output_type": "execute_result"
    }
   ],
   "source": [
    "c = da_posizioni(pos_c)\n",
    "c"
   ]
  },
  {
   "cell_type": "code",
   "execution_count": 8,
   "metadata": {
    "execution": {
     "iopub.execute_input": "2023-10-24T07:36:27.353380Z",
     "iopub.status.busy": "2023-10-24T07:36:27.353165Z",
     "iopub.status.idle": "2023-10-24T07:36:27.355753Z",
     "shell.execute_reply": "2023-10-24T07:36:27.355430Z"
    }
   },
   "outputs": [
    {
     "data": {
      "text/plain": [
       "'Y'"
      ]
     },
     "execution_count": 8,
     "metadata": {},
     "output_type": "execute_result"
    }
   ],
   "source": [
    "k_inv = inverti(k)\n",
    "k_inv"
   ]
  },
  {
   "cell_type": "code",
   "execution_count": 9,
   "metadata": {
    "execution": {
     "iopub.execute_input": "2023-10-24T07:36:27.357482Z",
     "iopub.status.busy": "2023-10-24T07:36:27.357265Z",
     "iopub.status.idle": "2023-10-24T07:36:27.359972Z",
     "shell.execute_reply": "2023-10-24T07:36:27.359647Z"
    }
   },
   "outputs": [
    {
     "data": {
      "text/plain": [
       "'QUESTO E IN CHIARO'"
      ]
     },
     "execution_count": 9,
     "metadata": {},
     "output_type": "execute_result"
    }
   ],
   "source": [
    "k_inv_pos = a_posizioni(k_inv)\n",
    "da_posizioni(orologio_somma(pos_c, k_inv_pos))\n"
   ]
  },
  {
   "cell_type": "markdown",
   "metadata": {},
   "source": [
    "Ora in un solo passaggio con `cifra` e `decifra`:"
   ]
  },
  {
   "cell_type": "code",
   "execution_count": 10,
   "metadata": {
    "execution": {
     "iopub.execute_input": "2023-10-24T07:36:27.361801Z",
     "iopub.status.busy": "2023-10-24T07:36:27.361545Z",
     "iopub.status.idle": "2023-10-24T07:36:27.364964Z",
     "shell.execute_reply": "2023-10-24T07:36:27.364616Z"
    }
   },
   "outputs": [
    {
     "name": "stdout",
     "output_type": "stream",
     "text": [
      "┌───┬──────┬──────┬─────┬──────┬──────┬──────┬─────┬─────┬─────┬──────┬──────┬─────┬─────┬──────┬──────┬─────┬──────┬──────┐\n",
      "│ \u001b[1mp\u001b[0m │ Q:16 │ U:20 │ E:4 │ S:18 │ T:19 │ O:14 │ :26 │ E:4 │ :26 │ I:8  │ N:13 │ :26 │ C:2 │ H:7  │ I:8  │ A:0 │ R:17 │ O:14 │\n",
      "├───┼──────┼──────┼─────┼──────┼──────┼──────┼─────┼─────┼─────┼──────┼──────┼─────┼─────┼──────┼──────┼─────┼──────┼──────┤\n",
      "│ \u001b[1mk\u001b[0m │ E:4  │ E:4  │ E:4 │ E:4  │ E:4  │ E:4  │ E:4 │ E:4 │ E:4 │ E:4  │ E:4  │ E:4 │ E:4 │ E:4  │ E:4  │ E:4 │ E:4  │ E:4  │\n",
      "├───┼──────┼──────┼─────┼──────┼──────┼──────┼─────┼─────┼─────┼──────┼──────┼─────┼─────┼──────┼──────┼─────┼──────┼──────┤\n",
      "│ \u001b[1mc\u001b[0m │ U:20 │ Y:24 │ I:8 │ W:22 │ X:23 │ S:18 │ C:2 │ I:8 │ C:2 │ M:12 │ R:17 │ C:2 │ G:6 │ L:11 │ M:12 │ E:4 │ V:21 │ S:18 │\n",
      "└───┴──────┴──────┴─────┴──────┴──────┴──────┴─────┴─────┴─────┴──────┴──────┴─────┴─────┴──────┴──────┴─────┴──────┴──────┘\n"
     ]
    }
   ],
   "source": [
    "c = cifra(p, k)"
   ]
  },
  {
   "cell_type": "code",
   "execution_count": 11,
   "metadata": {
    "execution": {
     "iopub.execute_input": "2023-10-24T07:36:27.366797Z",
     "iopub.status.busy": "2023-10-24T07:36:27.366496Z",
     "iopub.status.idle": "2023-10-24T07:36:27.368702Z",
     "shell.execute_reply": "2023-10-24T07:36:27.368371Z"
    }
   },
   "outputs": [
    {
     "name": "stdout",
     "output_type": "stream",
     "text": [
      "UYIWXSCICMRCGLMEVS\n"
     ]
    }
   ],
   "source": [
    "print(c)"
   ]
  },
  {
   "cell_type": "code",
   "execution_count": 12,
   "metadata": {
    "execution": {
     "iopub.execute_input": "2023-10-24T07:36:27.370446Z",
     "iopub.status.busy": "2023-10-24T07:36:27.370191Z",
     "iopub.status.idle": "2023-10-24T07:36:27.373252Z",
     "shell.execute_reply": "2023-10-24T07:36:27.372892Z"
    }
   },
   "outputs": [
    {
     "name": "stdout",
     "output_type": "stream",
     "text": [
      "┌───┬──────┬──────┬──────┬──────┬──────┬──────┬──────┬──────┬──────┬──────┬──────┬──────┬──────┬──────┬──────┬──────┬──────┬──────┐\n",
      "│ \u001b[1mc\u001b[0m │ U:20 │ Y:24 │ I:8  │ W:22 │ X:23 │ S:18 │ C:2  │ I:8  │ C:2  │ M:12 │ R:17 │ C:2  │ G:6  │ L:11 │ M:12 │ E:4  │ V:21 │ S:18 │\n",
      "├───┼──────┼──────┼──────┼──────┼──────┼──────┼──────┼──────┼──────┼──────┼──────┼──────┼──────┼──────┼──────┼──────┼──────┼──────┤\n",
      "│ \u001b[1mk\u001b[0m │ Y:24 │ Y:24 │ Y:24 │ Y:24 │ Y:24 │ Y:24 │ Y:24 │ Y:24 │ Y:24 │ Y:24 │ Y:24 │ Y:24 │ Y:24 │ Y:24 │ Y:24 │ Y:24 │ Y:24 │ Y:24 │\n",
      "├───┼──────┼──────┼──────┼──────┼──────┼──────┼──────┼──────┼──────┼──────┼──────┼──────┼──────┼──────┼──────┼──────┼──────┼──────┤\n",
      "│ \u001b[1mp\u001b[0m │ Q:16 │ U:20 │ E:4  │ S:18 │ T:19 │ O:14 │ :26  │ E:4  │ :26  │ I:8  │ N:13 │ :26  │ C:2  │ H:7  │ I:8  │ A:0  │ R:17 │ O:14 │\n",
      "└───┴──────┴──────┴──────┴──────┴──────┴──────┴──────┴──────┴──────┴──────┴──────┴──────┴──────┴──────┴──────┴──────┴──────┴──────┘\n"
     ]
    }
   ],
   "source": [
    "p = decifra(c, k)"
   ]
  },
  {
   "cell_type": "code",
   "execution_count": 13,
   "metadata": {
    "execution": {
     "iopub.execute_input": "2023-10-24T07:36:27.375018Z",
     "iopub.status.busy": "2023-10-24T07:36:27.374786Z",
     "iopub.status.idle": "2023-10-24T07:36:27.376988Z",
     "shell.execute_reply": "2023-10-24T07:36:27.376646Z"
    }
   },
   "outputs": [
    {
     "name": "stdout",
     "output_type": "stream",
     "text": [
      "QUESTO E IN CHIARO\n"
     ]
    }
   ],
   "source": [
    "print(p)"
   ]
  },
  {
   "cell_type": "markdown",
   "metadata": {},
   "source": [
    "## Polialfabetica\n",
    "\n",
    "In realtà non cambia nulla, perché `orologio_somma` ripete tante volte la chiave quanto serve ad avere un valore per ogni lettera."
   ]
  },
  {
   "cell_type": "code",
   "execution_count": 14,
   "metadata": {
    "execution": {
     "iopub.execute_input": "2023-10-24T07:36:27.378801Z",
     "iopub.status.busy": "2023-10-24T07:36:27.378584Z",
     "iopub.status.idle": "2023-10-24T07:36:27.381765Z",
     "shell.execute_reply": "2023-10-24T07:36:27.381418Z"
    }
   },
   "outputs": [
    {
     "name": "stdout",
     "output_type": "stream",
     "text": [
      "┌───┬──────┬──────┬──────┬──────┬─────┬──────┬─────┬──────┬──────┬──────┬──────┬─────┬──────┬──────┬─────┬──────┬─────┬──────┬──────┬─────┬──────┐\n",
      "│ \u001b[1mp\u001b[0m │ C:2  │ O:14 │ S:18 │ I:8  │ :26 │ E:4  │ :26 │ P:15 │ O:14 │ L:11 │ I:8  │ A:0 │ L:11 │ F:5  │ A:0 │ B:1  │ E:4 │ T:19 │ I:8  │ C:2 │ O:14 │\n",
      "├───┼──────┼──────┼──────┼──────┼─────┼──────┼─────┼──────┼──────┼──────┼──────┼─────┼──────┼──────┼─────┼──────┼─────┼──────┼──────┼─────┼──────┤\n",
      "│ \u001b[1mk\u001b[0m │ V:21 │ E:4  │ R:17 │ M:12 │ E:4 │ V:21 │ E:4 │ R:17 │ M:12 │ E:4  │ V:21 │ E:4 │ R:17 │ M:12 │ E:4 │ V:21 │ E:4 │ R:17 │ M:12 │ E:4 │ V:21 │\n",
      "├───┼──────┼──────┼──────┼──────┼─────┼──────┼─────┼──────┼──────┼──────┼──────┼─────┼──────┼──────┼─────┼──────┼─────┼──────┼──────┼─────┼──────┤\n",
      "│ \u001b[1mc\u001b[0m │ X:23 │ S:18 │ H:7  │ U:20 │ C:2 │ Z:25 │ C:2 │ E:4  │ :26  │ P:15 │ B:1  │ E:4 │ A:0  │ R:17 │ E:4 │ W:22 │ I:8 │ I:8  │ U:20 │ G:6 │ H:7  │\n",
      "└───┴──────┴──────┴──────┴──────┴─────┴──────┴─────┴──────┴──────┴──────┴──────┴─────┴──────┴──────┴─────┴──────┴─────┴──────┴──────┴─────┴──────┘\n"
     ]
    }
   ],
   "source": [
    "c = cifra(\"Così è polialfabetico\", \"verme\")"
   ]
  },
  {
   "cell_type": "code",
   "execution_count": 15,
   "metadata": {
    "execution": {
     "iopub.execute_input": "2023-10-24T07:36:27.383519Z",
     "iopub.status.busy": "2023-10-24T07:36:27.383286Z",
     "iopub.status.idle": "2023-10-24T07:36:27.385486Z",
     "shell.execute_reply": "2023-10-24T07:36:27.385145Z"
    }
   },
   "outputs": [
    {
     "name": "stdout",
     "output_type": "stream",
     "text": [
      "XSHUCZCE PBEAREWIIUGH\n"
     ]
    }
   ],
   "source": [
    "print(c)"
   ]
  },
  {
   "cell_type": "code",
   "execution_count": 16,
   "metadata": {
    "execution": {
     "iopub.execute_input": "2023-10-24T07:36:27.387230Z",
     "iopub.status.busy": "2023-10-24T07:36:27.387000Z",
     "iopub.status.idle": "2023-10-24T07:36:27.390202Z",
     "shell.execute_reply": "2023-10-24T07:36:27.389854Z"
    }
   },
   "outputs": [
    {
     "name": "stdout",
     "output_type": "stream",
     "text": [
      "┌───┬──────┬──────┬──────┬──────┬──────┬──────┬──────┬──────┬──────┬──────┬─────┬──────┬──────┬──────┬──────┬──────┬──────┬──────┬──────┬──────┬──────┐\n",
      "│ \u001b[1mc\u001b[0m │ X:23 │ S:18 │ H:7  │ U:20 │ C:2  │ Z:25 │ C:2  │ E:4  │ :26  │ P:15 │ B:1 │ E:4  │ A:0  │ R:17 │ E:4  │ W:22 │ I:8  │ I:8  │ U:20 │ G:6  │ H:7  │\n",
      "├───┼──────┼──────┼──────┼──────┼──────┼──────┼──────┼──────┼──────┼──────┼─────┼──────┼──────┼──────┼──────┼──────┼──────┼──────┼──────┼──────┼──────┤\n",
      "│ \u001b[1mk\u001b[0m │ H:7  │ Y:24 │ L:11 │ Q:16 │ Y:24 │ H:7  │ Y:24 │ L:11 │ Q:16 │ Y:24 │ H:7 │ Y:24 │ L:11 │ Q:16 │ Y:24 │ H:7  │ Y:24 │ L:11 │ Q:16 │ Y:24 │ H:7  │\n",
      "├───┼──────┼──────┼──────┼──────┼──────┼──────┼──────┼──────┼──────┼──────┼─────┼──────┼──────┼──────┼──────┼──────┼──────┼──────┼──────┼──────┼──────┤\n",
      "│ \u001b[1mp\u001b[0m │ C:2  │ O:14 │ S:18 │ I:8  │ :26  │ E:4  │ :26  │ P:15 │ O:14 │ L:11 │ I:8 │ A:0  │ L:11 │ F:5  │ A:0  │ B:1  │ E:4  │ T:19 │ I:8  │ C:2  │ O:14 │\n",
      "└───┴──────┴──────┴──────┴──────┴──────┴──────┴──────┴──────┴──────┴──────┴─────┴──────┴──────┴──────┴──────┴──────┴──────┴──────┴──────┴──────┴──────┘\n"
     ]
    }
   ],
   "source": [
    "p = decifra(c, \"verme\")"
   ]
  },
  {
   "cell_type": "code",
   "execution_count": 17,
   "metadata": {
    "execution": {
     "iopub.execute_input": "2023-10-24T07:36:27.391925Z",
     "iopub.status.busy": "2023-10-24T07:36:27.391707Z",
     "iopub.status.idle": "2023-10-24T07:36:27.393916Z",
     "shell.execute_reply": "2023-10-24T07:36:27.393581Z"
    }
   },
   "outputs": [
    {
     "name": "stdout",
     "output_type": "stream",
     "text": [
      "COSI E POLIALFABETICO\n"
     ]
    }
   ],
   "source": [
    "print(p)"
   ]
  },
  {
   "cell_type": "markdown",
   "metadata": {},
   "source": [
    "# Crittoanalisi\n",
    "\n",
    "Proviamo con l'inglese, sempre usando [Project Gutenberg](https://dev.gutenberg.org/)."
   ]
  },
  {
   "cell_type": "code",
   "execution_count": 18,
   "metadata": {
    "execution": {
     "iopub.execute_input": "2023-10-24T07:36:27.395684Z",
     "iopub.status.busy": "2023-10-24T07:36:27.395465Z",
     "iopub.status.idle": "2023-10-24T07:36:28.118671Z",
     "shell.execute_reply": "2023-10-24T07:36:28.117865Z"
    }
   },
   "outputs": [],
   "source": [
    "HAMLET = da_gutenberg('https://dev.gutenberg.org/cache/epub/1524/pg1524.txt')"
   ]
  },
  {
   "cell_type": "code",
   "execution_count": 19,
   "metadata": {
    "execution": {
     "iopub.execute_input": "2023-10-24T07:36:28.121666Z",
     "iopub.status.busy": "2023-10-24T07:36:28.121424Z",
     "iopub.status.idle": "2023-10-24T07:36:28.291562Z",
     "shell.execute_reply": "2023-10-24T07:36:28.291115Z"
    }
   },
   "outputs": [
    {
     "data": {
      "image/png": "[encoded data removed]",
      "text/plain": [
       "<Figure size 640x480 with 1 Axes>"
      ]
     },
     "metadata": {},
     "output_type": "display_data"
    }
   ],
   "source": [
    "hist = istogramma_lettere(HAMLET)"
   ]
  },
  {
   "cell_type": "code",
   "execution_count": 20,
   "metadata": {
    "execution": {
     "iopub.execute_input": "2023-10-24T07:36:28.293851Z",
     "iopub.status.busy": "2023-10-24T07:36:28.293663Z",
     "iopub.status.idle": "2023-10-24T07:36:28.296924Z",
     "shell.execute_reply": "2023-10-24T07:36:28.296517Z"
    }
   },
   "outputs": [
    {
     "data": {
      "text/plain": [
       "[(' ', 30239), ('E', 17543), ('T', 13979)]"
      ]
     },
     "execution_count": 20,
     "metadata": {},
     "output_type": "execute_result"
    }
   ],
   "source": [
    "hist.most_common(3)"
   ]
  },
  {
   "cell_type": "code",
   "execution_count": 21,
   "metadata": {
    "execution": {
     "iopub.execute_input": "2023-10-24T07:36:28.299012Z",
     "iopub.status.busy": "2023-10-24T07:36:28.298841Z",
     "iopub.status.idle": "2023-10-24T07:36:28.301728Z",
     "shell.execute_reply": "2023-10-24T07:36:28.301320Z"
    }
   },
   "outputs": [
    {
     "data": {
      "text/plain": [
       "[4]"
      ]
     },
     "execution_count": 21,
     "metadata": {},
     "output_type": "execute_result"
    }
   ],
   "source": [
    "# Tra le posizioni più comuni c'è quella di 'E' che vale 4\n",
    "\n",
    "a_posizioni('E')"
   ]
  },
  {
   "cell_type": "code",
   "execution_count": 22,
   "metadata": {
    "execution": {
     "iopub.execute_input": "2023-10-24T07:36:28.303915Z",
     "iopub.status.busy": "2023-10-24T07:36:28.303610Z",
     "iopub.status.idle": "2023-10-24T07:36:28.306155Z",
     "shell.execute_reply": "2023-10-24T07:36:28.305743Z"
    }
   },
   "outputs": [],
   "source": [
    "p = semplifica(\"\"\"\n",
    "To be, or not to be, that is the question:\n",
    "Whether ’tis nobler in the mind to suffer\n",
    "The slings and arrows of outrageous fortune,\n",
    "Or to take arms against a sea of troubles,\n",
    "And by opposing end them? To die—to sleep,\n",
    "No more; and by a sleep to say we end\n",
    "The heart-ache, and the thousand natural shocks\n",
    "That flesh is heir to: ’tis a consummation\n",
    "Devoutly to be wish’d. To die, to sleep.\n",
    "\"\"\")"
   ]
  },
  {
   "cell_type": "code",
   "execution_count": 23,
   "metadata": {
    "execution": {
     "iopub.execute_input": "2023-10-24T07:36:28.308236Z",
     "iopub.status.busy": "2023-10-24T07:36:28.308011Z",
     "iopub.status.idle": "2023-10-24T07:36:28.310348Z",
     "shell.execute_reply": "2023-10-24T07:36:28.309938Z"
    }
   },
   "outputs": [],
   "source": [
    "k = 'X'\n",
    "c = da_posizioni(orologio_somma(a_posizioni(p), a_posizioni(k)))"
   ]
  },
  {
   "cell_type": "code",
   "execution_count": 24,
   "metadata": {
    "execution": {
     "iopub.execute_input": "2023-10-24T07:36:28.312418Z",
     "iopub.status.busy": "2023-10-24T07:36:28.312194Z",
     "iopub.status.idle": "2023-10-24T07:36:28.430189Z",
     "shell.execute_reply": "2023-10-24T07:36:28.429663Z"
    }
   },
   "outputs": [
    {
     "data": {
      "image/png": "[encoded data removed]",
      "text/plain": [
       "<Figure size 640x480 with 1 Axes>"
      ]
     },
     "metadata": {},
     "output_type": "display_data"
    }
   ],
   "source": [
    "hist_c = istogramma_lettere(c)"
   ]
  },
  {
   "cell_type": "code",
   "execution_count": 25,
   "metadata": {
    "execution": {
     "iopub.execute_input": "2023-10-24T07:36:28.432353Z",
     "iopub.status.busy": "2023-10-24T07:36:28.432160Z",
     "iopub.status.idle": "2023-10-24T07:36:28.435645Z",
     "shell.execute_reply": "2023-10-24T07:36:28.435303Z"
    }
   },
   "outputs": [
    {
     "data": {
      "text/plain": [
       "[21, 14, 27]"
      ]
     },
     "execution_count": 25,
     "metadata": {},
     "output_type": "execute_result"
    }
   ],
   "source": [
    "# le tre posizioni più comuni nel testo cifrato\n",
    "\n",
    "mc = a_posizioni(''.join(c for c, n in hist_c.most_common(3)))\n",
    "mc "
   ]
  },
  {
   "cell_type": "code",
   "execution_count": 26,
   "metadata": {
    "execution": {
     "iopub.execute_input": "2023-10-24T07:36:28.437803Z",
     "iopub.status.busy": "2023-10-24T07:36:28.437474Z",
     "iopub.status.idle": "2023-10-24T07:36:28.440833Z",
     "shell.execute_reply": "2023-10-24T07:36:28.440353Z"
    }
   },
   "outputs": [
    {
     "name": "stdout",
     "output_type": "stream",
     "text": [
      "11 FZUEHKEUXETUZEZUEHKEZNGZEOYEZNKEW␢KYZOUT\n",
      "18 ME↩LORL↩CL␢↩ELE↩LORLEUNELVDLEURLBFRDEV↩␢\n",
      "5 ↩TO␢BE␢OR␢NOT␢TO␢BE␢THAT␢IS␢THE␢QUESTION\n"
     ]
    }
   ],
   "source": [
    "for x in mc:\n",
    "  inv_k = len(SEMPLICI) + 4 - x \n",
    "  print(inv_k, a_visualizzazione(da_posizioni(orologio_somma(a_posizioni(c), [inv_k])))[:40])"
   ]
  },
  {
   "cell_type": "code",
   "execution_count": 27,
   "metadata": {
    "execution": {
     "iopub.execute_input": "2023-10-24T07:36:28.442939Z",
     "iopub.status.busy": "2023-10-24T07:36:28.442690Z",
     "iopub.status.idle": "2023-10-24T07:36:28.445271Z",
     "shell.execute_reply": "2023-10-24T07:36:28.444885Z"
    }
   },
   "outputs": [
    {
     "name": "stdout",
     "output_type": "stream",
     "text": [
      "\n",
      "TO BE OR NOT TO BE THAT IS THE QUESTION\n",
      "WHETHER TIS NOBLER IN THE MIND TO SUFFER\n",
      "THE SLINGS AND ARROWS OF OUTRAGEOUS FORTUNE\n",
      "OR TO TAKE ARMS AGAINST A SEA OF TROUBLES\n",
      "AND BY OPPOSING END THEM TO DIETO SLEEP\n",
      "NO MORE AND BY A SLEEP TO SAY WE END\n",
      "THE HEARTACHE AND THE THOUSAND NATURAL SHOCKS\n",
      "THAT FLESH IS HEIR TO TIS A CONSUMMATION\n",
      "DEVOUTLY TO BE WISHD TO DIE TO SLEEP\n",
      "\n"
     ]
    }
   ],
   "source": [
    "# 5 è la chiave inversa che funziona! \n",
    "\n",
    "print(da_posizioni(orologio_somma(a_posizioni(c), [5])))"
   ]
  },
  {
   "cell_type": "markdown",
   "metadata": {},
   "source": [
    "# Crittografia a chiave asimmetrica\n",
    "\n",
    "Per prima cosa proviamo a capire come fare a tradurre un testo in un intero."
   ]
  },
  {
   "cell_type": "code",
   "execution_count": 28,
   "metadata": {
    "execution": {
     "iopub.execute_input": "2023-10-24T07:36:28.447480Z",
     "iopub.status.busy": "2023-10-24T07:36:28.447229Z",
     "iopub.status.idle": "2023-10-24T07:36:28.450202Z",
     "shell.execute_reply": "2023-10-24T07:36:28.449796Z"
    }
   },
   "outputs": [
    {
     "data": {
      "text/plain": [
       "[115, 104, 97, 108, 108, 32, 100, 111]"
      ]
     },
     "execution_count": 28,
     "metadata": {},
     "output_type": "execute_result"
    }
   ],
   "source": [
    "p = 'shall do'\n",
    "a_bytes(p)"
   ]
  },
  {
   "cell_type": "markdown",
   "metadata": {},
   "source": [
    "Comportiamoci come se fosse un numero in base 256"
   ]
  },
  {
   "cell_type": "code",
   "execution_count": 29,
   "metadata": {
    "execution": {
     "iopub.execute_input": "2023-10-24T07:36:28.452351Z",
     "iopub.status.busy": "2023-10-24T07:36:28.452070Z",
     "iopub.status.idle": "2023-10-24T07:36:28.455257Z",
     "shell.execute_reply": "2023-10-24T07:36:28.454852Z"
    }
   },
   "outputs": [
    {
     "data": {
      "text/plain": [
       "8316003830238045295"
      ]
     },
     "execution_count": 29,
     "metadata": {},
     "output_type": "execute_result"
    }
   ],
   "source": [
    "num = 0\n",
    "for b in a_bytes(p):\n",
    "  num = num * 256 + b\n",
    "m = num\n",
    "m"
   ]
  },
  {
   "cell_type": "markdown",
   "metadata": {},
   "source": [
    "Al contrario con moduli e divisioni, possiamo recuperare i byte ­— ma dobbiamo girare il risultato finale!"
   ]
  },
  {
   "cell_type": "code",
   "execution_count": 30,
   "metadata": {
    "execution": {
     "iopub.execute_input": "2023-10-24T07:36:28.457350Z",
     "iopub.status.busy": "2023-10-24T07:36:28.457181Z",
     "iopub.status.idle": "2023-10-24T07:36:28.460473Z",
     "shell.execute_reply": "2023-10-24T07:36:28.460069Z"
    }
   },
   "outputs": [
    {
     "data": {
      "text/plain": [
       "[115, 104, 97, 108, 108, 32, 100, 111]"
      ]
     },
     "execution_count": 30,
     "metadata": {},
     "output_type": "execute_result"
    }
   ],
   "source": [
    "b = []\n",
    "while num > 0:\n",
    "  b.append(num % 256)\n",
    "  num = num // 256\n",
    "b[::-1]"
   ]
  },
  {
   "cell_type": "markdown",
   "metadata": {},
   "source": [
    "Per costruire le chiavi privata e pubblica ci vogliono 2 primi grandi"
   ]
  },
  {
   "cell_type": "code",
   "execution_count": 31,
   "metadata": {
    "execution": {
     "iopub.execute_input": "2023-10-24T07:36:28.462656Z",
     "iopub.status.busy": "2023-10-24T07:36:28.462428Z",
     "iopub.status.idle": "2023-10-24T07:36:28.464635Z",
     "shell.execute_reply": "2023-10-24T07:36:28.464228Z"
    }
   },
   "outputs": [],
   "source": [
    "p = 1000000005713\t\n",
    "q = 1000000005721\n",
    "n = p * q"
   ]
  },
  {
   "cell_type": "markdown",
   "metadata": {},
   "source": [
    "Si può scegliere $e$ anche molto piccola, ma deve essere coprima con $\\varphi(n)$"
   ]
  },
  {
   "cell_type": "code",
   "execution_count": 32,
   "metadata": {
    "execution": {
     "iopub.execute_input": "2023-10-24T07:36:28.466510Z",
     "iopub.status.busy": "2023-10-24T07:36:28.466282Z",
     "iopub.status.idle": "2023-10-24T07:36:28.468509Z",
     "shell.execute_reply": "2023-10-24T07:36:28.468102Z"
    }
   },
   "outputs": [],
   "source": [
    "φ = (p - 1) * (q - 1)"
   ]
  },
  {
   "cell_type": "code",
   "execution_count": 33,
   "metadata": {
    "execution": {
     "iopub.execute_input": "2023-10-24T07:36:28.470301Z",
     "iopub.status.busy": "2023-10-24T07:36:28.470021Z",
     "iopub.status.idle": "2023-10-24T07:36:28.473214Z",
     "shell.execute_reply": "2023-10-24T07:36:28.472797Z"
    }
   },
   "outputs": [
    {
     "data": {
      "text/plain": [
       "7"
      ]
     },
     "execution_count": 33,
     "metadata": {},
     "output_type": "execute_result"
    }
   ],
   "source": [
    "# cerco un e che sia coprimo con φ\n",
    "\n",
    "for e in range(3, φ):\n",
    "  if MCD(e, φ) == 1: break\n",
    "e"
   ]
  },
  {
   "cell_type": "markdown",
   "metadata": {},
   "source": [
    "Ora si può ricavare $d$ calcolando l'inverso di $e$ modulo $\\varphi(n)$ (chiamaremo `Mφ` questo modulo)"
   ]
  },
  {
   "cell_type": "code",
   "execution_count": 34,
   "metadata": {
    "execution": {
     "iopub.execute_input": "2023-10-24T07:36:28.475114Z",
     "iopub.status.busy": "2023-10-24T07:36:28.474797Z",
     "iopub.status.idle": "2023-10-24T07:36:28.478030Z",
     "shell.execute_reply": "2023-10-24T07:36:28.477624Z"
    }
   },
   "outputs": [
    {
     "data": {
      "text/plain": [
       "428571433470857156859703"
      ]
     },
     "execution_count": 34,
     "metadata": {},
     "output_type": "execute_result"
    }
   ],
   "source": [
    "# calcolo d\n",
    "\n",
    "Mφ = Mod(φ)\n",
    "d = (Mφ[e] ** (-1)).rappresentante()\n",
    "d"
   ]
  },
  {
   "cell_type": "markdown",
   "metadata": {},
   "source": [
    "Cifriamo e decifriamo con le chiavi pubblica e privata"
   ]
  },
  {
   "cell_type": "code",
   "execution_count": 35,
   "metadata": {
    "execution": {
     "iopub.execute_input": "2023-10-24T07:36:28.479868Z",
     "iopub.status.busy": "2023-10-24T07:36:28.479589Z",
     "iopub.status.idle": "2023-10-24T07:36:28.482636Z",
     "shell.execute_reply": "2023-10-24T07:36:28.482231Z"
    }
   },
   "outputs": [
    {
     "data": {
      "text/plain": [
       "(True, True)"
      ]
     },
     "execution_count": 35,
     "metadata": {},
     "output_type": "execute_result"
    }
   ],
   "source": [
    "MCD(m, n) == 1, m < n"
   ]
  },
  {
   "cell_type": "markdown",
   "metadata": {},
   "source": [
    "Ora abbiamo bisogno di ragonare modulo $n$, chiamiamo `Mn` questo modulo, da non confondere con `Mφ`!"
   ]
  },
  {
   "cell_type": "code",
   "execution_count": 36,
   "metadata": {
    "execution": {
     "iopub.execute_input": "2023-10-24T07:36:28.484486Z",
     "iopub.status.busy": "2023-10-24T07:36:28.484208Z",
     "iopub.status.idle": "2023-10-24T07:36:28.487200Z",
     "shell.execute_reply": "2023-10-24T07:36:28.486794Z"
    }
   },
   "outputs": [
    {
     "data": {
      "text/plain": [
       "[580701743569890406626285]"
      ]
     },
     "execution_count": 36,
     "metadata": {},
     "output_type": "execute_result"
    }
   ],
   "source": [
    "Mn = Mod(n)\n",
    "\n",
    "Mn[m] ** e"
   ]
  },
  {
   "cell_type": "code",
   "execution_count": 37,
   "metadata": {
    "execution": {
     "iopub.execute_input": "2023-10-24T07:36:28.489063Z",
     "iopub.status.busy": "2023-10-24T07:36:28.488776Z",
     "iopub.status.idle": "2023-10-24T07:36:28.491791Z",
     "shell.execute_reply": "2023-10-24T07:36:28.491389Z"
    }
   },
   "outputs": [
    {
     "data": {
      "text/plain": [
       "[8316003830238045295]"
      ]
     },
     "execution_count": 37,
     "metadata": {},
     "output_type": "execute_result"
    }
   ],
   "source": [
    "Mn[580701743569890406626285] ** d"
   ]
  },
  {
   "cell_type": "code",
   "execution_count": 38,
   "metadata": {
    "execution": {
     "iopub.execute_input": "2023-10-24T07:36:28.493569Z",
     "iopub.status.busy": "2023-10-24T07:36:28.493288Z",
     "iopub.status.idle": "2023-10-24T07:36:28.496133Z",
     "shell.execute_reply": "2023-10-24T07:36:28.495728Z"
    }
   },
   "outputs": [
    {
     "data": {
      "text/plain": [
       "8316003830238045295"
      ]
     },
     "execution_count": 38,
     "metadata": {},
     "output_type": "execute_result"
    }
   ],
   "source": [
    "m"
   ]
  }
 ],
 "metadata": {
  "kernelspec": {
   "display_name": "Python 3",
   "language": "python",
   "name": "python3"
  },
  "language_info": {
   "codemirror_mode": {
    "name": "ipython",
    "version": 3
   },
   "file_extension": ".py",
   "mimetype": "text/x-python",
   "name": "python",
   "nbconvert_exporter": "python",
   "pygments_lexer": "ipython3",
   "version": "3.10.12"
  }
 },
 "nbformat": 4,
 "nbformat_minor": 2
}
